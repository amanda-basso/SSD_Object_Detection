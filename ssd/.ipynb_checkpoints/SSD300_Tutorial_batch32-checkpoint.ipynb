{
 "cells": [
  {
   "cell_type": "markdown",
   "metadata": {},
   "source": [
    "# Weight Sampling Tutorial\n",
    "\n",
    "If you want to fine-tune one of the trained original SSD models on your own dataset, chances are that your dataset doesn't have the same number of classes as the trained model you're trying to fine-tune.\n",
    "\n",
    "This notebook explains a few options for how to deal with this situation. In particular, one solution is to sub-sample (or up-sample) the weight tensors of all the classification layers so that their shapes correspond to the number of classes in your dataset.\n",
    "\n",
    "This notebook explains how this is done."
   ]
  },
  {
   "cell_type": "markdown",
   "metadata": {},
   "source": [
    "## 0. Our example\n",
    "\n",
    "I'll use a concrete example to make the process clear, but of course the process explained here is the same for any dataset.\n",
    "\n",
    "Consider the following example. You have a dataset of microscopy images. Let this dataset contain annotations for the following object class of interest:\n",
    "\n",
    "`['cell']`\n",
    "\n",
    "That is, your dataset contains annotations for only 1 object class.\n",
    "\n",
    "You would now like to train an SSD300 on this dataset. However, instead of going through all the trouble of training a new model from scratch, you would instead like to use the fully trained original SSD300 model that was trained on MS COCO and fine-tune it on your dataset.\n",
    "\n",
    "The problem is: The SSD300 that was trained on MS COCO predicts 80 different classes, but your dataset has only 1 class. The weight tensors of the classification layers of the MS COCO model don't have the right shape for your model that is supposed to learn only 1 class. Bummer.\n",
    "\n",
    "So what options do we have?\n",
    "\n",
    "### Option 1: Just ignore the fact that we need only 1 class\n",
    "\n",
    "The maybe not so obvious but totally obvious option is: We could just ignore the fact that the trained MS COCO model predicts 80 different classes, but we only want to fine-tune it on 1 class. We could simply map the 1 class in our annotated dataset to any 1 indice out of the 80 that the MS COCO model predicts. The class ID in our dataset could be any one out of the 80. Whatever we would choose it to be, the point is that we would be training only 1 out of every 80 neurons that predict the class for a given box and the other 79 would simply not be trained. Nothing would happen to them, because the gradient for them would always be zero, because these indices don't appear in our dataset.\n",
    "\n",
    "This would work, and it wouldn't even be a terrible option. Since only 1 out of the 80 classes would get trained, the model might get gradually worse at predicting the other 79 clases, but we don't care about them anyway, at least not right now. And if we ever realize that we now want to predict more than 1 different class, our model would be expandable in that sense. Any new class we want to add could just get any one of the remaining free indices as its ID. We wouldn't need to change anything about the model, it would just be a matter of having the dataset annotated accordingly.\n",
    "\n",
    "Still, in this example we don't want to take this route. We don't want to carry around the computational overhead of having overly complex classifier layers, 90 percent of which we don't use anyway, but still their whole output needs to be computed in every forward pass.\n",
    "\n",
    "So what else could we do instead?\n",
    "\n",
    "### Option 2: Just ignore those weights that are causing problems\n",
    "\n",
    "We could build a new SSD300 with 1 class and load into it the weights of the MS COCO SSD300 for all layers except the classification layers. Would that work? Yes, that would work. The only conflict is with the weights of the classification layers, and we can avoid this conflict by simply ignoring them. While this solution would be easy, it has a significant downside: If we're not loading trained weights for the classification layers of our new SSD300 model, then they will be initialized randomly. We'd still benefit from the trained weights for all the other layers, but the classifier layers would need to be trained from scratch.\n",
    "\n",
    "Not the end of the world, but we like pre-trained stuff, because it saves us a lot of training time. So what else could we do?\n",
    "\n",
    "### Option 3: Sub-sample the weights that are causing problems\n",
    "\n",
    "Instead of throwing the problematic weights away like in option 2, we could also sub-sample them. If the weight tensors of the classification layers of the MS COCO model don't have the right shape for our new model, we'll just **make** them have the right shape. This way we can still benefit from the pre-trained weights in those classification layers. Seems much better than option 2.\n",
    "\n",
    "If MS COCO happens to contain all the classes that we care about, then we can sub-sample the weight tensors of the classification layers and we won't just do so randomly. Instead, we'll pick exactly those elements from the tensor that are responsible for the classification of the _n_ classes that we care about.\n",
    "\n",
    "However, even if the classes in your dataset were entirely different from the classes in any of the fully trained models, it would still make a lot of sense to use the weights of the fully trained model. Any trained weights are always a better starting point for the training than random initialization, even if your model will be trained on entirely different object classes.\n",
    "\n",
    "And of course, in case you happen to have the opposite problem, where your dataset has **more** classes than the trained model you would like to fine-tune, then you can simply do the same thing in the opposite direction: Instead of sub-sampling the classification layer weights, you would then **up-sample** them. Works just the same way as what we'll be doing below.\n",
    "\n",
    "Let's get to it."
   ]
  },
  {
   "cell_type": "code",
   "execution_count": 1,
   "metadata": {},
   "outputs": [],
   "source": [
    "import h5py\n",
    "import numpy as np\n",
    "import shutil\n",
    "\n",
    "from misc_utils.tensor_sampling_utils import sample_tensors"
   ]
  },
  {
   "cell_type": "markdown",
   "metadata": {},
   "source": [
    "## 1. Load the trained weights file and make a copy\n",
    "\n",
    "First, we'll load the HDF5 file that contains the trained weights that we need (the source file). In our case this is \"`VGG_coco_SSD_300x300_iter_400000.h5`\" (download link available in the README of this repo), which are the weights of the original SSD300 model that was trained on MS COCO.\n",
    "\n",
    "Then, we'll make a copy of that weights file. That copy will be our output file (the destination file)."
   ]
  },
  {
   "cell_type": "code",
   "execution_count": 2,
   "metadata": {},
   "outputs": [
    {
     "data": {
      "text/plain": [
       "'VGG_coco_SSD_300x300_iter_400000_subsampled_1_class.h5'"
      ]
     },
     "execution_count": 2,
     "metadata": {},
     "output_type": "execute_result"
    }
   ],
   "source": [
    "# TODO: Set the path for the source weights file you want to load.\n",
    "weights_source_path = 'VGG_coco_SSD_300x300_iter_400000.h5'\n",
    "\n",
    "# TODO: Set the path and name for the destination weights file\n",
    "#       that you want to create.\n",
    "weights_destination_path = 'VGG_coco_SSD_300x300_iter_400000_subsampled_1_class.h5'\n",
    "\n",
    "# Make a copy of the weights file.\n",
    "shutil.copy(weights_source_path, weights_destination_path)"
   ]
  },
  {
   "cell_type": "code",
   "execution_count": 3,
   "metadata": {},
   "outputs": [
    {
     "ename": "OSError",
     "evalue": "Unable to create file (unable to open file: name = 'VGG_coco_SSD_300x300_iter_400000_subsampled_1_class.h5', errno = 17, error message = 'File exists', flags = 15, o_flags = c2)",
     "output_type": "error",
     "traceback": [
      "\u001b[0;31m---------------------------------------------------------------------------\u001b[0m",
      "\u001b[0;31mOSError\u001b[0m                                   Traceback (most recent call last)",
      "\u001b[0;32m~/Amanda/ic/lib/python3.6/site-packages/h5py/_hl/files.py\u001b[0m in \u001b[0;36mmake_fid\u001b[0;34m(name, mode, userblock_size, fapl, fcpl, swmr)\u001b[0m\n\u001b[1;32m    189\u001b[0m         \u001b[0;32mtry\u001b[0m\u001b[0;34m:\u001b[0m\u001b[0;34m\u001b[0m\u001b[0;34m\u001b[0m\u001b[0m\n\u001b[0;32m--> 190\u001b[0;31m             \u001b[0mfid\u001b[0m \u001b[0;34m=\u001b[0m \u001b[0mh5f\u001b[0m\u001b[0;34m.\u001b[0m\u001b[0mopen\u001b[0m\u001b[0;34m(\u001b[0m\u001b[0mname\u001b[0m\u001b[0;34m,\u001b[0m \u001b[0mh5f\u001b[0m\u001b[0;34m.\u001b[0m\u001b[0mACC_RDWR\u001b[0m\u001b[0;34m,\u001b[0m \u001b[0mfapl\u001b[0m\u001b[0;34m=\u001b[0m\u001b[0mfapl\u001b[0m\u001b[0;34m)\u001b[0m\u001b[0;34m\u001b[0m\u001b[0;34m\u001b[0m\u001b[0m\n\u001b[0m\u001b[1;32m    191\u001b[0m         \u001b[0;32mexcept\u001b[0m \u001b[0mIOError\u001b[0m\u001b[0;34m:\u001b[0m\u001b[0;34m\u001b[0m\u001b[0;34m\u001b[0m\u001b[0m\n",
      "\u001b[0;32mh5py/_objects.pyx\u001b[0m in \u001b[0;36mh5py._objects.with_phil.wrapper\u001b[0;34m()\u001b[0m\n",
      "\u001b[0;32mh5py/_objects.pyx\u001b[0m in \u001b[0;36mh5py._objects.with_phil.wrapper\u001b[0;34m()\u001b[0m\n",
      "\u001b[0;32mh5py/h5f.pyx\u001b[0m in \u001b[0;36mh5py.h5f.open\u001b[0;34m()\u001b[0m\n",
      "\u001b[0;31mOSError\u001b[0m: Unable to open file (unable to lock file, errno = 11, error message = 'Resource temporarily unavailable')",
      "\nDuring handling of the above exception, another exception occurred:\n",
      "\u001b[0;31mOSError\u001b[0m                                   Traceback (most recent call last)",
      "\u001b[0;32m~/Amanda/ic/lib/python3.6/site-packages/h5py/_hl/files.py\u001b[0m in \u001b[0;36mmake_fid\u001b[0;34m(name, mode, userblock_size, fapl, fcpl, swmr)\u001b[0m\n\u001b[1;32m    192\u001b[0m             \u001b[0;32mtry\u001b[0m\u001b[0;34m:\u001b[0m\u001b[0;34m\u001b[0m\u001b[0;34m\u001b[0m\u001b[0m\n\u001b[0;32m--> 193\u001b[0;31m                 \u001b[0mfid\u001b[0m \u001b[0;34m=\u001b[0m \u001b[0mh5f\u001b[0m\u001b[0;34m.\u001b[0m\u001b[0mopen\u001b[0m\u001b[0;34m(\u001b[0m\u001b[0mname\u001b[0m\u001b[0;34m,\u001b[0m \u001b[0mh5f\u001b[0m\u001b[0;34m.\u001b[0m\u001b[0mACC_RDONLY\u001b[0m\u001b[0;34m,\u001b[0m \u001b[0mfapl\u001b[0m\u001b[0;34m=\u001b[0m\u001b[0mfapl\u001b[0m\u001b[0;34m)\u001b[0m\u001b[0;34m\u001b[0m\u001b[0;34m\u001b[0m\u001b[0m\n\u001b[0m\u001b[1;32m    194\u001b[0m             \u001b[0;32mexcept\u001b[0m \u001b[0mIOError\u001b[0m\u001b[0;34m:\u001b[0m\u001b[0;34m\u001b[0m\u001b[0;34m\u001b[0m\u001b[0m\n",
      "\u001b[0;32mh5py/_objects.pyx\u001b[0m in \u001b[0;36mh5py._objects.with_phil.wrapper\u001b[0;34m()\u001b[0m\n",
      "\u001b[0;32mh5py/_objects.pyx\u001b[0m in \u001b[0;36mh5py._objects.with_phil.wrapper\u001b[0;34m()\u001b[0m\n",
      "\u001b[0;32mh5py/h5f.pyx\u001b[0m in \u001b[0;36mh5py.h5f.open\u001b[0;34m()\u001b[0m\n",
      "\u001b[0;31mOSError\u001b[0m: Unable to open file (unable to lock file, errno = 11, error message = 'Resource temporarily unavailable')",
      "\nDuring handling of the above exception, another exception occurred:\n",
      "\u001b[0;31mOSError\u001b[0m                                   Traceback (most recent call last)",
      "\u001b[0;32m<ipython-input-3-eb6dc0be3b70>\u001b[0m in \u001b[0;36m<module>\u001b[0;34m\u001b[0m\n\u001b[1;32m      2\u001b[0m \u001b[0;31m# We will load the original weights file in read-only mode so that we can't mess up anything.\u001b[0m\u001b[0;34m\u001b[0m\u001b[0;34m\u001b[0m\u001b[0;34m\u001b[0m\u001b[0m\n\u001b[1;32m      3\u001b[0m \u001b[0mweights_source_file\u001b[0m \u001b[0;34m=\u001b[0m \u001b[0mh5py\u001b[0m\u001b[0;34m.\u001b[0m\u001b[0mFile\u001b[0m\u001b[0;34m(\u001b[0m\u001b[0mweights_source_path\u001b[0m\u001b[0;34m,\u001b[0m \u001b[0;34m'r'\u001b[0m\u001b[0;34m)\u001b[0m\u001b[0;34m\u001b[0m\u001b[0;34m\u001b[0m\u001b[0m\n\u001b[0;32m----> 4\u001b[0;31m \u001b[0mweights_destination_file\u001b[0m \u001b[0;34m=\u001b[0m \u001b[0mh5py\u001b[0m\u001b[0;34m.\u001b[0m\u001b[0mFile\u001b[0m\u001b[0;34m(\u001b[0m\u001b[0mweights_destination_path\u001b[0m\u001b[0;34m)\u001b[0m\u001b[0;34m\u001b[0m\u001b[0;34m\u001b[0m\u001b[0m\n\u001b[0m",
      "\u001b[0;32m~/Amanda/ic/lib/python3.6/site-packages/h5py/_hl/files.py\u001b[0m in \u001b[0;36m__init__\u001b[0;34m(self, name, mode, driver, libver, userblock_size, swmr, rdcc_nslots, rdcc_nbytes, rdcc_w0, track_order, **kwds)\u001b[0m\n\u001b[1;32m    392\u001b[0m                 fid = make_fid(name, mode, userblock_size,\n\u001b[1;32m    393\u001b[0m                                \u001b[0mfapl\u001b[0m\u001b[0;34m,\u001b[0m \u001b[0mfcpl\u001b[0m\u001b[0;34m=\u001b[0m\u001b[0mmake_fcpl\u001b[0m\u001b[0;34m(\u001b[0m\u001b[0mtrack_order\u001b[0m\u001b[0;34m=\u001b[0m\u001b[0mtrack_order\u001b[0m\u001b[0;34m)\u001b[0m\u001b[0;34m,\u001b[0m\u001b[0;34m\u001b[0m\u001b[0;34m\u001b[0m\u001b[0m\n\u001b[0;32m--> 394\u001b[0;31m                                swmr=swmr)\n\u001b[0m\u001b[1;32m    395\u001b[0m \u001b[0;34m\u001b[0m\u001b[0m\n\u001b[1;32m    396\u001b[0m             \u001b[0;32mif\u001b[0m \u001b[0mswmr_support\u001b[0m\u001b[0;34m:\u001b[0m\u001b[0;34m\u001b[0m\u001b[0;34m\u001b[0m\u001b[0m\n",
      "\u001b[0;32m~/Amanda/ic/lib/python3.6/site-packages/h5py/_hl/files.py\u001b[0m in \u001b[0;36mmake_fid\u001b[0;34m(name, mode, userblock_size, fapl, fcpl, swmr)\u001b[0m\n\u001b[1;32m    193\u001b[0m                 \u001b[0mfid\u001b[0m \u001b[0;34m=\u001b[0m \u001b[0mh5f\u001b[0m\u001b[0;34m.\u001b[0m\u001b[0mopen\u001b[0m\u001b[0;34m(\u001b[0m\u001b[0mname\u001b[0m\u001b[0;34m,\u001b[0m \u001b[0mh5f\u001b[0m\u001b[0;34m.\u001b[0m\u001b[0mACC_RDONLY\u001b[0m\u001b[0;34m,\u001b[0m \u001b[0mfapl\u001b[0m\u001b[0;34m=\u001b[0m\u001b[0mfapl\u001b[0m\u001b[0;34m)\u001b[0m\u001b[0;34m\u001b[0m\u001b[0;34m\u001b[0m\u001b[0m\n\u001b[1;32m    194\u001b[0m             \u001b[0;32mexcept\u001b[0m \u001b[0mIOError\u001b[0m\u001b[0;34m:\u001b[0m\u001b[0;34m\u001b[0m\u001b[0;34m\u001b[0m\u001b[0m\n\u001b[0;32m--> 195\u001b[0;31m                 \u001b[0mfid\u001b[0m \u001b[0;34m=\u001b[0m \u001b[0mh5f\u001b[0m\u001b[0;34m.\u001b[0m\u001b[0mcreate\u001b[0m\u001b[0;34m(\u001b[0m\u001b[0mname\u001b[0m\u001b[0;34m,\u001b[0m \u001b[0mh5f\u001b[0m\u001b[0;34m.\u001b[0m\u001b[0mACC_EXCL\u001b[0m\u001b[0;34m,\u001b[0m \u001b[0mfapl\u001b[0m\u001b[0;34m=\u001b[0m\u001b[0mfapl\u001b[0m\u001b[0;34m,\u001b[0m \u001b[0mfcpl\u001b[0m\u001b[0;34m=\u001b[0m\u001b[0mfcpl\u001b[0m\u001b[0;34m)\u001b[0m\u001b[0;34m\u001b[0m\u001b[0;34m\u001b[0m\u001b[0m\n\u001b[0m\u001b[1;32m    196\u001b[0m     \u001b[0;32melse\u001b[0m\u001b[0;34m:\u001b[0m\u001b[0;34m\u001b[0m\u001b[0;34m\u001b[0m\u001b[0m\n\u001b[1;32m    197\u001b[0m         \u001b[0;32mraise\u001b[0m \u001b[0mValueError\u001b[0m\u001b[0;34m(\u001b[0m\u001b[0;34m\"Invalid mode; must be one of r, r+, w, w-, x, a\"\u001b[0m\u001b[0;34m)\u001b[0m\u001b[0;34m\u001b[0m\u001b[0;34m\u001b[0m\u001b[0m\n",
      "\u001b[0;32mh5py/_objects.pyx\u001b[0m in \u001b[0;36mh5py._objects.with_phil.wrapper\u001b[0;34m()\u001b[0m\n",
      "\u001b[0;32mh5py/_objects.pyx\u001b[0m in \u001b[0;36mh5py._objects.with_phil.wrapper\u001b[0;34m()\u001b[0m\n",
      "\u001b[0;32mh5py/h5f.pyx\u001b[0m in \u001b[0;36mh5py.h5f.create\u001b[0;34m()\u001b[0m\n",
      "\u001b[0;31mOSError\u001b[0m: Unable to create file (unable to open file: name = 'VGG_coco_SSD_300x300_iter_400000_subsampled_1_class.h5', errno = 17, error message = 'File exists', flags = 15, o_flags = c2)"
     ]
    }
   ],
   "source": [
    "# Load both the source weights file and the copy we made.\n",
    "# We will load the original weights file in read-only mode so that we can't mess up anything.\n",
    "weights_source_file = h5py.File(weights_source_path, 'r')\n",
    "weights_destination_file = h5py.File(weights_destination_path)"
   ]
  },
  {
   "cell_type": "markdown",
   "metadata": {},
   "source": [
    "## 2. Figure out which weight tensors we need to sub-sample\n",
    "\n",
    "Next, we need to figure out exactly which weight tensors we need to sub-sample. As mentioned above, the weights for all layers except the classification layers are fine, we don't need to change anything about those.\n",
    "\n",
    "So which are the classification layers in SSD300? Their names are:"
   ]
  },
  {
   "cell_type": "code",
   "execution_count": 4,
   "metadata": {},
   "outputs": [],
   "source": [
    "classifier_names = ['conv4_3_norm_mbox_conf',\n",
    "                    'fc7_mbox_conf',\n",
    "                    'conv6_2_mbox_conf',\n",
    "                    'conv7_2_mbox_conf',\n",
    "                    'conv8_2_mbox_conf',\n",
    "                    'conv9_2_mbox_conf']"
   ]
  },
  {
   "cell_type": "markdown",
   "metadata": {},
   "source": [
    "## 3. Figure out which slices to pick\n",
    "\n",
    "The following section is optional. I'll look at one classification layer and explain what we want to do, just for your understanding. If you don't care about that, just skip ahead to the next section.\n",
    "\n",
    "We know which weight tensors we want to sub-sample, but we still need to decide which (or at least how many) elements of those tensors we want to keep. Let's take a look at the first of the classifier layers, \"`conv4_3_norm_mbox_conf`\". Its two weight tensors, the kernel and the bias, have the following shapes:"
   ]
  },
  {
   "cell_type": "code",
   "execution_count": 5,
   "metadata": {},
   "outputs": [
    {
     "name": "stdout",
     "output_type": "stream",
     "text": [
      "Shape of the 'conv4_3_norm_mbox_conf' weights:\n",
      "\n",
      "kernel:\t (3, 3, 512, 324)\n",
      "bias:\t (324,)\n"
     ]
    }
   ],
   "source": [
    "conv4_3_norm_mbox_conf_kernel = weights_source_file[classifier_names[0]][classifier_names[0]]['kernel:0']\n",
    "conv4_3_norm_mbox_conf_bias   = weights_source_file[classifier_names[0]][classifier_names[0]]['bias:0']\n",
    "\n",
    "print(\"Shape of the '{}' weights:\".format(classifier_names[0]))\n",
    "print()\n",
    "print(\"kernel:\\t\", conv4_3_norm_mbox_conf_kernel.shape)\n",
    "print(\"bias:\\t\", conv4_3_norm_mbox_conf_bias.shape)"
   ]
  },
  {
   "cell_type": "markdown",
   "metadata": {},
   "source": [
    "So the last axis has 324 elements. Why is that?\n",
    "\n",
    "- MS COCO has 80 classes, but the model also has one 'backgroud' class, so that makes 81 classes effectively.\n",
    "- The 'conv4_3_norm_mbox_loc' layer predicts 4 boxes for each spatial position, so the 'conv4_3_norm_mbox_conf' layer has to predict one of the 81 classes for each of those 4 boxes.\n",
    "\n",
    "That's why the last axis has 4 * 81 = 324 elements.\n",
    "\n",
    "So how many elements do we want in the last axis for this layer?\n",
    "\n",
    "Let's do the same calculation as above:\n",
    "\n",
    "- Our dataset has only 1 class, but our model will also have a 'background' class, so that makes 2 classes effectively.\n",
    "- We need to predict one of those 2 classes for each of the four boxes at each spatial position.\n",
    "\n",
    "That makes 4 * 2 = 8 elements.\n",
    "\n",
    "Now we know that we want to keep 8 elements in the last axis and leave all other axes unchanged. But which 8 elements out of the original 324 elements do we want?\n",
    "\n",
    "Should we just pick them randomly? If the object classes in our dataset had absolutely nothing to do with the classes in MS COCO, then choosing those 8 elements randomly would be fine (and the next section covers this case, too). But in our particular example case, we will choose that class which has more in common with our target. This class is the _balls_ class from MS COCO.\n",
    "\n",
    "Here are the indices of the 2 classes in MS COCO that we are interested in:\n",
    "\n",
    "`[0, 38]`\n",
    "\n",
    "The indices above represent the following classes in the MS COCO datasets:\n",
    "\n",
    "`['background', 'balls']`\n",
    "\n",
    "How did I find out those indices? I just looked them up in the annotations of the MS COCO dataset.\n",
    "\n",
    "So out of every 81 in the 324 elements, I want to pick the 2 elements above. This gives us the following 8 indices:"
   ]
  },
  {
   "cell_type": "code",
   "execution_count": 6,
   "metadata": {},
   "outputs": [
    {
     "name": "stdout",
     "output_type": "stream",
     "text": [
      "[0, 38, 81, 119, 162, 200, 243, 281]\n"
     ]
    }
   ],
   "source": [
    "n_classes_source = 81\n",
    "classes_of_interest = [0, 38] # class 38 corresponds to the balls in MS COCO dataset\n",
    "\n",
    "subsampling_indices = []\n",
    "for i in range(int(324/n_classes_source)):\n",
    "    indices = np.array(classes_of_interest) + i * n_classes_source\n",
    "    subsampling_indices.append(indices)\n",
    "subsampling_indices = list(np.concatenate(subsampling_indices))\n",
    "\n",
    "print(subsampling_indices)"
   ]
  },
  {
   "cell_type": "markdown",
   "metadata": {},
   "source": [
    "These are the indices of the 8 elements that we want to pick from both the bias vector and from the last axis of the kernel tensor.\n",
    "\n",
    "This was the detailed example for the '`conv4_3_norm_mbox_conf`' layer. And of course we haven't actually sub-sampled the weights for this layer yet, we have only figured out which elements we want to keep. The piece of code in the next section will perform the sub-sampling for all the classifier layers."
   ]
  },
  {
   "cell_type": "markdown",
   "metadata": {},
   "source": [
    "## 4. Sub-sample the classifier weights\n",
    "\n",
    "The code in this section iterates over all the classifier layers of the source weights file and performs the following steps for each classifier layer:\n",
    "\n",
    "1. Get the kernel and bias tensors from the source weights file.\n",
    "2. Compute the sub-sampling indices for the last axis. The first three axes of the kernel remain unchanged.\n",
    "3. Overwrite the corresponding kernel and bias tensors in the destination weights file with our newly created sub-sampled kernel and bias tensors.\n",
    "\n",
    "The second step does what was explained in the previous section.\n",
    "\n",
    "In case you want to **up-sample** the last axis rather than sub-sample it, simply set the `classes_of_interest` variable below to the length you want it to have. The added elements will be initialized either randomly or optionally with zeros. Check out the documentation of `sample_tensors()` for details."
   ]
  },
  {
   "cell_type": "code",
   "execution_count": 7,
   "metadata": {},
   "outputs": [
    {
     "name": "stderr",
     "output_type": "stream",
     "text": [
      "/home/abasso/Amanda/ic/lib/python3.6/site-packages/h5py/_hl/dataset.py:313: H5pyDeprecationWarning: dataset.value has been deprecated. Use dataset[()] instead.\n",
      "  \"Use dataset[()] instead.\", H5pyDeprecationWarning)\n"
     ]
    }
   ],
   "source": [
    "# TODO: Set the number of classes in the source weights file. Note that this number must include\n",
    "#       the background class, so for MS COCO's 80 classes, this must be 80 + 1 = 81.\n",
    "n_classes_source = 81\n",
    "\n",
    "# TODO: Set the indices of the classes that you want to pick for the sub-sampled weight tensors.\n",
    "#       In case you would like to just randomly sample a certain number of classes, you can just set\n",
    "#       `classes_of_interest` to an integer instead of the list below. Either way, don't forget to\n",
    "#       include the background class. That is, if you set an integer, and you want `n` positive classes,\n",
    "#       then you must set `classes_of_interest = n + 1`.\n",
    "classes_of_interest = [0, 38]\n",
    "# classes_of_interest = 2 # Uncomment this in case you want to just randomly sub-sample the last axis instead of providing a list of indices.\n",
    "\n",
    "for name in classifier_names:\n",
    "    # Get the trained weights for this layer from the source HDF5 weights file.\n",
    "    kernel = weights_source_file[name][name]['kernel:0'].value\n",
    "    bias   = weights_source_file[name][name]['bias:0'].value\n",
    "\n",
    "    # Get the shape of the kernel. We're interested in sub-sampling\n",
    "    # the last dimension, 'o'.\n",
    "    height, width, in_channels, out_channels = kernel.shape\n",
    "    \n",
    "    # Compute the indices of the elements we want to sub-sample.\n",
    "    # Keep in mind that each classification predictor layer predicts multiple\n",
    "    # bounding boxes for every spatial location, so we want to sub-sample\n",
    "    # the relevant classes for each of these boxes.\n",
    "    if isinstance(classes_of_interest, (list, tuple)):\n",
    "        subsampling_indices = []\n",
    "        for i in range(int(out_channels/n_classes_source)):\n",
    "            indices = np.array(classes_of_interest) + i * n_classes_source\n",
    "            subsampling_indices.append(indices)\n",
    "        subsampling_indices = list(np.concatenate(subsampling_indices))\n",
    "    elif isinstance(classes_of_interest, int):\n",
    "        subsampling_indices = int(classes_of_interest * (out_channels/n_classes_source))\n",
    "    else:\n",
    "        raise ValueError(\"`classes_of_interest` must be either an integer or a list/tuple.\")\n",
    "    \n",
    "    # Sub-sample the kernel and bias.\n",
    "    # The `sample_tensors()` function used below provides extensive\n",
    "    # documentation, so don't hesitate to read it if you want to know\n",
    "    # what exactly is going on here.\n",
    "    new_kernel, new_bias = sample_tensors(weights_list=[kernel, bias],\n",
    "                                          sampling_instructions=[height, width, in_channels, subsampling_indices],\n",
    "                                          axes=[[3]], # The one bias dimension corresponds to the last kernel dimension.\n",
    "                                          init=['gaussian', 'zeros'],\n",
    "                                          mean=0.0,\n",
    "                                          stddev=0.005)\n",
    "    \n",
    "    # Delete the old weights from the destination file.\n",
    "    del weights_destination_file[name][name]['kernel:0']\n",
    "    del weights_destination_file[name][name]['bias:0']\n",
    "    # Create new datasets for the sub-sampled weights.\n",
    "    weights_destination_file[name][name].create_dataset(name='kernel:0', data=new_kernel)\n",
    "    weights_destination_file[name][name].create_dataset(name='bias:0', data=new_bias)\n",
    "\n",
    "# Make sure all data is written to our output file before this sub-routine exits.\n",
    "weights_destination_file.flush()"
   ]
  },
  {
   "cell_type": "markdown",
   "metadata": {},
   "source": [
    "That's it, we're done.\n",
    "\n",
    "Let's just quickly inspect the shapes of the weights of the '`conv4_3_norm_mbox_conf`' layer in the destination weights file:"
   ]
  },
  {
   "cell_type": "code",
   "execution_count": 8,
   "metadata": {},
   "outputs": [
    {
     "name": "stdout",
     "output_type": "stream",
     "text": [
      "Shape of the 'conv4_3_norm_mbox_conf' weights:\n",
      "\n",
      "kernel:\t (3, 3, 512, 8)\n",
      "bias:\t (8,)\n"
     ]
    }
   ],
   "source": [
    "conv4_3_norm_mbox_conf_kernel = weights_destination_file[classifier_names[0]][classifier_names[0]]['kernel:0']\n",
    "conv4_3_norm_mbox_conf_bias = weights_destination_file[classifier_names[0]][classifier_names[0]]['bias:0']\n",
    "\n",
    "print(\"Shape of the '{}' weights:\".format(classifier_names[0]))\n",
    "print()\n",
    "print(\"kernel:\\t\", conv4_3_norm_mbox_conf_kernel.shape)\n",
    "print(\"bias:\\t\", conv4_3_norm_mbox_conf_bias.shape)"
   ]
  },
  {
   "cell_type": "markdown",
   "metadata": {},
   "source": [
    "Nice! Exactly what we wanted, 8 elements in the last axis. Now the weights are compatible with our new SSD300 model that predicts 1 positive class.\n",
    "\n",
    "This is the end of the relevant part of this tutorial, but we can do one more thing and verify that the sub-sampled weights actually work. Let's do that in the next section."
   ]
  },
  {
   "cell_type": "markdown",
   "metadata": {},
   "source": [
    "## 5. Verify that our sub-sampled weights actually work\n",
    "\n",
    "In our example case above we sub-sampled the fully trained weights of the SSD300 model trained on MS COCO from 80 classes to just the 1 class that we needed.\n",
    "\n",
    "We can now create a new SSD300 with 1 class, load our sub-sampled weights into it, train, and see how the model performs on a few test images containing objects of that 1 class. Let's do it."
   ]
  },
  {
   "cell_type": "code",
   "execution_count": 9,
   "metadata": {},
   "outputs": [
    {
     "name": "stderr",
     "output_type": "stream",
     "text": [
      "Using TensorFlow backend.\n"
     ]
    }
   ],
   "source": [
    "from keras.optimizers import Adam\n",
    "from keras.callbacks import ModelCheckpoint, LearningRateScheduler, TerminateOnNaN, CSVLogger\n",
    "from keras import backend as K\n",
    "from keras.models import load_model\n",
    "from keras.utils import multi_gpu_model\n",
    "from math import ceil\n",
    "import numpy as np\n",
    "from time import time\n",
    "from matplotlib import pyplot as plt\n",
    "from bs4 import BeautifulSoup\n",
    "\n",
    "from models.keras_ssd300 import ssd_300\n",
    "from keras_loss_function.keras_ssd_loss import SSDLoss\n",
    "from keras_layers.keras_layer_AnchorBoxes import AnchorBoxes\n",
    "from keras_layers.keras_layer_DecodeDetections import DecodeDetections\n",
    "from keras_layers.keras_layer_DecodeDetectionsFast import DecodeDetectionsFast\n",
    "from keras_layers.keras_layer_L2Normalization import L2Normalization\n",
    "\n",
    "from ssd_encoder_decoder.ssd_input_encoder import SSDInputEncoder\n",
    "from ssd_encoder_decoder.ssd_output_decoder import decode_detections, decode_detections_fast\n",
    "\n",
    "from data_generator.object_detection_2d_data_generator import DataGenerator\n",
    "from data_generator.object_detection_2d_photometric_ops import ConvertTo3Channels\n",
    "from data_generator.object_detection_2d_patch_sampling_ops import RandomMaxCropFixedAR\n",
    "from data_generator.object_detection_2d_geometric_ops import Resize\n",
    "\n",
    "from data_generator.data_augmentation_chain_original_ssd import SSDDataAugmentation\n",
    "from data_generator.object_detection_2d_misc_utils import apply_inverse_transforms\n",
    "\n",
    "from keras_sequential_ascii import sequential_model_to_ascii_printout\n",
    "from keras.callbacks import TensorBoard\n",
    "\n",
    "%matplotlib inline"
   ]
  },
  {
   "cell_type": "markdown",
   "metadata": {},
   "source": [
    "### 5.1. Set the parameters for the model.\n",
    "\n",
    "As always, set the parameters for the model. We're going to set the configuration for the SSD300 MS COCO model."
   ]
  },
  {
   "cell_type": "code",
   "execution_count": 10,
   "metadata": {},
   "outputs": [],
   "source": [
    "img_height = 300 # Height of the input images\n",
    "img_width = 300 # Width of the input images\n",
    "img_channels = 3 # Number of color channels of the input images\n",
    "subtract_mean = [123, 117, 104] # The per-channel mean of the images in the dataset\n",
    "swap_channels = [2, 1, 0] # The color channel order in the original SSD is BGR, so we should set this to `True`, but weirdly the results are better without swapping.\n",
    "\n",
    "# TODO: Set the number of classes.\n",
    "n_classes = 1 # Number of positive classes, e.g. 20 for Pascal VOC, 80 for MS COCO\n",
    "scales = [0.07, 0.15, 0.33, 0.51, 0.69, 0.87, 1.05] # The anchor box scaling factors used in the original SSD300 for the MS COCO datasets.\n",
    "# scales = [0.1, 0.2, 0.37, 0.54, 0.71, 0.88, 1.05] # The anchor box scaling factors used in the original SSD300 for the Pascal VOC datasets.\n",
    "aspect_ratios = [[1.0, 2.0, 0.5],\n",
    "                 [1.0, 2.0, 0.5, 3.0, 1.0/3.0],\n",
    "                 [1.0, 2.0, 0.5, 3.0, 1.0/3.0],\n",
    "                 [1.0, 2.0, 0.5, 3.0, 1.0/3.0],\n",
    "                 [1.0, 2.0, 0.5],\n",
    "                 [1.0, 2.0, 0.5]] # The anchor box aspect ratios used in the original SSD300; the order matters\n",
    "two_boxes_for_ar1 = True\n",
    "steps = [8, 16, 32, 64, 100, 300] # The space between two adjacent anchor box center points for each predictor layer.\n",
    "offsets = [0.5, 0.5, 0.5, 0.5, 0.5, 0.5] # The offsets of the first anchor box center points from the top and left borders of the image as a fraction of the step size for each predictor layer.\n",
    "clip_boxes = False # Whether or not you want to limit the anchor boxes to lie entirely within the image boundaries\n",
    "variances = [0.1, 0.1, 0.2, 0.2] # The variances by which the encoded target coordinates are scaled as in the original implementation\n",
    "normalize_coords = True"
   ]
  },
  {
   "cell_type": "markdown",
   "metadata": {},
   "source": [
    "### 5.2. Build the model\n",
    "\n",
    "Build the model and load our newly created, sub-sampled weights into it.\n",
    "\n",
    "- __For training:__ Use `mode='training'`\n",
    "- __For inference:__ Use `mode='inference'`\n",
    "\n",
    "Remember to update the weights path if you are using different weights for your training or inference model."
   ]
  },
  {
   "cell_type": "code",
   "execution_count": 11,
   "metadata": {},
   "outputs": [
    {
     "name": "stdout",
     "output_type": "stream",
     "text": [
      "Model built.\n",
      "Weights file loaded: VGG_coco_SSD_300x300_iter_400000_subsampled_1_class.h5\n",
      "__________________________________________________________________________________________________\n",
      "Layer (type)                    Output Shape         Param #     Connected to                     \n",
      "==================================================================================================\n",
      "input_1 (InputLayer)            (None, 300, 300, 3)  0                                            \n",
      "__________________________________________________________________________________________________\n",
      "lambda_1 (Lambda)               (None, 300, 300, 3)  0           input_1[0][0]                    \n",
      "__________________________________________________________________________________________________\n",
      "lambda_2 (Lambda)               (None, 300, 300, 3)  0           input_1[0][0]                    \n",
      "__________________________________________________________________________________________________\n",
      "model_1 (Model)                 (None, 8732, 14)     23745908    lambda_1[0][0]                   \n",
      "                                                                 lambda_2[0][0]                   \n",
      "__________________________________________________________________________________________________\n",
      "predictions (Concatenate)       (None, 8732, 14)     0           model_1[1][0]                    \n",
      "                                                                 model_1[2][0]                    \n",
      "==================================================================================================\n",
      "Total params: 23,745,908\n",
      "Trainable params: 23,745,908\n",
      "Non-trainable params: 0\n",
      "__________________________________________________________________________________________________\n",
      "           OPERATION           DATA DIMENSIONS   WEIGHTS(N)   WEIGHTS(%)\n",
      "\n",
      "               Input   #####    300  300    3\n",
      "          InputLayer     |   -------------------         0     0.0%\n",
      "                       #####    300  300    3\n",
      "              Lambda   ????? -------------------         0     0.0%\n",
      "                       #####    300  300    3\n",
      "              Lambda   ????? -------------------         0     0.0%\n",
      "                       #####    300  300    3\n",
      "              Lambda   ????? -------------------         0     0.0%\n",
      "                       #####    300  300    3\n",
      "              Conv2D    \\|/  -------------------      1792     0.0%\n",
      "                relu   #####    300  300   64\n",
      "              Conv2D    \\|/  -------------------     36928     0.2%\n",
      "                relu   #####    300  300   64\n",
      "        MaxPooling2D   Y max -------------------         0     0.0%\n",
      "                       #####    150  150   64\n",
      "              Conv2D    \\|/  -------------------     73856     0.3%\n",
      "                relu   #####    150  150  128\n",
      "              Conv2D    \\|/  -------------------    147584     0.6%\n",
      "                relu   #####    150  150  128\n",
      "        MaxPooling2D   Y max -------------------         0     0.0%\n",
      "                       #####     75   75  128\n",
      "              Conv2D    \\|/  -------------------    295168     1.2%\n",
      "                relu   #####     75   75  256\n",
      "              Conv2D    \\|/  -------------------    590080     2.5%\n",
      "                relu   #####     75   75  256\n",
      "              Conv2D    \\|/  -------------------    590080     2.5%\n",
      "                relu   #####     75   75  256\n",
      "        MaxPooling2D   Y max -------------------         0     0.0%\n",
      "                       #####     38   38  256\n",
      "              Conv2D    \\|/  -------------------   1180160     5.0%\n",
      "                relu   #####     38   38  512\n",
      "              Conv2D    \\|/  -------------------   2359808     9.9%\n",
      "                relu   #####     38   38  512\n",
      "              Conv2D    \\|/  -------------------   2359808     9.9%\n",
      "                relu   #####     38   38  512\n",
      "        MaxPooling2D   Y max -------------------         0     0.0%\n",
      "                       #####     19   19  512\n",
      "              Conv2D    \\|/  -------------------   2359808     9.9%\n",
      "                relu   #####     19   19  512\n",
      "              Conv2D    \\|/  -------------------   2359808     9.9%\n",
      "                relu   #####     19   19  512\n",
      "              Conv2D    \\|/  -------------------   2359808     9.9%\n",
      "                relu   #####     19   19  512\n",
      "        MaxPooling2D   Y max -------------------         0     0.0%\n",
      "                       #####     19   19  512\n",
      "              Conv2D    \\|/  -------------------   4719616    19.9%\n",
      "                relu   #####     19   19 1024\n",
      "              Conv2D    \\|/  -------------------   1049600     4.4%\n",
      "                relu   #####     19   19 1024\n",
      "              Conv2D    \\|/  -------------------    262400     1.1%\n",
      "                relu   #####     19   19  256\n",
      "       ZeroPadding2D   \\|||/ -------------------         0     0.0%\n",
      "                       #####     21   21  256\n",
      "              Conv2D    \\|/  -------------------   1180160     5.0%\n",
      "                relu   #####     10   10  512\n",
      "              Conv2D    \\|/  -------------------     65664     0.3%\n",
      "                relu   #####     10   10  128\n",
      "       ZeroPadding2D   \\|||/ -------------------         0     0.0%\n",
      "                       #####     12   12  128\n",
      "              Conv2D    \\|/  -------------------    295168     1.2%\n",
      "                relu   #####      5    5  256\n",
      "              Conv2D    \\|/  -------------------     32896     0.1%\n",
      "                relu   #####      5    5  128\n",
      "              Conv2D    \\|/  -------------------    295168     1.2%\n",
      "                relu   #####      3    3  256\n",
      "              Conv2D    \\|/  -------------------     32896     0.1%\n",
      "                relu   #####      3    3  128\n",
      "     L2Normalization   ????? -------------------       512     0.0%\n",
      "                       #####     38   38  512\n",
      "              Conv2D    \\|/  -------------------    295168     1.2%\n",
      "                relu   #####      1    1  256\n",
      "              Conv2D    \\|/  -------------------     36872     0.2%\n",
      "                       #####     38   38    8\n",
      "              Conv2D    \\|/  -------------------    110604     0.5%\n",
      "                       #####     19   19   12\n",
      "              Conv2D    \\|/  -------------------     55308     0.2%\n",
      "                       #####     10   10   12\n",
      "              Conv2D    \\|/  -------------------     27660     0.1%\n",
      "                       #####      5    5   12\n",
      "              Conv2D    \\|/  -------------------     18440     0.1%\n",
      "                       #####      3    3    8\n",
      "              Conv2D    \\|/  -------------------     18440     0.1%\n",
      "                       #####      1    1    8\n",
      "              Conv2D    \\|/  -------------------     73744     0.3%\n",
      "                       #####     38   38   16\n",
      "              Conv2D    \\|/  -------------------    221208     0.9%\n",
      "                       #####     19   19   24\n",
      "              Conv2D    \\|/  -------------------    110616     0.5%\n",
      "                       #####     10   10   24\n",
      "              Conv2D    \\|/  -------------------     55320     0.2%\n",
      "                       #####      5    5   24\n",
      "              Conv2D    \\|/  -------------------     36880     0.2%\n",
      "                       #####      3    3   16\n",
      "              Conv2D    \\|/  -------------------     36880     0.2%\n",
      "                       #####      1    1   16\n",
      "             Reshape     |   -------------------         0     0.0%\n",
      "                       #####   5776    2\n",
      "             Reshape     |   -------------------         0     0.0%\n",
      "                       #####   2166    2\n",
      "             Reshape     |   -------------------         0     0.0%\n",
      "                       #####    600    2\n",
      "             Reshape     |   -------------------         0     0.0%\n",
      "                       #####    150    2\n",
      "             Reshape     |   -------------------         0     0.0%\n",
      "                       #####     36    2\n",
      "             Reshape     |   -------------------         0     0.0%\n",
      "                       #####      4    2\n",
      "         AnchorBoxes   ????? -------------------         0     0.0%\n",
      "                       #####     38   38    4    8\n",
      "         AnchorBoxes   ????? -------------------         0     0.0%\n",
      "                       #####     19   19    6    8\n",
      "         AnchorBoxes   ????? -------------------         0     0.0%\n",
      "                       #####     10   10    6    8\n",
      "         AnchorBoxes   ????? -------------------         0     0.0%\n",
      "                       #####      5    5    6    8\n",
      "         AnchorBoxes   ????? -------------------         0     0.0%\n",
      "                       #####      3    3    4    8\n",
      "         AnchorBoxes   ????? -------------------         0     0.0%\n",
      "                       #####      1    1    4    8\n",
      "         Concatenate   ????? -------------------         0     0.0%\n",
      "                       #####   8732    2\n",
      "             Reshape     |   -------------------         0     0.0%\n",
      "                       #####   5776    4\n",
      "             Reshape     |   -------------------         0     0.0%\n",
      "                       #####   2166    4\n",
      "             Reshape     |   -------------------         0     0.0%\n",
      "                       #####    600    4\n",
      "             Reshape     |   -------------------         0     0.0%\n",
      "                       #####    150    4\n",
      "             Reshape     |   -------------------         0     0.0%\n",
      "                       #####     36    4\n",
      "             Reshape     |   -------------------         0     0.0%\n",
      "                       #####      4    4\n",
      "             Reshape     |   -------------------         0     0.0%\n",
      "                       #####   5776    8\n",
      "             Reshape     |   -------------------         0     0.0%\n",
      "                       #####   2166    8\n",
      "             Reshape     |   -------------------         0     0.0%\n",
      "                       #####    600    8\n",
      "             Reshape     |   -------------------         0     0.0%\n",
      "                       #####    150    8\n",
      "             Reshape     |   -------------------         0     0.0%\n",
      "                       #####     36    8\n",
      "             Reshape     |   -------------------         0     0.0%\n",
      "             softmax   #####      4    8\n",
      "         Concatenate   ????? -------------------         0     0.0%\n",
      "                       #####   8732    4\n",
      "         Concatenate   ????? -------------------         0     0.0%\n",
      "                       #####   8732    8\n",
      "         Concatenate   ????? -------------------         0     0.0%\n",
      "                       #####   8732   14\n"
     ]
    }
   ],
   "source": [
    "# 1: Build the Keras model\n",
    "\n",
    "K.clear_session() # Clear previous models from memory.\n",
    "\n",
    "model = ssd_300(image_size=(img_height, img_width, img_channels),\n",
    "                n_classes=n_classes,\n",
    "                mode='training', # 'training' or 'inference'\n",
    "                l2_regularization=0.0005,\n",
    "                scales=scales,\n",
    "                aspect_ratios_per_layer=aspect_ratios,\n",
    "                two_boxes_for_ar1=two_boxes_for_ar1,\n",
    "                steps=steps,\n",
    "                offsets=offsets,\n",
    "                clip_boxes=clip_boxes,\n",
    "                variances=variances,\n",
    "                normalize_coords=normalize_coords,\n",
    "                subtract_mean=subtract_mean,\n",
    "                divide_by_stddev=None,\n",
    "                swap_channels=swap_channels,\n",
    "                confidence_thresh=0.5,\n",
    "                iou_threshold=0.45,\n",
    "                top_k=200,\n",
    "                nms_max_output_size=400,\n",
    "                return_predictor_sizes=False)\n",
    "\n",
    "print(\"Model built.\")\n",
    "\n",
    "# 2: Load the sub-sampled weights into the model.\n",
    "\n",
    "# Load the weights that we've just created via sub-sampling.\n",
    "weights_path = weights_destination_path\n",
    "#weights_path = \"tests/2/ssd300_IVM_epoch-99_loss-3.6628_val_loss-2.5406.h5\"\n",
    "\n",
    "model.load_weights(weights_path, by_name=True)\n",
    "\n",
    "print(\"Weights file loaded:\", weights_path)\n",
    "\n",
    "# 3: Instantiate an Adam optimizer and the SSD loss function and compile the model.\n",
    "\n",
    "adam = Adam(lr=0.001, beta_1=0.9, beta_2=0.999, epsilon=1e-08, decay=0.0)\n",
    "\n",
    "ssd_loss = SSDLoss(neg_pos_ratio=3, alpha=1.0)\n",
    "\n",
    "parallel_model = multi_gpu_model(model, gpus=2) # Running Keras model on multiple GPUs\n",
    "#parallel_model = model\n",
    "\n",
    "parallel_model.compile(optimizer=adam, loss=ssd_loss.compute_loss, metrics=['accuracy', 'mean_squared_error'])\n",
    "\n",
    "parallel_model.summary()\n",
    "\n",
    "# Print model in ascii mode (for training)\n",
    "sequential_model_to_ascii_printout(model) "
   ]
  },
  {
   "cell_type": "markdown",
   "metadata": {
    "collapsed": true
   },
   "source": [
    "### 5.3 Fine-tune the model\n",
    "\n",
    "The code cells below set up the data generators for the training and validation datasets to fine-tune the model.\n",
    "\n",
    "#### Set up the data generators for the training\n",
    "\n",
    "The only thing you need to change here are the filepaths to the datasets on your local machine. Note that parsing the labels from the XML annotations files can take a while.\n",
    "\n",
    "Note that the generator provides two options to speed up the training. By default, it loads the individual images for a batch from disk. This has two disadvantages. First, for compressed image formats like JPG, this is a huge computational waste, because every image needs to be decompressed again and again every time it is being loaded. Second, the images on disk are likely not stored in a contiguous block of memory, which may also slow down the loading process. The first option that `DataGenerator` provides to deal with this is to load the entire dataset into memory, which reduces the access time for any image to a negligible amount, but of course this is only an option if you have enough free memory to hold the whole dataset. As a second option, `DataGenerator` provides the possibility to convert the dataset into a single HDF5 file. This HDF5 file stores the images as uncompressed arrays in a contiguous block of memory, which dramatically speeds up the loading time. It's not as good as having the images in memory, but it's a lot better than the default option of loading them from their compressed JPG state every time they are needed. Of course such an HDF5 dataset may require significantly more disk space than the compressed images (around 9 GB total for Pascal VOC 2007 `trainval` plus 2012 `trainval` and another 2.6 GB for 2007 `test`). You can later load these HDF5 datasets directly in the constructor.\n",
    "\n",
    "The original SSD implementation uses a batch size of 32 for the training. In case you run into GPU memory issues, reduce the batch size accordingly. You need at least 7 GB of free GPU memory to train an SSD300 with 20 object classes with a batch size of 32.\n",
    "\n",
    "The `DataGenerator` itself is fairly generic. I doesn't contain any data augmentation or bounding box encoding logic. Instead, you pass a list of image transformations and an encoder for the bounding boxes in the `transformations` and `label_encoder` arguments of the data generator's `generate()` method, and the data generator will then apply those given transformations and the encoding to the data. Everything here is preset already, but if you'd like to learn more about the data generator and its data augmentation capabilities, take a look at the detailed tutorial in [this](https://github.com/pierluigiferrari/data_generator_object_detection_2d) repository.\n",
    "\n",
    "The data augmentation settings defined further down reproduce the data augmentation pipeline of the original SSD training. The training generator receives an object `ssd_data_augmentation`, which is a transformation object that is itself composed of a whole chain of transformations that replicate the data augmentation procedure used to train the original Caffe implementation. The validation generator receives an object `resize`, which simply resizes the input images.\n",
    "\n",
    "An `SSDInputEncoder` object, `ssd_input_encoder`, is passed to both the training and validation generators. As explained above, it matches the ground truth labels to the model's anchor boxes and encodes the box coordinates into the format that the model needs.\n",
    "\n",
    "In order to train the model on a dataset other than Pascal VOC, either choose `DataGenerator`'s appropriate parser method that corresponds to your data format, or, if `DataGenerator` does not provide a suitable parser for your data format, you can write an additional parser and add it. Out of the box, `DataGenerator` can handle datasets that use the Pascal VOC format (use `parse_xml()`), the MS COCO format (use `parse_json()`) and a wide range of CSV formats (use `parse_csv()`)."
   ]
  },
  {
   "cell_type": "code",
   "execution_count": 12,
   "metadata": {},
   "outputs": [
    {
     "name": "stdout",
     "output_type": "stream",
     "text": [
      "Processing image set 'train.txt': 100%|██████████| 528/528 [00:04<00:00, 126.54it/s]\n",
      "Loading images into memory: 100%|██████████| 528/528 [00:01<00:00, 309.18it/s]\n",
      "Processing image set 'val.txt': 100%|██████████| 137/137 [00:01<00:00, 122.91it/s]\n",
      "Loading images into memory: 100%|██████████| 137/137 [00:00<00:00, 277.92it/s]\n"
     ]
    }
   ],
   "source": [
    "# 1: Instantiate two `DataGenerator` objects: One for training, one for validation.\n",
    "\n",
    "# Optional: If you have enough memory, consider loading the images into memory for the reasons explained above.\n",
    "\n",
    "#train_dataset = DataGenerator(load_images_into_memory=False, hdf5_dataset_path=None)\n",
    "#val_dataset   = DataGenerator(load_images_into_memory=False, hdf5_dataset_path=None)\n",
    "train_dataset = DataGenerator(load_images_into_memory=True, hdf5_dataset_path=None, labels_output_format=('class_id', 'xmin', 'ymin', 'xmax', 'ymax'))\n",
    "val_dataset   = DataGenerator(load_images_into_memory=True, hdf5_dataset_path=None, labels_output_format=('class_id', 'xmin', 'ymin', 'xmax', 'ymax'))\n",
    "\n",
    "# 2: Parse the image and label lists for the training and validation datasets. This can take a while.\n",
    "IVM_imgs_dir = 'dataset/frames'\n",
    "#IVM_brain1_imgs_dir     = '/home/bgregorio/workspace/data/dataset/brain_1/frames/'\n",
    "#IVM_brain2_imgs_dir     = '/home/bgregorio/workspace/data/dataset/brain_2/frames/'\n",
    "#IVM_cremaster1_imgs_dir = '/home/bgregorio/workspace/data/dataset/cremaster_1/frames/'\n",
    "#IVM_cremaster2_imgs_dir = '/home/bgregorio/workspace/data/dataset/cremaster_2/frames/'\n",
    "#IVM_spinalcord_imgs_dir = '/home/bgregorio/workspace/data/dataset/spinalcord_1/frames/'\n",
    "#IVM_mesentery_imgs_dir  = '/home/bgregorio/workspace/data/dataset/mesentery_1/frames/'\n",
    "\n",
    "# The directories that contain the annotations.\n",
    "IVM_anno_dir = 'dataset/annotations'\n",
    "#IVM_brain1_anno_dir     = '/home/bgregorio/workspace/data/dataset/brain_1/annotations/'\n",
    "#IVM_brain2_anno_dir     = '/home/bgregorio/workspace/data/dataset/brain_2/annotations/'\n",
    "#IVM_cremaster1_anno_dir = '/home/bgregorio/workspace/data/dataset/cremaster_1/annotations/'\n",
    "#IVM_cremaster2_anno_dir = '/home/bgregorio/workspace/data/dataset/cremaster_2/annotations/'\n",
    "#IVM_spinalcord_anno_dir = '/home/bgregorio/workspace/data/dataset/spinalcord_1/annotations/'\n",
    "#IVM_mesentery_anno_dir  = '/home/bgregorio/workspace/data/dataset/mesentery_1/annotations/'\n",
    "\n",
    "# The paths to the image sets.\n",
    "IVM_general_train = 'dataset/image_sets/train.txt'\n",
    "IVM_all_train = 'dataset/image_sets/all/train.txt'\n",
    "IVM_all_split_train = 'dataset/image_sets/all_split/train.txt'\n",
    "IVM_cns_train = 'dataset/image_sets/cns/train.txt'\n",
    "IVM_cns_split_train = 'dataset/image_sets/cns_split/train.txt'\n",
    "IVM_cns_unseen_test_train = 'dataset/image_sets/cns_unseen_test/train.txt'\n",
    "IVM_selected_frames_train = 'dataset/image_sets/selected_frames/train.txt'\n",
    "\n",
    "#IVM_brain1_train     = '/home/bgregorio/workspace/data/dataset/brain_1/image_sets/train.txt'\n",
    "#IVM_brain2_train     = '/home/bgregorio/workspace/data/dataset/brain_2/image_sets/train.txt'\n",
    "#IVM_cremaster1_train = '/home/bgregorio/workspace/data/dataset/cremaster_1/image_sets/train.txt'\n",
    "#IVM_cremaster2_train = '/home/bgregorio/workspace/data/dataset/cremaster_2/image_sets/train.txt'\n",
    "#IVM_spinalcord_train = '/home/bgregorio/workspace/data/dataset/spinalcord_1/image_sets/train.txt'\n",
    "#IVM_mesentery_train  = '/home/bgregorio/workspace/data/dataset/mesentery_1/image_sets/train.txt'\n",
    "\n",
    "IVM_general_val = 'dataset/image_sets/val.txt'\n",
    "IVM_all_val = 'dataset/image_sets/all/val.txt'\n",
    "IVM_all_split_val = 'dataset/image_sets/all_split/val.txt'\n",
    "IVM_cns_val = 'dataset/image_sets/cns/val.txt'\n",
    "IVM_cns_split_val = 'dataset/image_sets/cns_split/val.txt'\n",
    "IVM_cns_unseen_test_val = 'dataset/image_sets/cns_unseen_test/val.txt'\n",
    "IVM_selected_frames_val = 'dataset/image_sets/selected_frames/val.txt'\n",
    "#IVM_brain1_val     = '/home/bgregorio/workspace/data/dataset/brain_1/image_sets/val.txt'\n",
    "#IVM_brain2_val     = '/home/bgregorio/workspace/data/dataset/brain_2/image_sets/val.txt'\n",
    "#IVM_cremaster1_val = '/home/bgregorio/workspace/data/dataset/cremaster_1/image_sets/val.txt'\n",
    "#IVM_cremaster2_val = '/home/bgregorio/workspace/data/dataset/cremaster_2/image_sets/val.txt'\n",
    "#IVM_spinalcord_val = '/home/bgregorio/workspace/data/dataset/spinalcord_1/image_sets/val.txt'\n",
    "#IVM_mesentery_val  = '/home/bgregorio/workspace/data/dataset/mesentery_1/image_sets/val.txt'\n",
    "\n",
    "IVM_general_trainval = 'dataset/image_sets/trainval.txt'\n",
    "IVM_all_trainval = 'dataset/image_sets/all/trainval.txt'\n",
    "IVM_all_split_trainval = 'dataset/image_sets/all_split/trainval.txt'\n",
    "IVM_cns_trainval = 'dataset/image_sets/cns/trainval.txt'\n",
    "IVM_cns_split_trainval = 'dataset/image_sets/cns_split/trainval.txt'\n",
    "#IVM_brain1_trainval     = '/home/bgregorio/workspace/data/dataset/brain_1/image_sets/trainval.txt'\n",
    "#IVM_brain2_trainval     = '/home/bgregorio/workspace/data/dataset/brain_2/image_sets/trainval.txt'\n",
    "#IVM_cremaster1_trainval = '/home/bgregorio/workspace/data/dataset/cremaster_1/image_sets/trainval.txt'\n",
    "#IVM_cremaster2_trainval = '/home/bgregorio/workspace/data/dataset/cremaster_2/image_sets/trainval.txt'\n",
    "#IVM_spinalcord_trainval = '/home/bgregorio/workspace/data/dataset/spinalcord_1/image_sets/trainval.txt'\n",
    "#IVM_mesentery_trainval  = '/home/bgregorio/workspace/data/dataset/mesentery_1/image_sets/trainval.txt'\n",
    "\n",
    "IVM_general_test = 'dataset/image_sets/test.txt'\n",
    "IVM_all_test = 'dataset/image_sets/all/test.txt'\n",
    "IVM_all_split_test = 'dataset/image_sets/all_split/test.txt'\n",
    "IVM_cns_test = 'dataset/image_sets/cns/test.txt'\n",
    "IVM_cns_split_test = 'dataset/image_sets/cns_split/test.txt'\n",
    "IVM_cns_unseen_test_test = 'dataset/image_sets/cns_unseen_test/test.txt'\n",
    "IVM_selected_frames_test = 'dataset/image_sets/selected_frames/test.txt'\n",
    "#IVM_brain1_test     = '/home/bgregorio/workspace/data/dataset/brain_1/image_sets/test.txt'\n",
    "#IVM_brain2_test     = '/home/bgregorio/workspace/data/dataset/brain_2/image_sets/test.txt'\n",
    "#IVM_cremaster1_test = '/home/bgregorio/workspace/data/dataset/cremaster_1/image_sets/test.txt'\n",
    "#IVM_cremaster2_test = '/home/bgregorio/workspace/data/dataset/cremaster_2/image_sets/test.txt'\n",
    "#IVM_spinalcord_test = '/home/bgregorio/workspace/data/dataset/spinalcord_1/image_sets/test.txt'\n",
    "#IVM_mesentery_test  = '/home/bgregorio/workspace/data/dataset/mesentery_1/image_sets/test.txt'\n",
    "\n",
    "# The XML parser needs to now what object class names to look for and in which order to map them to integers.\n",
    "classes = ['background', 'cell']\n",
    "\n",
    "train_dataset.parse_xml(images_dirs=[IVM_imgs_dir],\n",
    "                        image_set_filenames=[IVM_general_train, IVM_all_train, IVM_all_split_train,\n",
    "                                            IVM_cns_train, IVM_cns_split_train, IVM_cns_unseen_test_train,\n",
    "                                            IVM_selected_frames_train],\n",
    "                        annotations_dirs=[IVM_anno_dir],\n",
    "                        classes=classes,\n",
    "                        include_classes='all',\n",
    "                        exclude_truncated=False,\n",
    "                        exclude_difficult=False,\n",
    "                        ret=False)\n",
    "\n",
    "val_dataset.parse_xml(images_dirs=[IVM_imgs_dir],\n",
    "                        image_set_filenames=[IVM_general_val, IVM_all_val, IVM_all_split_val,\n",
    "                                            IVM_cns_val, IVM_cns_split_val, IVM_cns_unseen_test_val,\n",
    "                                            IVM_selected_frames_val],\n",
    "                        annotations_dirs=[IVM_anno_dir],\n",
    "                      classes=classes,\n",
    "                      include_classes='all',\n",
    "                      exclude_truncated=False,\n",
    "                      exclude_difficult=True,\n",
    "                      ret=False)\n",
    "\n",
    "# Optional: Convert the dataset into an HDF5 dataset. This will require more disk space, but will\n",
    "# speed up the training. Doing this is not relevant in case you activated the `load_images_into_memory`\n",
    "# option in the constructor, because in that case the images are in memory already anyway. If you don't\n",
    "# want to create HDF5 datasets, comment out the subsequent two function calls.\n",
    "\n",
    "#train_dataset.create_hdf5_dataset(file_path='dataset_trainval.h5',\n",
    "#                                  resize=False,\n",
    "#                                  variable_image_size=True,\n",
    "#                                  verbose=True)\n",
    "\n",
    "#val_dataset.create_hdf5_dataset(file_path='dataset_test.h5',\n",
    "#                                resize=False,\n",
    "#                                variable_image_size=True,\n",
    "#                                verbose=True)"
   ]
  },
  {
   "cell_type": "code",
   "execution_count": 13,
   "metadata": {},
   "outputs": [
    {
     "name": "stdout",
     "output_type": "stream",
     "text": [
      "Number of images in the training dataset:\t   528\n",
      "Number of images in the validation dataset:\t   137\n"
     ]
    }
   ],
   "source": [
    "# 3: Set the batch size.\n",
    "\n",
    "batch_size = 64 # Change the batch size if you like (original is 32), or if you run into GPU memory issues.\n",
    "\n",
    "# 4: Set the image transformations for pre-processing and data augmentation options.\n",
    "\n",
    "#TODO:\n",
    "# Check this step.\n",
    "\n",
    "# For the training generator:\n",
    "ssd_data_augmentation = SSDDataAugmentation(img_height=img_height,\n",
    "                                            img_width=img_width,\n",
    "                                            background=subtract_mean)\n",
    "\n",
    "# For the validation generator:\n",
    "convert_to_3_channels = ConvertTo3Channels()\n",
    "resize = Resize(height=img_height, width=img_width)\n",
    "\n",
    "# 5: Instantiate an encoder that can encode ground truth labels into the format needed by the SSD loss function.\n",
    "\n",
    "# The encoder constructor needs the spatial dimensions of the model's \n",
    "# predictor layers to create the anchor boxes.\n",
    "predictor_sizes = [model.get_layer('conv4_3_norm_mbox_conf').output_shape[1:3],\n",
    "                   model.get_layer('fc7_mbox_conf').output_shape[1:3],\n",
    "                   model.get_layer('conv6_2_mbox_conf').output_shape[1:3],\n",
    "                   model.get_layer('conv7_2_mbox_conf').output_shape[1:3],\n",
    "                   model.get_layer('conv8_2_mbox_conf').output_shape[1:3],\n",
    "                   model.get_layer('conv9_2_mbox_conf').output_shape[1:3]]\n",
    "\n",
    "ssd_input_encoder = SSDInputEncoder(img_height=img_height,\n",
    "                                    img_width=img_width,\n",
    "                                    n_classes=n_classes,\n",
    "                                    predictor_sizes=predictor_sizes,\n",
    "                                    scales=scales,\n",
    "                                    aspect_ratios_per_layer=aspect_ratios,\n",
    "                                    two_boxes_for_ar1=two_boxes_for_ar1,\n",
    "                                    steps=steps,\n",
    "                                    offsets=offsets,\n",
    "                                    clip_boxes=clip_boxes,\n",
    "                                    variances=variances,\n",
    "                                    matching_type='multi',\n",
    "                                    pos_iou_threshold=0.5,\n",
    "                                    neg_iou_limit=0.5,\n",
    "                                    normalize_coords=normalize_coords)\n",
    "\n",
    "# 6: Create the generator handles that will be passed to Keras' `fit_generator()` function.\n",
    "\n",
    "train_generator = train_dataset.generate(batch_size=batch_size,\n",
    "                                         shuffle=True, # If True the training data will be randomly shuffled at each epoch\n",
    "                                         transformations=[ssd_data_augmentation],\n",
    "                                         label_encoder=ssd_input_encoder,\n",
    "                                         returns={'processed_images',  # images after augmentation\n",
    "                                                  'encoded_labels'},    # matched anchors encoded [0,1]\n",
    "                                                  #'processed_labels'}, # ground truth boxes after augmentation\n",
    "                                         keep_images_without_gt=False)\n",
    "\n",
    "val_generator = val_dataset.generate(batch_size=batch_size,\n",
    "                                     shuffle=False,\n",
    "                                     transformations=[convert_to_3_channels, resize],\n",
    "                                     label_encoder=ssd_input_encoder,\n",
    "                                     returns={'processed_images',\n",
    "                                              'encoded_labels'},\n",
    "                                     keep_images_without_gt=False)\n",
    "\n",
    "# Get the number of samples in the training and validations datasets.\n",
    "train_dataset_size = train_dataset.get_dataset_size()\n",
    "val_dataset_size   = val_dataset.get_dataset_size()\n",
    "\n",
    "print(\"Number of images in the training dataset:\\t{:>6}\".format(train_dataset_size))\n",
    "print(\"Number of images in the validation dataset:\\t{:>6}\".format(val_dataset_size))"
   ]
  },
  {
   "cell_type": "markdown",
   "metadata": {},
   "source": [
    "__Note:__ To run the code bellow you need to uncomment line `#54` above."
   ]
  },
  {
   "cell_type": "code",
   "execution_count": 14,
   "metadata": {},
   "outputs": [],
   "source": [
    "def show_images(images, ground_truth, cols = 1, titles = None):\n",
    "    \"\"\"Display a list of images in a single figure with matplotlib.\n",
    "    \n",
    "    Parameters\n",
    "    ---------\n",
    "    images: List of np.arrays compatible with plt.imshow.\n",
    "    \n",
    "    ground_truth: List of np.arrays with the box labels corresponding to the ground truth.\n",
    "    \n",
    "    cols (Default = 1): Number of columns in figure (number of rows is \n",
    "                        set to np.ceil(n_images/float(cols))).\n",
    "    \n",
    "    titles: List of titles corresponding to each image. Must have\n",
    "            the same length as titles.\n",
    "    \"\"\"\n",
    "    assert((titles is None)or (len(images) == len(titles)))\n",
    "    \n",
    "    n_images = len(images)\n",
    "    print(n_images)\n",
    "    \n",
    "    if titles is None: titles = ['Image (%d)' % i for i in range(1,n_images + 1)]\n",
    "    fig = plt.figure()\n",
    "    \n",
    "    for n, (image, title) in enumerate(zip(images, titles)):\n",
    "        a = fig.add_subplot(cols, np.ceil(n_images/float(cols)), n + 1)\n",
    "        if image.ndim == 2:\n",
    "            plt.gray()\n",
    "        plt.imshow(image)\n",
    "        #print(image)\n",
    "        a.set_title(title)\n",
    "        \n",
    "        # Draw ground truth boxes and matches\n",
    "        current_axis = plt.gca()\n",
    "        \n",
    "        for box in ground_truth[n]:\n",
    "            xmin = box[1]\n",
    "            ymin = box[2]\n",
    "            xmax = box[3]\n",
    "            ymax = box[4]\n",
    "            label = '{}'.format(classes[int(box[0])])\n",
    "            current_axis.add_patch(plt.Rectangle((xmin, ymin), \n",
    "                                                 xmax-xmin, \n",
    "                                                 ymax-ymin, \n",
    "                                                 color='green', \n",
    "                                                 fill=False, \n",
    "                                                 linewidth=1))\n",
    "                \n",
    "    fig.set_size_inches(np.array(fig.get_size_inches()) * n_images)\n",
    "    plt.show()\n",
    "\n",
    "# Get the number of batches\n",
    "n_batches = int(np.ceil(train_dataset_size/float(batch_size)))\n",
    "\n",
    "# for batch in range(1): # Change for 'n_batches' to visualize all generated images\n",
    "#     processed_images, encoded_labels, ground_truth = next(train_generator)\n",
    "#     print(\"Number of images in batch\", batch+1, \":\", len(processed_images))\n",
    "#     show_images(processed_images[:3], ground_truth, 1)"
   ]
  },
  {
   "cell_type": "markdown",
   "metadata": {},
   "source": [
    "### 5.4 Set the remaining training parameters\n",
    "\n",
    "We've already chosen an optimizer and set the batch size above, now let's set the remaining training parameters. I'll set one epoch to consist of 10 training steps. \n",
    "\n",
    "_The next code cell defines a learning rate schedule that replicates the learning rate schedule of the original Caffe implementation for the training of the SSD300 Pascal VOC \"07+12\" model. That model was trained for 120,000 steps with a learning rate of 0.001 for the first 80,000 steps, 0.0001 for the next 20,000 steps, and 0.00001 for the last 20,000 steps. If you're training on a different dataset, define the learning rate schedule however you see fit._\n",
    "\n",
    "I'll set only a few essential Keras callbacks below, feel free to add more callbacks if you want TensorBoard summaries or whatever. We obviously need the learning rate scheduler and we want to save the best models during the training. It also makes sense to continuously stream our training history to a CSV log file after every epoch, because if we didn't do that, in case the training terminates with an exception at some point or if the kernel of this Jupyter notebook dies for some reason or anything like that happens, we would lose the entire history for the trained epochs. Finally, we'll also add a callback that makes sure that the training terminates if the loss becomes `NaN`. Depending on the optimizer you use, it can happen that the loss becomes `NaN` during the first iterations of the training. In later iterations it's less of a risk. For example, I've never seen a `NaN` loss when I trained SSD using an Adam optimizer, but I've seen a `NaN` loss a couple of times during the very first couple of hundred training steps of training a new model when I used an SGD optimizer."
   ]
  },
  {
   "cell_type": "code",
   "execution_count": 15,
   "metadata": {},
   "outputs": [],
   "source": [
    "# Define a learning rate schedule.\n",
    "\n",
    "def lr_schedule(epoch):\n",
    "    if epoch < 80:\n",
    "        return 0.001\n",
    "    elif epoch < 100:\n",
    "        return 0.0001\n",
    "    else:\n",
    "        return 0.00001"
   ]
  },
  {
   "cell_type": "code",
   "execution_count": 16,
   "metadata": {},
   "outputs": [],
   "source": [
    "# Define model callbacks.\n",
    "\n",
    "# Set the filepath under which you want to save the model.\n",
    "model_checkpoint = ModelCheckpoint(filepath='./logs/SSD300/outputs/ssd300_IVM_epoch-{epoch:02d}_loss-{loss:.4f}_val_loss-{val_loss:.4f}.h5',\n",
    "                                   monitor='val_loss',\n",
    "                                   verbose=1,\n",
    "                                   save_best_only=True,\n",
    "                                   save_weights_only=False,\n",
    "                                   mode='auto',\n",
    "                                   period=1)\n",
    "\n",
    "csv_logger = CSVLogger(filename='./logs/SSD300/outputs/ssd300_IVM_training_log.csv',\n",
    "                       separator=',',\n",
    "                       append=True)\n",
    "\n",
    "learning_rate_scheduler = LearningRateScheduler(schedule=lr_schedule)\n",
    "\n",
    "terminate_on_nan = TerminateOnNaN()\n",
    "\n",
    "# Set callback for TensorBoard\n",
    "tensorboard = TensorBoard(log_dir='./logs/SSD300/outputs/', \n",
    "                          histogram_freq=0, \n",
    "                          batch_size=batch_size, \n",
    "                          write_graph=True, \n",
    "                          write_grads=True, \n",
    "                          write_images=True, \n",
    "                          embeddings_freq=0, \n",
    "                          embeddings_layer_names=None, \n",
    "                          embeddings_metadata=None, \n",
    "                          embeddings_data=None, \n",
    "                          update_freq='epoch')\n",
    "\n",
    "callbacks = [model_checkpoint,\n",
    "             csv_logger,\n",
    "             learning_rate_scheduler,\n",
    "             terminate_on_nan,\n",
    "             tensorboard]"
   ]
  },
  {
   "cell_type": "markdown",
   "metadata": {},
   "source": [
    "### 5.5 Train model\n",
    "\n",
    "In order to only run a partial training and resume smoothly later on, there are a few things you should note:\n",
    "1. Always load the full model if you can, rather than building a new model and loading previously saved weights into it. Optimizers like SGD or Adam keep running averages of past gradient moments internally. If you always save and load full models when resuming a training, then the state of the optimizer is maintained and the training picks up exactly where it left off. If you build a new model and load weights into it, the optimizer is being initialized from scratch, which, especially in the case of Adam, leads to small but unnecessary setbacks every time you resume the training with previously saved weights.\n",
    "2. In order for the learning rate scheduler callback above to work properly, `fit_generator()` needs to know which epoch we're in, otherwise it will start with epoch 0 every time you resume the training. Set `initial_epoch` to be the next epoch of your training. Note that this parameter is zero-based, i.e. the first epoch is epoch 0. If you had trained for 10 epochs previously and now you'd want to resume the training from there, you'd set `initial_epoch = 10` (since epoch 10 is the eleventh epoch). Furthermore, set `final_epoch` to the last epoch you want to run. To stick with the previous example, if you had trained for 10 epochs previously and now you'd want to train for another 10 epochs, you'd set `initial_epoch = 10` and `final_epoch = 20`.\n",
    "3. In order for the model checkpoint callback above to work correctly after a kernel restart, set `model_checkpoint.best` to the best validation loss from the previous training. If you don't do this and a new `ModelCheckpoint` object is created after a kernel restart, that object obviously won't know what the last best validation loss was, so it will always save the weights of the first epoch of your new training and record that loss as its new best loss. This isn't super-important, I just wanted to mention it.\n",
    "\n",
    "><font color=red>_Since the training generator is random and augment the data with probabilities, what happens if we set the number of iterations higher than the number of batches? Does it create new (different) samples to the training?_</font>\n",
    "\n",
    "***\n",
    "\n",
    "#### Reminder: What does \"sample\", \"batch\", \"epoch\", \"iteration\" mean?\n",
    "\n",
    "Below are some common definitions that are necessary to know and understand to correctly utilize Keras:\n",
    "- __Sample:__ one element of a dataset.\n",
    " - _Example:_ one image is a sample in a convolutional network\n",
    " - _Example:_ one audio file is a sample for a speech recognition model\n",
    "- __Batch:__ a set of N samples. The samples in a batch are processed independently, in parallel. If training, a batch results in only one update to the model.\n",
    " - A batch generally approximates the distribution of the input data better than a single input. Usually, the larger the batch, the better the approximation; however, it is also true that the batch will take longer to process and will still result in only one update, which can \"generalize\" your model to much.\n",
    "  - For inference (evaluate/predict), it is recommended to pick a batch size that is as large as you can afford without going out of memory (since larger batches will usually result in faster evaluation/prediction).\n",
    "- __Batch size:__ Total number of samples (training examples) present in a single batch.\n",
    "- __Epoch:__ an arbitrary cutoff, generally defined as \"one pass (forward and backward) over the entire dataset\", used to separate training into distinct phases, which is useful for logging and periodic evaluation.\n",
    " - When using validation_data or validation_split with the fit method of Keras models, evaluation will be run at the end of every epoch.\n",
    " - Within Keras, there is the ability to add callbacks specifically designed to be run at the end of an epoch. Examples of these are learning rate changes and model checkpointing (saving).\n",
    "- __Iteration:__ Iteration is the number of batches needed to complete one epoch.\n",
    "\n",
    ">_<font color=blue>__Note:__</font> The number of batches is equal to the number of iterations for one epoch._\n",
    "\n",
    "#### Interesting readings\n",
    "\n",
    "- [Batch size vs # of iterations](https://stats.stackexchange.com/questions/164876/tradeoff-batch-size-vs-number-of-iterations-to-train-a-neural-network)\n",
    "- [Defining epoch, batch and iteration](https://towardsdatascience.com/epoch-vs-iterations-vs-batch-size-4dfb9c7ce9c9)"
   ]
  },
  {
   "cell_type": "code",
   "execution_count": 17,
   "metadata": {},
   "outputs": [
    {
     "name": "stdout",
     "output_type": "stream",
     "text": [
      "Epoch 1/100\n",
      "9/9 [==============================] - 24s 3s/step - loss: 14.0205 - acc: 0.4283 - mean_squared_error: 457.0646 - val_loss: 7.6615 - val_acc: 0.3916 - val_mean_squared_error: 54.9532\n",
      "\n",
      "Epoch 00001: val_loss improved from inf to 7.66154, saving model to ./logs/SSD300/outputs/ssd300_IVM_epoch-01_loss-14.2614_val_loss-7.6615.h5\n",
      "Epoch 2/100\n",
      "9/9 [==============================] - 16s 2s/step - loss: 12.0896 - acc: 0.3264 - mean_squared_error: 202.5466 - val_loss: 6.7155 - val_acc: 0.5347 - val_mean_squared_error: 5.3646\n",
      "\n",
      "Epoch 00002: val_loss improved from 7.66154 to 6.71548, saving model to ./logs/SSD300/outputs/ssd300_IVM_epoch-02_loss-12.2826_val_loss-6.7155.h5\n",
      "Epoch 3/100\n",
      "9/9 [==============================] - 18s 2s/step - loss: 12.8361 - acc: 0.4977 - mean_squared_error: 3.8578 - val_loss: 8.8337 - val_acc: 0.2505 - val_mean_squared_error: 1.0600\n",
      "\n",
      "Epoch 00003: val_loss did not improve from 6.71548\n",
      "Epoch 4/100\n",
      "9/9 [==============================] - 19s 2s/step - loss: 10.4285 - acc: 0.2857 - mean_squared_error: 77.7630 - val_loss: 7.2559 - val_acc: 0.2685 - val_mean_squared_error: 1323.4139\n",
      "\n",
      "Epoch 00004: val_loss did not improve from 6.71548\n",
      "Epoch 5/100\n",
      "9/9 [==============================] - 18s 2s/step - loss: 11.0753 - acc: 0.3988 - mean_squared_error: 127.2006 - val_loss: 6.7017 - val_acc: 0.4191 - val_mean_squared_error: 4.0961\n",
      "\n",
      "Epoch 00005: val_loss improved from 6.71548 to 6.70172, saving model to ./logs/SSD300/outputs/ssd300_IVM_epoch-05_loss-11.2103_val_loss-6.7017.h5\n",
      "Epoch 6/100\n",
      "9/9 [==============================] - 17s 2s/step - loss: 9.8340 - acc: 0.5201 - mean_squared_error: 2.6177 - val_loss: 6.1801 - val_acc: 0.4988 - val_mean_squared_error: 2.3652\n",
      "\n",
      "Epoch 00006: val_loss improved from 6.70172 to 6.18014, saving model to ./logs/SSD300/outputs/ssd300_IVM_epoch-06_loss-9.8127_val_loss-6.1801.h5\n",
      "Epoch 7/100\n",
      "9/9 [==============================] - 18s 2s/step - loss: 8.2828 - acc: 0.4223 - mean_squared_error: 5.6994 - val_loss: 6.4212 - val_acc: 0.4171 - val_mean_squared_error: 1.7663\n",
      "\n",
      "Epoch 00007: val_loss did not improve from 6.18014\n",
      "Epoch 8/100\n",
      "9/9 [==============================] - 18s 2s/step - loss: 7.1295 - acc: 0.4983 - mean_squared_error: 2.2270 - val_loss: 5.2918 - val_acc: 0.4551 - val_mean_squared_error: 1.6069\n",
      "\n",
      "Epoch 00008: val_loss improved from 6.18014 to 5.29184, saving model to ./logs/SSD300/outputs/ssd300_IVM_epoch-08_loss-7.2220_val_loss-5.2918.h5\n",
      "Epoch 9/100\n",
      "9/9 [==============================] - 19s 2s/step - loss: 6.7037 - acc: 0.4958 - mean_squared_error: 1.9323 - val_loss: 5.8304 - val_acc: 0.5563 - val_mean_squared_error: 1.3405\n",
      "\n",
      "Epoch 00009: val_loss did not improve from 5.29184\n",
      "Epoch 10/100\n",
      "9/9 [==============================] - 20s 2s/step - loss: 6.9992 - acc: 0.5264 - mean_squared_error: 2.0584 - val_loss: 5.1676 - val_acc: 0.5007 - val_mean_squared_error: 2.0601\n",
      "\n",
      "Epoch 00010: val_loss improved from 5.29184 to 5.16758, saving model to ./logs/SSD300/outputs/ssd300_IVM_epoch-10_loss-7.1119_val_loss-5.1676.h5\n",
      "Epoch 11/100\n",
      "9/9 [==============================] - 19s 2s/step - loss: 6.4882 - acc: 0.4747 - mean_squared_error: 3.1860 - val_loss: 5.1539 - val_acc: 0.5859 - val_mean_squared_error: 1.8036\n",
      "\n",
      "Epoch 00011: val_loss improved from 5.16758 to 5.15385, saving model to ./logs/SSD300/outputs/ssd300_IVM_epoch-11_loss-6.4755_val_loss-5.1539.h5\n",
      "Epoch 12/100\n",
      "9/9 [==============================] - 19s 2s/step - loss: 5.9799 - acc: 0.4656 - mean_squared_error: 3.2474 - val_loss: 5.1352 - val_acc: 0.4231 - val_mean_squared_error: 3.4212\n",
      "\n",
      "Epoch 00012: val_loss improved from 5.15385 to 5.13517, saving model to ./logs/SSD300/outputs/ssd300_IVM_epoch-12_loss-6.0485_val_loss-5.1352.h5\n",
      "Epoch 13/100\n",
      "9/9 [==============================] - 18s 2s/step - loss: 5.8825 - acc: 0.4554 - mean_squared_error: 6.0200 - val_loss: 4.8483 - val_acc: 0.5418 - val_mean_squared_error: 2.2785\n",
      "\n",
      "Epoch 00013: val_loss improved from 5.13517 to 4.84826, saving model to ./logs/SSD300/outputs/ssd300_IVM_epoch-13_loss-5.7527_val_loss-4.8483.h5\n",
      "Epoch 14/100\n",
      "9/9 [==============================] - 18s 2s/step - loss: 6.2051 - acc: 0.5013 - mean_squared_error: 5.4736 - val_loss: 4.9732 - val_acc: 0.4618 - val_mean_squared_error: 4.8189\n",
      "\n",
      "Epoch 00014: val_loss did not improve from 4.84826\n",
      "Epoch 15/100\n",
      "9/9 [==============================] - 18s 2s/step - loss: 6.0561 - acc: 0.4713 - mean_squared_error: 7.8154 - val_loss: 4.7163 - val_acc: 0.5010 - val_mean_squared_error: 6.0992\n",
      "\n",
      "Epoch 00015: val_loss improved from 4.84826 to 4.71628, saving model to ./logs/SSD300/outputs/ssd300_IVM_epoch-15_loss-6.0714_val_loss-4.7163.h5\n",
      "Epoch 16/100\n",
      "9/9 [==============================] - 19s 2s/step - loss: 5.7200 - acc: 0.4201 - mean_squared_error: 15.2057 - val_loss: 5.5418 - val_acc: 0.5527 - val_mean_squared_error: 7.9232\n",
      "\n",
      "Epoch 00016: val_loss did not improve from 4.71628\n",
      "Epoch 17/100\n",
      "9/9 [==============================] - 19s 2s/step - loss: 5.8238 - acc: 0.4815 - mean_squared_error: 8.9373 - val_loss: 5.2241 - val_acc: 0.5564 - val_mean_squared_error: 2.1659\n",
      "\n",
      "Epoch 00017: val_loss did not improve from 4.71628\n",
      "Epoch 18/100\n",
      "9/9 [==============================] - 19s 2s/step - loss: 5.6660 - acc: 0.5673 - mean_squared_error: 4.3959 - val_loss: 4.7582 - val_acc: 0.5435 - val_mean_squared_error: 2.2777\n",
      "\n",
      "Epoch 00018: val_loss did not improve from 4.71628\n",
      "Epoch 19/100\n",
      "9/9 [==============================] - 18s 2s/step - loss: 5.4739 - acc: 0.5837 - mean_squared_error: 2.8412 - val_loss: 4.8282 - val_acc: 0.6394 - val_mean_squared_error: 1.3400\n",
      "\n",
      "Epoch 00019: val_loss did not improve from 4.71628\n",
      "Epoch 20/100\n",
      "9/9 [==============================] - 18s 2s/step - loss: 5.9115 - acc: 0.5618 - mean_squared_error: 3.2125 - val_loss: 4.5569 - val_acc: 0.4844 - val_mean_squared_error: 3.7006\n",
      "\n",
      "Epoch 00020: val_loss improved from 4.71628 to 4.55688, saving model to ./logs/SSD300/outputs/ssd300_IVM_epoch-20_loss-5.5826_val_loss-4.5569.h5\n",
      "Epoch 21/100\n",
      "9/9 [==============================] - 20s 2s/step - loss: 5.4037 - acc: 0.4908 - mean_squared_error: 6.4496 - val_loss: 4.5782 - val_acc: 0.4464 - val_mean_squared_error: 2.7473\n",
      "\n",
      "Epoch 00021: val_loss did not improve from 4.55688\n",
      "Epoch 22/100\n",
      "9/9 [==============================] - 19s 2s/step - loss: 5.5709 - acc: 0.5162 - mean_squared_error: 14.5878 - val_loss: 4.4928 - val_acc: 0.5347 - val_mean_squared_error: 15.7855\n",
      "\n",
      "Epoch 00022: val_loss improved from 4.55688 to 4.49279, saving model to ./logs/SSD300/outputs/ssd300_IVM_epoch-22_loss-5.6026_val_loss-4.4928.h5\n",
      "Epoch 23/100\n",
      "9/9 [==============================] - 19s 2s/step - loss: 5.7947 - acc: 0.5465 - mean_squared_error: 18.0914 - val_loss: 4.3542 - val_acc: 0.5203 - val_mean_squared_error: 6.5879\n",
      "\n",
      "Epoch 00023: val_loss improved from 4.49279 to 4.35420, saving model to ./logs/SSD300/outputs/ssd300_IVM_epoch-23_loss-5.4964_val_loss-4.3542.h5\n",
      "Epoch 24/100\n",
      "9/9 [==============================] - 18s 2s/step - loss: 5.2210 - acc: 0.5213 - mean_squared_error: 7.6279 - val_loss: 4.4552 - val_acc: 0.5221 - val_mean_squared_error: 3.5265\n",
      "\n",
      "Epoch 00024: val_loss did not improve from 4.35420\n",
      "Epoch 25/100\n",
      "9/9 [==============================] - 19s 2s/step - loss: 4.9859 - acc: 0.5664 - mean_squared_error: 4.3714 - val_loss: 4.0360 - val_acc: 0.5977 - val_mean_squared_error: 2.7863\n",
      "\n",
      "Epoch 00025: val_loss improved from 4.35420 to 4.03601, saving model to ./logs/SSD300/outputs/ssd300_IVM_epoch-25_loss-4.9867_val_loss-4.0360.h5\n",
      "Epoch 26/100\n",
      "9/9 [==============================] - 18s 2s/step - loss: 5.0788 - acc: 0.6263 - mean_squared_error: 2.9406 - val_loss: 3.9194 - val_acc: 0.5827 - val_mean_squared_error: 1.8911\n",
      "\n",
      "Epoch 00026: val_loss improved from 4.03601 to 3.91939, saving model to ./logs/SSD300/outputs/ssd300_IVM_epoch-26_loss-5.0598_val_loss-3.9194.h5\n",
      "Epoch 27/100\n",
      "9/9 [==============================] - 19s 2s/step - loss: 5.4051 - acc: 0.5642 - mean_squared_error: 5.0526 - val_loss: 4.0577 - val_acc: 0.6381 - val_mean_squared_error: 2.5026\n",
      "\n",
      "Epoch 00027: val_loss did not improve from 3.91939\n",
      "Epoch 28/100\n",
      "9/9 [==============================] - 19s 2s/step - loss: 5.1872 - acc: 0.5943 - mean_squared_error: 4.9716 - val_loss: 4.3988 - val_acc: 0.5890 - val_mean_squared_error: 4.8504\n"
     ]
    },
    {
     "name": "stdout",
     "output_type": "stream",
     "text": [
      "\n",
      "Epoch 00028: val_loss did not improve from 3.91939\n",
      "Epoch 29/100\n",
      "9/9 [==============================] - 18s 2s/step - loss: 5.4971 - acc: 0.5799 - mean_squared_error: 4.2399 - val_loss: 4.1217 - val_acc: 0.5586 - val_mean_squared_error: 1.8579\n",
      "\n",
      "Epoch 00029: val_loss did not improve from 3.91939\n",
      "Epoch 30/100\n",
      "9/9 [==============================] - 18s 2s/step - loss: 5.0495 - acc: 0.6164 - mean_squared_error: 2.3319 - val_loss: 3.8660 - val_acc: 0.6501 - val_mean_squared_error: 1.5441\n",
      "\n",
      "Epoch 00030: val_loss improved from 3.91939 to 3.86601, saving model to ./logs/SSD300/outputs/ssd300_IVM_epoch-30_loss-5.0210_val_loss-3.8660.h5\n",
      "Epoch 31/100\n",
      "9/9 [==============================] - 19s 2s/step - loss: 4.7182 - acc: 0.6553 - mean_squared_error: 2.7337 - val_loss: 3.8512 - val_acc: 0.6387 - val_mean_squared_error: 2.5009\n",
      "\n",
      "Epoch 00031: val_loss improved from 3.86601 to 3.85117, saving model to ./logs/SSD300/outputs/ssd300_IVM_epoch-31_loss-4.7201_val_loss-3.8512.h5\n",
      "Epoch 32/100\n",
      "9/9 [==============================] - 18s 2s/step - loss: 4.9806 - acc: 0.6305 - mean_squared_error: 3.2433 - val_loss: 4.2627 - val_acc: 0.6214 - val_mean_squared_error: 1.9135\n",
      "\n",
      "Epoch 00032: val_loss did not improve from 3.85117\n",
      "Epoch 33/100\n",
      "9/9 [==============================] - 20s 2s/step - loss: 4.7716 - acc: 0.6161 - mean_squared_error: 2.6833 - val_loss: 3.9455 - val_acc: 0.6270 - val_mean_squared_error: 1.9344\n",
      "\n",
      "Epoch 00033: val_loss did not improve from 3.85117\n",
      "Epoch 34/100\n",
      "9/9 [==============================] - 18s 2s/step - loss: 4.8011 - acc: 0.6419 - mean_squared_error: 2.8708 - val_loss: 3.7610 - val_acc: 0.6514 - val_mean_squared_error: 1.8315\n",
      "\n",
      "Epoch 00034: val_loss improved from 3.85117 to 3.76100, saving model to ./logs/SSD300/outputs/ssd300_IVM_epoch-34_loss-4.8353_val_loss-3.7610.h5\n",
      "Epoch 35/100\n",
      "9/9 [==============================] - 19s 2s/step - loss: 4.5701 - acc: 0.6507 - mean_squared_error: 2.4394 - val_loss: 4.2141 - val_acc: 0.6543 - val_mean_squared_error: 1.6045\n",
      "\n",
      "Epoch 00035: val_loss did not improve from 3.76100\n",
      "Epoch 36/100\n",
      "9/9 [==============================] - 18s 2s/step - loss: 4.9078 - acc: 0.6503 - mean_squared_error: 2.6169 - val_loss: 3.8653 - val_acc: 0.6378 - val_mean_squared_error: 1.7189\n",
      "\n",
      "Epoch 00036: val_loss did not improve from 3.76100\n",
      "Epoch 37/100\n",
      "9/9 [==============================] - 19s 2s/step - loss: 4.9902 - acc: 0.6425 - mean_squared_error: 2.5551 - val_loss: 3.8218 - val_acc: 0.6831 - val_mean_squared_error: 1.3269\n",
      "\n",
      "Epoch 00037: val_loss did not improve from 3.76100\n",
      "Epoch 38/100\n",
      "9/9 [==============================] - 19s 2s/step - loss: 5.2543 - acc: 0.6674 - mean_squared_error: 2.2459 - val_loss: 3.7692 - val_acc: 0.6778 - val_mean_squared_error: 1.1321\n",
      "\n",
      "Epoch 00038: val_loss did not improve from 3.76100\n",
      "Epoch 39/100\n",
      "9/9 [==============================] - 19s 2s/step - loss: 4.9739 - acc: 0.6588 - mean_squared_error: 1.5959 - val_loss: 3.9830 - val_acc: 0.5963 - val_mean_squared_error: 1.9207\n",
      "\n",
      "Epoch 00039: val_loss did not improve from 3.76100\n",
      "Epoch 40/100\n",
      "9/9 [==============================] - 19s 2s/step - loss: 4.9825 - acc: 0.5752 - mean_squared_error: 2.7092 - val_loss: 3.9583 - val_acc: 0.6379 - val_mean_squared_error: 1.4577\n",
      "\n",
      "Epoch 00040: val_loss did not improve from 3.76100\n",
      "Epoch 41/100\n",
      "9/9 [==============================] - 18s 2s/step - loss: 4.9947 - acc: 0.5141 - mean_squared_error: 3.9087 - val_loss: 4.4731 - val_acc: 0.5132 - val_mean_squared_error: 3.2668\n",
      "\n",
      "Epoch 00041: val_loss did not improve from 3.76100\n",
      "Epoch 42/100\n",
      "9/9 [==============================] - 18s 2s/step - loss: 4.9627 - acc: 0.5043 - mean_squared_error: 5.1385 - val_loss: 3.6400 - val_acc: 0.5455 - val_mean_squared_error: 2.4154\n",
      "\n",
      "Epoch 00042: val_loss improved from 3.76100 to 3.63999, saving model to ./logs/SSD300/outputs/ssd300_IVM_epoch-42_loss-5.0380_val_loss-3.6400.h5\n",
      "Epoch 43/100\n",
      "9/9 [==============================] - 19s 2s/step - loss: 4.5956 - acc: 0.5980 - mean_squared_error: 3.0644 - val_loss: 5.7452 - val_acc: 0.5356 - val_mean_squared_error: 1.9973\n",
      "\n",
      "Epoch 00043: val_loss did not improve from 3.63999\n",
      "Epoch 44/100\n",
      "9/9 [==============================] - 18s 2s/step - loss: 4.7630 - acc: 0.5988 - mean_squared_error: 4.0983 - val_loss: 3.5613 - val_acc: 0.6144 - val_mean_squared_error: 2.6501\n",
      "\n",
      "Epoch 00044: val_loss improved from 3.63999 to 3.56129, saving model to ./logs/SSD300/outputs/ssd300_IVM_epoch-44_loss-4.8003_val_loss-3.5613.h5\n",
      "Epoch 45/100\n",
      "9/9 [==============================] - 19s 2s/step - loss: 4.8332 - acc: 0.5758 - mean_squared_error: 4.4858 - val_loss: 3.5057 - val_acc: 0.5983 - val_mean_squared_error: 2.5504\n",
      "\n",
      "Epoch 00045: val_loss improved from 3.56129 to 3.50568, saving model to ./logs/SSD300/outputs/ssd300_IVM_epoch-45_loss-4.7969_val_loss-3.5057.h5\n",
      "Epoch 46/100\n",
      "9/9 [==============================] - 18s 2s/step - loss: 4.8800 - acc: 0.5753 - mean_squared_error: 4.3848 - val_loss: 3.5076 - val_acc: 0.5837 - val_mean_squared_error: 2.7144\n",
      "\n",
      "Epoch 00046: val_loss did not improve from 3.50568\n",
      "Epoch 47/100\n",
      "9/9 [==============================] - 19s 2s/step - loss: 5.0793 - acc: 0.5291 - mean_squared_error: 4.5730 - val_loss: 3.4107 - val_acc: 0.5329 - val_mean_squared_error: 2.3554\n",
      "\n",
      "Epoch 00047: val_loss improved from 3.50568 to 3.41065, saving model to ./logs/SSD300/outputs/ssd300_IVM_epoch-47_loss-4.8321_val_loss-3.4107.h5\n",
      "Epoch 48/100\n",
      "9/9 [==============================] - 18s 2s/step - loss: 4.5980 - acc: 0.5386 - mean_squared_error: 4.3405 - val_loss: 3.3802 - val_acc: 0.6125 - val_mean_squared_error: 2.4544\n",
      "\n",
      "Epoch 00048: val_loss improved from 3.41065 to 3.38022, saving model to ./logs/SSD300/outputs/ssd300_IVM_epoch-48_loss-4.5568_val_loss-3.3802.h5\n",
      "Epoch 49/100\n",
      "9/9 [==============================] - 20s 2s/step - loss: 4.8667 - acc: 0.6201 - mean_squared_error: 4.0402 - val_loss: 3.3531 - val_acc: 0.6616 - val_mean_squared_error: 2.4277\n",
      "\n",
      "Epoch 00049: val_loss improved from 3.38022 to 3.35309, saving model to ./logs/SSD300/outputs/ssd300_IVM_epoch-49_loss-4.8726_val_loss-3.3531.h5\n",
      "Epoch 50/100\n",
      "9/9 [==============================] - 18s 2s/step - loss: 4.6962 - acc: 0.6169 - mean_squared_error: 3.5366 - val_loss: 6.7446 - val_acc: 0.5691 - val_mean_squared_error: 1.8771\n",
      "\n",
      "Epoch 00050: val_loss did not improve from 3.35309\n",
      "Epoch 51/100\n",
      "9/9 [==============================] - 20s 2s/step - loss: 5.6737 - acc: 0.6043 - mean_squared_error: 3.3575 - val_loss: 3.5804 - val_acc: 0.6123 - val_mean_squared_error: 5.4613\n",
      "\n",
      "Epoch 00051: val_loss did not improve from 3.35309\n",
      "Epoch 52/100\n",
      "9/9 [==============================] - 19s 2s/step - loss: 5.2935 - acc: 0.5674 - mean_squared_error: 6.4447 - val_loss: 3.5248 - val_acc: 0.6212 - val_mean_squared_error: 5.2325\n",
      "\n",
      "Epoch 00052: val_loss did not improve from 3.35309\n",
      "Epoch 53/100\n",
      "9/9 [==============================] - 19s 2s/step - loss: 4.7944 - acc: 0.4914 - mean_squared_error: 6.1894 - val_loss: 3.3495 - val_acc: 0.5447 - val_mean_squared_error: 5.4695\n",
      "\n",
      "Epoch 00053: val_loss improved from 3.35309 to 3.34950, saving model to ./logs/SSD300/outputs/ssd300_IVM_epoch-53_loss-4.6818_val_loss-3.3495.h5\n",
      "Epoch 54/100\n",
      "9/9 [==============================] - 19s 2s/step - loss: 5.0124 - acc: 0.4659 - mean_squared_error: 5.2742 - val_loss: 3.7373 - val_acc: 0.4862 - val_mean_squared_error: 3.6188\n",
      "\n",
      "Epoch 00054: val_loss did not improve from 3.34950\n",
      "Epoch 55/100\n",
      "9/9 [==============================] - 19s 2s/step - loss: 4.7944 - acc: 0.5573 - mean_squared_error: 3.6395 - val_loss: 3.2974 - val_acc: 0.6042 - val_mean_squared_error: 2.8826\n",
      "\n",
      "Epoch 00055: val_loss improved from 3.34950 to 3.29735, saving model to ./logs/SSD300/outputs/ssd300_IVM_epoch-55_loss-4.7897_val_loss-3.2974.h5\n",
      "Epoch 56/100\n",
      "9/9 [==============================] - 19s 2s/step - loss: 4.3827 - acc: 0.6275 - mean_squared_error: 3.3543 - val_loss: 3.2235 - val_acc: 0.6626 - val_mean_squared_error: 2.8701\n",
      "\n",
      "Epoch 00056: val_loss improved from 3.29735 to 3.22353, saving model to ./logs/SSD300/outputs/ssd300_IVM_epoch-56_loss-4.4546_val_loss-3.2235.h5\n",
      "Epoch 57/100\n",
      "9/9 [==============================] - 18s 2s/step - loss: 4.4310 - acc: 0.6598 - mean_squared_error: 3.0559 - val_loss: 3.1001 - val_acc: 0.6924 - val_mean_squared_error: 2.7613\n"
     ]
    },
    {
     "name": "stdout",
     "output_type": "stream",
     "text": [
      "\n",
      "Epoch 00057: val_loss improved from 3.22353 to 3.10014, saving model to ./logs/SSD300/outputs/ssd300_IVM_epoch-57_loss-4.3241_val_loss-3.1001.h5\n",
      "Epoch 58/100\n",
      "9/9 [==============================] - 18s 2s/step - loss: 4.3391 - acc: 0.6507 - mean_squared_error: 2.6784 - val_loss: 3.1480 - val_acc: 0.6299 - val_mean_squared_error: 2.0989\n",
      "\n",
      "Epoch 00058: val_loss did not improve from 3.10014\n",
      "Epoch 59/100\n",
      "9/9 [==============================] - 19s 2s/step - loss: 4.4004 - acc: 0.6126 - mean_squared_error: 2.4194 - val_loss: 3.3567 - val_acc: 0.6215 - val_mean_squared_error: 2.6514\n",
      "\n",
      "Epoch 00059: val_loss did not improve from 3.10014\n",
      "Epoch 60/100\n",
      "9/9 [==============================] - 18s 2s/step - loss: 4.4644 - acc: 0.6322 - mean_squared_error: 3.0940 - val_loss: 3.0623 - val_acc: 0.6844 - val_mean_squared_error: 2.9847\n",
      "\n",
      "Epoch 00060: val_loss improved from 3.10014 to 3.06231, saving model to ./logs/SSD300/outputs/ssd300_IVM_epoch-60_loss-4.4646_val_loss-3.0623.h5\n",
      "Epoch 61/100\n",
      "9/9 [==============================] - 19s 2s/step - loss: 4.7853 - acc: 0.6058 - mean_squared_error: 3.9599 - val_loss: 3.6892 - val_acc: 0.6521 - val_mean_squared_error: 3.2833\n",
      "\n",
      "Epoch 00061: val_loss did not improve from 3.06231\n",
      "Epoch 62/100\n",
      "9/9 [==============================] - 19s 2s/step - loss: 4.5980 - acc: 0.6033 - mean_squared_error: 4.5798 - val_loss: 3.2448 - val_acc: 0.6175 - val_mean_squared_error: 4.0519\n",
      "\n",
      "Epoch 00062: val_loss did not improve from 3.06231\n",
      "Epoch 63/100\n",
      "9/9 [==============================] - 19s 2s/step - loss: 4.6724 - acc: 0.6243 - mean_squared_error: 4.4612 - val_loss: 3.2091 - val_acc: 0.7263 - val_mean_squared_error: 2.8370\n",
      "\n",
      "Epoch 00063: val_loss did not improve from 3.06231\n",
      "Epoch 64/100\n",
      "9/9 [==============================] - 18s 2s/step - loss: 4.1403 - acc: 0.7303 - mean_squared_error: 3.3405 - val_loss: 2.9646 - val_acc: 0.7357 - val_mean_squared_error: 2.8663\n",
      "\n",
      "Epoch 00064: val_loss improved from 3.06231 to 2.96464, saving model to ./logs/SSD300/outputs/ssd300_IVM_epoch-64_loss-4.1996_val_loss-2.9646.h5\n",
      "Epoch 65/100\n",
      "9/9 [==============================] - 19s 2s/step - loss: 4.1334 - acc: 0.7634 - mean_squared_error: 3.1870 - val_loss: 3.0354 - val_acc: 0.7080 - val_mean_squared_error: 2.5974\n",
      "\n",
      "Epoch 00065: val_loss did not improve from 2.96464\n",
      "Epoch 66/100\n",
      "9/9 [==============================] - 19s 2s/step - loss: 4.3500 - acc: 0.7435 - mean_squared_error: 3.0003 - val_loss: 2.9140 - val_acc: 0.7421 - val_mean_squared_error: 2.7894\n",
      "\n",
      "Epoch 00066: val_loss improved from 2.96464 to 2.91397, saving model to ./logs/SSD300/outputs/ssd300_IVM_epoch-66_loss-4.3668_val_loss-2.9140.h5\n",
      "Epoch 67/100\n",
      "9/9 [==============================] - 19s 2s/step - loss: 4.0578 - acc: 0.7423 - mean_squared_error: 3.1186 - val_loss: 2.9161 - val_acc: 0.6801 - val_mean_squared_error: 2.7877\n",
      "\n",
      "Epoch 00067: val_loss did not improve from 2.91397\n",
      "Epoch 68/100\n",
      "9/9 [==============================] - 19s 2s/step - loss: 4.3225 - acc: 0.6744 - mean_squared_error: 3.0127 - val_loss: 2.8748 - val_acc: 0.6663 - val_mean_squared_error: 2.8668\n",
      "\n",
      "Epoch 00068: val_loss improved from 2.91397 to 2.87478, saving model to ./logs/SSD300/outputs/ssd300_IVM_epoch-68_loss-4.3635_val_loss-2.8748.h5\n",
      "Epoch 69/100\n",
      "9/9 [==============================] - 17s 2s/step - loss: 3.9803 - acc: 0.6744 - mean_squared_error: 3.0576 - val_loss: 2.8363 - val_acc: 0.7358 - val_mean_squared_error: 2.5754\n",
      "\n",
      "Epoch 00069: val_loss improved from 2.87478 to 2.83625, saving model to ./logs/SSD300/outputs/ssd300_IVM_epoch-69_loss-3.9681_val_loss-2.8363.h5\n",
      "Epoch 70/100\n",
      "9/9 [==============================] - 18s 2s/step - loss: 3.9484 - acc: 0.7005 - mean_squared_error: 3.1583 - val_loss: 2.8933 - val_acc: 0.7384 - val_mean_squared_error: 2.7490\n",
      "\n",
      "Epoch 00070: val_loss did not improve from 2.83625\n",
      "Epoch 71/100\n",
      "9/9 [==============================] - 19s 2s/step - loss: 4.0068 - acc: 0.7202 - mean_squared_error: 3.0722 - val_loss: 2.7370 - val_acc: 0.7154 - val_mean_squared_error: 2.6783\n",
      "\n",
      "Epoch 00071: val_loss improved from 2.83625 to 2.73697, saving model to ./logs/SSD300/outputs/ssd300_IVM_epoch-71_loss-4.0609_val_loss-2.7370.h5\n",
      "Epoch 72/100\n",
      "9/9 [==============================] - 19s 2s/step - loss: 3.8756 - acc: 0.7042 - mean_squared_error: 2.8927 - val_loss: 2.7518 - val_acc: 0.7485 - val_mean_squared_error: 2.4741\n",
      "\n",
      "Epoch 00072: val_loss did not improve from 2.73697\n",
      "Epoch 73/100\n",
      "9/9 [==============================] - 18s 2s/step - loss: 3.8395 - acc: 0.7267 - mean_squared_error: 2.9625 - val_loss: 2.8774 - val_acc: 0.7565 - val_mean_squared_error: 2.4458\n",
      "\n",
      "Epoch 00073: val_loss did not improve from 2.73697\n",
      "Epoch 74/100\n",
      "9/9 [==============================] - 19s 2s/step - loss: 4.0427 - acc: 0.6776 - mean_squared_error: 3.2982 - val_loss: 2.6681 - val_acc: 0.6954 - val_mean_squared_error: 2.8286\n",
      "\n",
      "Epoch 00074: val_loss improved from 2.73697 to 2.66809, saving model to ./logs/SSD300/outputs/ssd300_IVM_epoch-74_loss-4.0790_val_loss-2.6681.h5\n",
      "Epoch 75/100\n",
      "9/9 [==============================] - 19s 2s/step - loss: 4.1308 - acc: 0.6378 - mean_squared_error: 3.0520 - val_loss: 2.6808 - val_acc: 0.7488 - val_mean_squared_error: 2.1806\n",
      "\n",
      "Epoch 00075: val_loss did not improve from 2.66809\n",
      "Epoch 76/100\n",
      "9/9 [==============================] - 18s 2s/step - loss: 3.8098 - acc: 0.6937 - mean_squared_error: 2.2775 - val_loss: 2.6090 - val_acc: 0.7160 - val_mean_squared_error: 2.0251\n",
      "\n",
      "Epoch 00076: val_loss improved from 2.66809 to 2.60899, saving model to ./logs/SSD300/outputs/ssd300_IVM_epoch-76_loss-3.8970_val_loss-2.6090.h5\n",
      "Epoch 77/100\n",
      "9/9 [==============================] - 19s 2s/step - loss: 4.8869 - acc: 0.6893 - mean_squared_error: 1.7647 - val_loss: 3.0670 - val_acc: 0.7109 - val_mean_squared_error: 1.4427\n",
      "\n",
      "Epoch 00077: val_loss did not improve from 2.60899\n",
      "Epoch 78/100\n",
      "9/9 [==============================] - 19s 2s/step - loss: 4.8665 - acc: 0.6944 - mean_squared_error: 3.0553 - val_loss: 3.5189 - val_acc: 0.6615 - val_mean_squared_error: 2.5330\n",
      "\n",
      "Epoch 00078: val_loss did not improve from 2.60899\n",
      "Epoch 79/100\n",
      "9/9 [==============================] - 19s 2s/step - loss: 4.4763 - acc: 0.7066 - mean_squared_error: 2.2726 - val_loss: 3.1141 - val_acc: 0.7254 - val_mean_squared_error: 1.6773\n",
      "\n",
      "Epoch 00079: val_loss did not improve from 2.60899\n",
      "Epoch 80/100\n",
      "9/9 [==============================] - 18s 2s/step - loss: 4.3025 - acc: 0.6969 - mean_squared_error: 2.0654 - val_loss: 2.8966 - val_acc: 0.6713 - val_mean_squared_error: 2.0714\n",
      "\n",
      "Epoch 00080: val_loss did not improve from 2.60899\n",
      "Epoch 81/100\n",
      "9/9 [==============================] - 19s 2s/step - loss: 4.0456 - acc: 0.7114 - mean_squared_error: 2.0958 - val_loss: 2.8227 - val_acc: 0.6826 - val_mean_squared_error: 1.8037\n",
      "\n",
      "Epoch 00081: val_loss did not improve from 2.60899\n",
      "Epoch 82/100\n",
      "9/9 [==============================] - 17s 2s/step - loss: 4.0258 - acc: 0.7141 - mean_squared_error: 1.8466 - val_loss: 2.7754 - val_acc: 0.6847 - val_mean_squared_error: 1.6332\n",
      "\n",
      "Epoch 00082: val_loss did not improve from 2.60899\n",
      "Epoch 83/100\n",
      "9/9 [==============================] - 18s 2s/step - loss: 4.0947 - acc: 0.7154 - mean_squared_error: 1.7812 - val_loss: 2.7830 - val_acc: 0.6964 - val_mean_squared_error: 1.5628\n",
      "\n",
      "Epoch 00083: val_loss did not improve from 2.60899\n",
      "Epoch 84/100\n",
      "9/9 [==============================] - 18s 2s/step - loss: 4.1580 - acc: 0.7302 - mean_squared_error: 1.7580 - val_loss: 2.7513 - val_acc: 0.7098 - val_mean_squared_error: 1.5895\n",
      "\n",
      "Epoch 00084: val_loss did not improve from 2.60899\n",
      "Epoch 85/100\n",
      "9/9 [==============================] - 19s 2s/step - loss: 4.0214 - acc: 0.7343 - mean_squared_error: 1.7587 - val_loss: 2.7246 - val_acc: 0.7075 - val_mean_squared_error: 1.6159\n",
      "\n",
      "Epoch 00085: val_loss did not improve from 2.60899\n",
      "Epoch 86/100\n",
      "9/9 [==============================] - 18s 2s/step - loss: 3.9066 - acc: 0.7394 - mean_squared_error: 1.7862 - val_loss: 2.7085 - val_acc: 0.7192 - val_mean_squared_error: 1.6042\n",
      "\n",
      "Epoch 00086: val_loss did not improve from 2.60899\n",
      "Epoch 87/100\n",
      "9/9 [==============================] - 19s 2s/step - loss: 4.1681 - acc: 0.7519 - mean_squared_error: 1.7756 - val_loss: 2.6884 - val_acc: 0.7347 - val_mean_squared_error: 1.6183\n",
      "\n",
      "Epoch 00087: val_loss did not improve from 2.60899\n",
      "Epoch 88/100\n"
     ]
    },
    {
     "name": "stdout",
     "output_type": "stream",
     "text": [
      "9/9 [==============================] - 18s 2s/step - loss: 3.7890 - acc: 0.7616 - mean_squared_error: 1.8185 - val_loss: 2.6747 - val_acc: 0.7303 - val_mean_squared_error: 1.6743\n",
      "\n",
      "Epoch 00088: val_loss did not improve from 2.60899\n",
      "Epoch 89/100\n",
      "9/9 [==============================] - 19s 2s/step - loss: 4.0056 - acc: 0.7569 - mean_squared_error: 1.8970 - val_loss: 2.6611 - val_acc: 0.7315 - val_mean_squared_error: 1.6705\n",
      "\n",
      "Epoch 00089: val_loss did not improve from 2.60899\n",
      "Epoch 90/100\n",
      "9/9 [==============================] - 19s 2s/step - loss: 3.9910 - acc: 0.7587 - mean_squared_error: 1.9132 - val_loss: 2.6484 - val_acc: 0.7282 - val_mean_squared_error: 1.7169\n",
      "\n",
      "Epoch 00090: val_loss did not improve from 2.60899\n",
      "Epoch 91/100\n",
      "9/9 [==============================] - 19s 2s/step - loss: 3.9128 - acc: 0.7579 - mean_squared_error: 1.9071 - val_loss: 2.6675 - val_acc: 0.7277 - val_mean_squared_error: 1.6812\n",
      "\n",
      "Epoch 00091: val_loss did not improve from 2.60899\n",
      "Epoch 92/100\n",
      "9/9 [==============================] - 18s 2s/step - loss: 3.7900 - acc: 0.7569 - mean_squared_error: 1.8889 - val_loss: 2.6357 - val_acc: 0.7301 - val_mean_squared_error: 1.7020\n",
      "\n",
      "Epoch 00092: val_loss did not improve from 2.60899\n",
      "Epoch 93/100\n",
      "9/9 [==============================] - 18s 2s/step - loss: 4.1834 - acc: 0.7610 - mean_squared_error: 1.8552 - val_loss: 2.6247 - val_acc: 0.7347 - val_mean_squared_error: 1.6612\n",
      "\n",
      "Epoch 00093: val_loss did not improve from 2.60899\n",
      "Epoch 94/100\n",
      "9/9 [==============================] - 19s 2s/step - loss: 3.9389 - acc: 0.7553 - mean_squared_error: 1.8955 - val_loss: 2.6411 - val_acc: 0.7254 - val_mean_squared_error: 1.6838\n",
      "\n",
      "Epoch 00094: val_loss did not improve from 2.60899\n",
      "Epoch 95/100\n",
      "9/9 [==============================] - 18s 2s/step - loss: 3.8896 - acc: 0.7551 - mean_squared_error: 1.8732 - val_loss: 2.6133 - val_acc: 0.7307 - val_mean_squared_error: 1.6828\n",
      "\n",
      "Epoch 00095: val_loss did not improve from 2.60899\n",
      "Epoch 96/100\n",
      "9/9 [==============================] - 18s 2s/step - loss: 3.7102 - acc: 0.7582 - mean_squared_error: 1.8611 - val_loss: 2.6218 - val_acc: 0.7396 - val_mean_squared_error: 1.6570\n",
      "\n",
      "Epoch 00096: val_loss did not improve from 2.60899\n",
      "Epoch 97/100\n",
      "9/9 [==============================] - 18s 2s/step - loss: 3.8973 - acc: 0.7617 - mean_squared_error: 1.9198 - val_loss: 2.6013 - val_acc: 0.7401 - val_mean_squared_error: 1.6875\n",
      "\n",
      "Epoch 00097: val_loss improved from 2.60899 to 2.60125, saving model to ./logs/SSD300/outputs/ssd300_IVM_epoch-97_loss-3.9305_val_loss-2.6013.h5\n",
      "Epoch 98/100\n",
      "9/9 [==============================] - 19s 2s/step - loss: 3.8648 - acc: 0.7612 - mean_squared_error: 1.8916 - val_loss: 2.6221 - val_acc: 0.7285 - val_mean_squared_error: 1.6834\n",
      "\n",
      "Epoch 00098: val_loss did not improve from 2.60125\n",
      "Epoch 99/100\n",
      "9/9 [==============================] - 18s 2s/step - loss: 3.7309 - acc: 0.7522 - mean_squared_error: 1.8781 - val_loss: 2.5935 - val_acc: 0.7265 - val_mean_squared_error: 1.6772\n",
      "\n",
      "Epoch 00099: val_loss improved from 2.60125 to 2.59346, saving model to ./logs/SSD300/outputs/ssd300_IVM_epoch-99_loss-3.7844_val_loss-2.5935.h5\n",
      "Epoch 100/100\n",
      "9/9 [==============================] - 18s 2s/step - loss: 3.6996 - acc: 0.7557 - mean_squared_error: 1.8678 - val_loss: 2.5913 - val_acc: 0.7282 - val_mean_squared_error: 1.7093\n",
      "\n",
      "Epoch 00100: val_loss improved from 2.59346 to 2.59131, saving model to ./logs/SSD300/outputs/ssd300_IVM_epoch-100_loss-3.7407_val_loss-2.5913.h5\n",
      "Time for training (seconds):  1874.436060667038\n"
     ]
    }
   ],
   "source": [
    "# To calculate the time spent in training set the start and end times\n",
    "start_time = time()\n",
    "\n",
    "# If you're resuming a previous training, set `initial_epoch` and `final_epoch` accordingly.\n",
    "initial_epoch = 0 # Zero if training (or fine-tunning) for the first time\n",
    "final_epoch = 100 # Trade-off between underfitting (less epochs) and overfitting (much epochs) data\n",
    "steps_per_epoch = n_batches\n",
    "\n",
    "history = parallel_model.fit_generator(generator=train_generator,\n",
    "                              steps_per_epoch=steps_per_epoch,\n",
    "                              epochs=final_epoch,\n",
    "                              callbacks=callbacks,\n",
    "                              validation_data=val_generator,\n",
    "                              validation_steps=ceil(val_dataset_size/batch_size),\n",
    "                              initial_epoch=initial_epoch,\n",
    "                              verbose=1)\n",
    "\n",
    "end_time = time()\n",
    "elapsed = end_time - start_time\n",
    "print(\"Time for training (seconds): \", elapsed)"
   ]
  },
  {
   "cell_type": "markdown",
   "metadata": {},
   "source": [
    "### 5.6 Saving the Model\n",
    "\n",
    "You can use `model.save(filepath)` to save a Keras model into a single HDF5 file which will contain:\n",
    "\n",
    "- the architecture of the model, allowing to re-create the model\n",
    "- the weights of the model\n",
    "- the training configuration (loss, optimizer)\n",
    "- the state of the optimizer, allowing to resume training exactly where you left off.\n",
    "\n",
    "You can then use `keras.models.load_model(filepath)` to reinstantiate your model. `load_model` will also take care of compiling the model using the saved training configuration (unless the model was never compiled in the first place)."
   ]
  },
  {
   "cell_type": "code",
   "execution_count": 18,
   "metadata": {},
   "outputs": [],
   "source": [
    "# Save the model into a single HDF5 file\n",
    "model.save('./logs/SSD300/outputs/model.h5')"
   ]
  },
  {
   "cell_type": "markdown",
   "metadata": {},
   "source": [
    "### 5.7 Visualizing Learning\n",
    "\n",
    "Note that the model is being trained with the callback called TensorBoard.\n",
    "\n",
    "__TensorBoard__ is a visualization tool provided with TensorFlow, which means that installing TensorFlow via pip should also automatically install TensorBoard. In this [link](https://www.tensorflow.org/guide/) is possible to see a guide for this incredible tool.\n",
    "\n",
    "To run the visualization tool from the server we can use the same idea of this notebook visualization with jupyter. From a different terminal window run the following:\n",
    "\n",
    "`ssh -N -L 6006:localhost:6006 user@server`\n",
    "\n",
    "This command will allow a connection with the server at port 6006, that can be accessed now through your localhost address.\n",
    "\n",
    "To launch the TensorBoard, run the following command in a different prompt window:\n",
    "\n",
    "`tensorboard --logdir=/full_path_to_your_logs`\n",
    "\n",
    "The prompt window will show a message with the link to access your new TensorBoard, similar to the following message:\n",
    "\n",
    "`TensorBoard 1.12.2 at http://server:6006 (Press CTRL+C to quit)`\n",
    "\n",
    "Now you only need to open the link in a brownser on your local machine.\n",
    "\n",
    ">__Note:__ When using a backend other than TensorFlow, TensorBoard will still work (if you have TensorFlow installed), but the only feature available will be the display of the losses and metrics plots.\n",
    "\n",
    "Other options for a live loss plot while using Jupyter notebook include the use of this useful [tool](https://github.com/deepsense-ai/intel-ai-webinar-neural-networks/blob/master/notebook_done.ipynb). Of course you can plot directly from the csv file generated by `CSVLogger`, or plot from training history, which is a dictionary recording training loss values and metrics values at successive epochs, as well as validation loss values and validation metrics values (if applicable). Here is an example using `matplotlib` to generate loss and accuracy plots for training and validation:"
   ]
  },
  {
   "cell_type": "code",
   "execution_count": 31,
   "metadata": {},
   "outputs": [
    {
     "data": {
      "image/png": "[encoded data removed]",
      "text/plain": [
       "<Figure size 864x576 with 1 Axes>"
      ]
     },
     "metadata": {
      "needs_background": "light"
     },
     "output_type": "display_data"
    },
    {
     "data": {
      "image/png": "[encoded data removed]",
      "text/plain": [
       "<Figure size 864x576 with 1 Axes>"
      ]
     },
     "metadata": {
      "needs_background": "light"
     },
     "output_type": "display_data"
    }
   ],
   "source": [
    "# Plot training & validation accuracy values\n",
    "plt.figure(figsize=[12, 8])\n",
    "plt.plot(history.history['acc'])\n",
    "plt.plot(history.history['val_acc'])\n",
    "plt.title('Acurácia do modelo')\n",
    "plt.ylabel('Acurácia')\n",
    "plt.xlabel('Época')\n",
    "plt.legend(['Treinamento', 'Teste'], loc='upper left')\n",
    "plt.show()\n",
    "\n",
    "# Plot training & validation loss values\n",
    "plt.figure(figsize=[12, 8])\n",
    "plt.plot(history.history['loss'])\n",
    "plt.plot(history.history['val_loss'])\n",
    "plt.title('Perda do modelo')\n",
    "plt.ylabel('Perda')\n",
    "plt.xlabel('Época')\n",
    "plt.legend(['Treinamento', 'Teste'], loc='upper left')\n",
    "plt.show()"
   ]
  },
  {
   "cell_type": "markdown",
   "metadata": {},
   "source": [
    "__Why is the training loss much higher than the testing loss?__\n",
    "\n",
    "A Keras model has two modes: training and testing. Regularization mechanisms, such as Dropout and L1/L2 weight regularization, are turned off at testing time.\n",
    "\n",
    "Besides, the training loss is the average of the losses over each batch of training data. Because your model is changing over time, the loss over the first batches of an epoch is generally higher than over the last batches. On the other hand, the testing loss for an epoch is computed using the model as it is at the end of the epoch, resulting in a lower loss.\n",
    "\n",
    "## 6. Make predictions\n",
    "\n",
    "Now let's make some predictions on the test dataset with the trained model. For convenience we'll use the test generator in the same way we set up above. Feel free to change the batch size.\n",
    "\n",
    "You can set the `shuffle` option to `False` if you would like to check the model's progress on the same image(s) over the course of the training."
   ]
  },
  {
   "cell_type": "code",
   "execution_count": 20,
   "metadata": {},
   "outputs": [
    {
     "name": "stdout",
     "output_type": "stream",
     "text": [
      "Processing image set 'test.txt': 100%|██████████| 9/9 [00:00<00:00, 87.90it/s]\n",
      "Loading images into memory: 100%|██████████| 9/9 [00:00<00:00, 71.47it/s]\n",
      "Image: dataset/frames/Foto-0012_1.jpg\n",
      "\n",
      "Ground truth boxes:\n",
      "\n",
      "[[   1  531  104  551  126]\n",
      " [   1  480  153  503  176]\n",
      " [   1  507  214  531  239]\n",
      " [   1  803  119  851  167]\n",
      " [   1  719  156  758  194]\n",
      " [   1  530  427  554  452]\n",
      " [   1  547  415  570  436]\n",
      " [   1  635  558  653  576]\n",
      " [   1  658  562  681  584]\n",
      " [   1  607  609  632  638]\n",
      " [   1  592  702  605  718]\n",
      " [   1  592  748  620  780]\n",
      " [   1  899  603  940  643]\n",
      " [   1  665  848  686  872]\n",
      " [   1  428  339  465  375]\n",
      " [   1  665  958  686  984]\n",
      " [   1  668 1002  697 1030]]\n"
     ]
    }
   ],
   "source": [
    "# 1: Set the test dataset.\n",
    "test_dataset  = DataGenerator(load_images_into_memory=True, hdf5_dataset_path=None, labels_output_format=('class_id', 'xmin', 'ymin', 'xmax', 'ymax'))\n",
    "\n",
    "test_dataset.parse_xml(images_dirs=[IVM_imgs_dir],\n",
    "                       image_set_filenames=[IVM_general_test,\n",
    "                                            IVM_all_test,\n",
    "                                            IVM_all_split_test,\n",
    "                                            IVM_cns_test,\n",
    "                                            IVM_cns_unseen_test_test,\n",
    "                                            IVM_selected_frames_test],\n",
    "                       annotations_dirs=[IVM_anno_dir],\n",
    "                       classes=classes,\n",
    "                       include_classes='all',\n",
    "                       exclude_truncated=False,\n",
    "                       exclude_difficult=True,\n",
    "                       ret=False)\n",
    "\n",
    "# 2: Set the generator for the predictions.\n",
    "predict_generator = test_dataset.generate(batch_size=10,\n",
    "                                          shuffle=True,\n",
    "                                          transformations=[convert_to_3_channels,\n",
    "                                                           resize],\n",
    "                                          label_encoder=None,\n",
    "                                          returns={'processed_images',\n",
    "                                                   'filenames',\n",
    "                                                   'inverse_transform',\n",
    "                                                   'original_images',\n",
    "                                                   'original_labels'},\n",
    "                                          keep_images_without_gt=False)\n",
    "\n",
    "# 3: Generate samples.\n",
    "batch_images, batch_filenames, batch_inverse_transforms, batch_original_images, batch_original_labels = next(predict_generator)\n",
    "\n",
    "i = 0 # Which batch item to look at\n",
    "\n",
    "print(\"Image:\", batch_filenames[i])\n",
    "print()\n",
    "print(\"Ground truth boxes:\\n\")\n",
    "print(np.array(batch_original_labels[i]))\n",
    "\n",
    "# 4: Make predictions.\n",
    "y_pred = model.predict(batch_images)"
   ]
  },
  {
   "cell_type": "markdown",
   "metadata": {},
   "source": [
    "Now let's decode the raw predictions in `y_pred`.\n",
    "\n",
    "Had we created the model in __inference__ or __inference_fast__ mode, then the model's final layer would be a `DecodeDetections` layer and `y_pred` would already contain the decoded predictions, but since we created the model in __training__ mode, the model outputs raw predictions that still need to be decoded and filtered. This is what the `decode_detections()` function is for. It does exactly what the `DecodeDetections` layer would do, but using Numpy instead of TensorFlow (i.e. on the CPU instead of the GPU).\n",
    "\n",
    "`decode_detections()` with default argument values follows the procedure of the original SSD implementation: First, a very low confidence threshold of 0.01 is applied to filter out the majority of the predicted boxes, then greedy non-maximum suppression (NMS) is performed per class with an intersection-over-union (IoU) threshold of 0.45, and out of what is left after that, the top 200 highest confidence boxes are returned. Those settings are for precision-recall scoring purposes though. In order to get some usable final predictions, we'll set the confidence threshold much higher, e.g. to 0.5, since we're only interested in the very confident predictions."
   ]
  },
  {
   "cell_type": "code",
   "execution_count": 21,
   "metadata": {},
   "outputs": [],
   "source": [
    "# 5: Decode the raw predictions in `y_pred`.\n",
    "y_pred_decoded = decode_detections(y_pred,\n",
    "                                   confidence_thresh=0.25,\n",
    "                                   iou_threshold=0.5,\n",
    "                                   top_k=200,\n",
    "                                   normalize_coords=normalize_coords,\n",
    "                                   img_height=img_height,\n",
    "                                   img_width=img_width)"
   ]
  },
  {
   "cell_type": "markdown",
   "metadata": {},
   "source": [
    "We made the predictions on the resized images, but we'd like to visualize the outcome on the original input images, so we'll convert the coordinates accordingly. Don't worry about that opaque `apply_inverse_transforms()` function below, in this simple case it just aplies `(* original_image_size / resized_image_size)` to the box coordinates."
   ]
  },
  {
   "cell_type": "code",
   "execution_count": 22,
   "metadata": {},
   "outputs": [
    {
     "name": "stdout",
     "output_type": "stream",
     "text": [
      "Predicted boxes:\n",
      "\n",
      "   class   conf xmin   ymin   xmax   ymax\n",
      "[[   1.      0.9   709.    149.    763.    203.  ]\n",
      " [   1.      0.66 1118.    677.   1195.    734.  ]\n",
      " [   1.      0.62  802.    114.    847.    158.  ]\n",
      " [   1.      0.52  523.    420.    558.    458.  ]\n",
      " [   1.      0.4   609.    609.    638.    641.  ]\n",
      " [   1.      0.37 1064.    799.   1117.    840.  ]\n",
      " [   1.      0.33  592.    748.    620.    781.  ]\n",
      " [   1.      0.32  898.    601.    946.    648.  ]\n",
      " [   1.      0.3   642.    555.    679.    589.  ]\n",
      " [   1.      0.3  1041.    808.   1090.    847.  ]]\n"
     ]
    }
   ],
   "source": [
    "# 6: Convert the predictions for the original image.\n",
    "y_pred_decoded_inv = apply_inverse_transforms(y_pred_decoded, batch_inverse_transforms)\n",
    "\n",
    "np.set_printoptions(precision=2, suppress=True, linewidth=90)\n",
    "print(\"Predicted boxes:\\n\")\n",
    "print('   class   conf xmin   ymin   xmax   ymax')\n",
    "print(y_pred_decoded_inv[i])"
   ]
  },
  {
   "cell_type": "markdown",
   "metadata": {},
   "source": [
    "Finally, let's draw the predicted boxes onto the image. Each predicted box says its confidence next to the category name. The ground truth boxes are also drawn onto the image in green for comparison."
   ]
  },
  {
   "cell_type": "code",
   "execution_count": 23,
   "metadata": {},
   "outputs": [
    {
     "data": {
      "image/png": "[encoded data removed]",
      "text/plain": [
       "<Figure size 1440x864 with 1 Axes>"
      ]
     },
     "metadata": {
      "needs_background": "light"
     },
     "output_type": "display_data"
    }
   ],
   "source": [
    "# 7: Draw the predicted boxes onto the image\n",
    "\n",
    "# Set the colors for the bounding boxes\n",
    "colors = plt.cm.hsv(np.linspace(0, 1, n_classes+1)).tolist()\n",
    "classes = ['background', 'cell']\n",
    "\n",
    "plt.figure(figsize=(20,12))\n",
    "plt.imshow(batch_original_images[i])\n",
    "\n",
    "current_axis = plt.gca()\n",
    "\n",
    "for box in batch_original_labels[i]:\n",
    "    xmin = box[1]\n",
    "    ymin = box[2]\n",
    "    xmax = box[3]\n",
    "    ymax = box[4]\n",
    "    label = '{}'.format(classes[int(box[0])])\n",
    "    current_axis.add_patch(plt.Rectangle((xmin, ymin), xmax-xmin, ymax-ymin, color='green', fill=False, linewidth=2))\n",
    "    current_axis.text(xmin, ymin, label, size='large', color='white', bbox={'facecolor':'green', 'alpha':1.0})\n",
    "\n",
    "for box in y_pred_decoded_inv[i]:\n",
    "    xmin = box[2]\n",
    "    ymin = box[3]\n",
    "    xmax = box[4]\n",
    "    ymax = box[5]\n",
    "    color = colors[int(box[0])]\n",
    "    label = '{}: {:.2f}'.format(classes[int(box[0])], box[1])\n",
    "    current_axis.add_patch(plt.Rectangle((xmin, ymin), xmax-xmin, ymax-ymin, color=color, fill=False, linewidth=2))\n",
    "    current_axis.text(xmin, ymin, label, size='large', color='white', bbox={'facecolor':color, 'alpha':1.0})"
   ]
  },
  {
   "cell_type": "markdown",
   "metadata": {},
   "source": [
    "__How can I obtain the output of an intermediate layer?__\n",
    "\n",
    "One simple way is to create a new Model that will output the layers that you are interested in:\n",
    "\n",
    "````python\n",
    "    from keras.models import Model\n",
    "    \n",
    "    model = ...  # create the original model\n",
    "    layer_name = 'my_layer'\n",
    "    intermediate_layer_model = Model(inputs=model.input,\n",
    "                                     outputs=model.get_layer(layer_name).output)\n",
    "    intermediate_output = intermediate_layer_model.predict(data)\n",
    "````\n",
    "\n",
    "Alternatively, you can build a Keras function that will return the output of a certain layer given a certain input, for example:\n",
    "\n",
    "````python\n",
    "    from keras import backend as K\n",
    "\n",
    "    # with a Sequential model\n",
    "    get_3rd_layer_output = K.function([model.layers[0].input],\n",
    "                                      [model.layers[3].output])\n",
    "    layer_output = get_3rd_layer_output([x])[0]\n",
    "````\n",
    "\n",
    "Similarly, you could build a Theano and TensorFlow function directly.\n",
    "\n",
    "Note that if your model has a different behavior in training and testing phase (e.g. if it uses `Dropout`, `BatchNormalization`, etc.), you will need to pass the learning phase flag to your function:\n",
    "\n",
    "\n",
    "````python\n",
    "    get_3rd_layer_output = K.function([model.layers[0].input, K.learning_phase()],\n",
    "                                      [model.layers[3].output])\n",
    "    \n",
    "    # output in test mode = 0\n",
    "    layer_output = get_3rd_layer_output([x, 0])[0]\n",
    "    \n",
    "    # output in train mode = 1\n",
    "    layer_output = get_3rd_layer_output([x, 1])[0]\n",
    "````\n",
    "\n",
    "----\n",
    "\n",
    "# TODO\n",
    "\n",
    "- __Data augmentation__\n",
    " - Add deformable transformation [ref](https://static-content.springer.com/esm/art%3A10.1038%2Fs41592-018-0261-2/MediaObjects/41592_2018_261_MOESM1_ESM.pdf)\n",
    " - Print the images on data augmentation [ref](https://blog.keras.io/building-powerful-image-classification-models-using-very-little-data.html)\n",
    "- __Training__\n",
    " - Run k-means to estimate the aspect ratios of bboxes [ref](https://arxiv.org/abs/1701.06659)\n",
    " - Try to use just images from the brain when fine-tuning the network\n",
    " - Try to use different pre-trained weights (from different datasets)\n",
    "- __Base network__\n",
    " - Change the base network (try Resnet)"
   ]
  },
  {
   "cell_type": "code",
   "execution_count": null,
   "metadata": {},
   "outputs": [],
   "source": []
  },
  {
   "cell_type": "code",
   "execution_count": null,
   "metadata": {},
   "outputs": [],
   "source": []
  },
  {
   "cell_type": "code",
   "execution_count": null,
   "metadata": {},
   "outputs": [],
   "source": []
  },
  {
   "cell_type": "code",
   "execution_count": null,
   "metadata": {},
   "outputs": [],
   "source": []
  },
  {
   "cell_type": "code",
   "execution_count": null,
   "metadata": {},
   "outputs": [],
   "source": []
  },
  {
   "cell_type": "code",
   "execution_count": null,
   "metadata": {},
   "outputs": [],
   "source": []
  },
  {
   "cell_type": "code",
   "execution_count": null,
   "metadata": {},
   "outputs": [],
   "source": []
  },
  {
   "cell_type": "code",
   "execution_count": null,
   "metadata": {},
   "outputs": [],
   "source": []
  },
  {
   "cell_type": "code",
   "execution_count": null,
   "metadata": {},
   "outputs": [],
   "source": []
  },
  {
   "cell_type": "code",
   "execution_count": null,
   "metadata": {},
   "outputs": [],
   "source": []
  },
  {
   "cell_type": "code",
   "execution_count": null,
   "metadata": {},
   "outputs": [],
   "source": []
  },
  {
   "cell_type": "code",
   "execution_count": null,
   "metadata": {},
   "outputs": [],
   "source": []
  },
  {
   "cell_type": "code",
   "execution_count": null,
   "metadata": {},
   "outputs": [],
   "source": []
  },
  {
   "cell_type": "code",
   "execution_count": null,
   "metadata": {},
   "outputs": [],
   "source": []
  },
  {
   "cell_type": "code",
   "execution_count": null,
   "metadata": {},
   "outputs": [],
   "source": []
  },
  {
   "cell_type": "code",
   "execution_count": null,
   "metadata": {},
   "outputs": [],
   "source": []
  },
  {
   "cell_type": "code",
   "execution_count": null,
   "metadata": {},
   "outputs": [],
   "source": []
  },
  {
   "cell_type": "code",
   "execution_count": null,
   "metadata": {},
   "outputs": [],
   "source": []
  },
  {
   "cell_type": "code",
   "execution_count": null,
   "metadata": {},
   "outputs": [],
   "source": []
  },
  {
   "cell_type": "code",
   "execution_count": null,
   "metadata": {},
   "outputs": [],
   "source": []
  },
  {
   "cell_type": "code",
   "execution_count": null,
   "metadata": {},
   "outputs": [],
   "source": []
  },
  {
   "cell_type": "code",
   "execution_count": null,
   "metadata": {},
   "outputs": [],
   "source": []
  },
  {
   "cell_type": "code",
   "execution_count": null,
   "metadata": {},
   "outputs": [],
   "source": []
  },
  {
   "cell_type": "code",
   "execution_count": null,
   "metadata": {},
   "outputs": [],
   "source": []
  },
  {
   "cell_type": "code",
   "execution_count": null,
   "metadata": {},
   "outputs": [],
   "source": []
  },
  {
   "cell_type": "code",
   "execution_count": null,
   "metadata": {},
   "outputs": [],
   "source": []
  },
  {
   "cell_type": "code",
   "execution_count": null,
   "metadata": {},
   "outputs": [],
   "source": []
  },
  {
   "cell_type": "code",
   "execution_count": null,
   "metadata": {},
   "outputs": [],
   "source": []
  },
  {
   "cell_type": "code",
   "execution_count": null,
   "metadata": {},
   "outputs": [],
   "source": []
  },
  {
   "cell_type": "code",
   "execution_count": null,
   "metadata": {},
   "outputs": [],
   "source": []
  },
  {
   "cell_type": "code",
   "execution_count": null,
   "metadata": {},
   "outputs": [],
   "source": []
  },
  {
   "cell_type": "code",
   "execution_count": null,
   "metadata": {},
   "outputs": [],
   "source": []
  },
  {
   "cell_type": "code",
   "execution_count": null,
   "metadata": {},
   "outputs": [],
   "source": []
  },
  {
   "cell_type": "code",
   "execution_count": null,
   "metadata": {},
   "outputs": [],
   "source": []
  },
  {
   "cell_type": "code",
   "execution_count": null,
   "metadata": {},
   "outputs": [],
   "source": []
  },
  {
   "cell_type": "code",
   "execution_count": null,
   "metadata": {},
   "outputs": [],
   "source": []
  },
  {
   "cell_type": "code",
   "execution_count": null,
   "metadata": {},
   "outputs": [],
   "source": []
  },
  {
   "cell_type": "code",
   "execution_count": null,
   "metadata": {},
   "outputs": [],
   "source": []
  },
  {
   "cell_type": "code",
   "execution_count": null,
   "metadata": {},
   "outputs": [],
   "source": []
  },
  {
   "cell_type": "code",
   "execution_count": null,
   "metadata": {},
   "outputs": [],
   "source": []
  },
  {
   "cell_type": "code",
   "execution_count": null,
   "metadata": {},
   "outputs": [],
   "source": []
  },
  {
   "cell_type": "code",
   "execution_count": null,
   "metadata": {},
   "outputs": [],
   "source": []
  },
  {
   "cell_type": "code",
   "execution_count": null,
   "metadata": {},
   "outputs": [],
   "source": []
  },
  {
   "cell_type": "code",
   "execution_count": null,
   "metadata": {},
   "outputs": [],
   "source": []
  },
  {
   "cell_type": "code",
   "execution_count": null,
   "metadata": {},
   "outputs": [],
   "source": []
  },
  {
   "cell_type": "code",
   "execution_count": null,
   "metadata": {},
   "outputs": [],
   "source": []
  },
  {
   "cell_type": "code",
   "execution_count": null,
   "metadata": {},
   "outputs": [],
   "source": []
  },
  {
   "cell_type": "code",
   "execution_count": null,
   "metadata": {},
   "outputs": [],
   "source": []
  },
  {
   "cell_type": "code",
   "execution_count": null,
   "metadata": {},
   "outputs": [],
   "source": []
  },
  {
   "cell_type": "code",
   "execution_count": null,
   "metadata": {},
   "outputs": [],
   "source": []
  },
  {
   "cell_type": "code",
   "execution_count": null,
   "metadata": {},
   "outputs": [],
   "source": []
  },
  {
   "cell_type": "code",
   "execution_count": null,
   "metadata": {},
   "outputs": [],
   "source": []
  },
  {
   "cell_type": "code",
   "execution_count": null,
   "metadata": {},
   "outputs": [],
   "source": []
  },
  {
   "cell_type": "code",
   "execution_count": null,
   "metadata": {},
   "outputs": [],
   "source": []
  },
  {
   "cell_type": "code",
   "execution_count": null,
   "metadata": {},
   "outputs": [],
   "source": []
  },
  {
   "cell_type": "code",
   "execution_count": null,
   "metadata": {},
   "outputs": [],
   "source": []
  },
  {
   "cell_type": "code",
   "execution_count": null,
   "metadata": {},
   "outputs": [],
   "source": []
  },
  {
   "cell_type": "code",
   "execution_count": null,
   "metadata": {},
   "outputs": [],
   "source": []
  },
  {
   "cell_type": "code",
   "execution_count": null,
   "metadata": {},
   "outputs": [],
   "source": []
  },
  {
   "cell_type": "code",
   "execution_count": null,
   "metadata": {},
   "outputs": [],
   "source": []
  },
  {
   "cell_type": "code",
   "execution_count": null,
   "metadata": {},
   "outputs": [],
   "source": []
  },
  {
   "cell_type": "code",
   "execution_count": null,
   "metadata": {},
   "outputs": [],
   "source": []
  },
  {
   "cell_type": "code",
   "execution_count": null,
   "metadata": {},
   "outputs": [],
   "source": []
  },
  {
   "cell_type": "code",
   "execution_count": null,
   "metadata": {},
   "outputs": [],
   "source": []
  },
  {
   "cell_type": "code",
   "execution_count": null,
   "metadata": {},
   "outputs": [],
   "source": []
  },
  {
   "cell_type": "code",
   "execution_count": null,
   "metadata": {},
   "outputs": [],
   "source": []
  },
  {
   "cell_type": "code",
   "execution_count": null,
   "metadata": {},
   "outputs": [],
   "source": []
  },
  {
   "cell_type": "code",
   "execution_count": null,
   "metadata": {},
   "outputs": [],
   "source": []
  },
  {
   "cell_type": "code",
   "execution_count": null,
   "metadata": {},
   "outputs": [],
   "source": []
  },
  {
   "cell_type": "code",
   "execution_count": null,
   "metadata": {},
   "outputs": [],
   "source": []
  },
  {
   "cell_type": "code",
   "execution_count": null,
   "metadata": {},
   "outputs": [],
   "source": []
  },
  {
   "cell_type": "code",
   "execution_count": null,
   "metadata": {},
   "outputs": [],
   "source": []
  },
  {
   "cell_type": "code",
   "execution_count": null,
   "metadata": {},
   "outputs": [],
   "source": []
  },
  {
   "cell_type": "code",
   "execution_count": null,
   "metadata": {},
   "outputs": [],
   "source": []
  },
  {
   "cell_type": "code",
   "execution_count": null,
   "metadata": {},
   "outputs": [],
   "source": []
  },
  {
   "cell_type": "code",
   "execution_count": null,
   "metadata": {},
   "outputs": [],
   "source": []
  },
  {
   "cell_type": "code",
   "execution_count": null,
   "metadata": {},
   "outputs": [],
   "source": []
  },
  {
   "cell_type": "code",
   "execution_count": null,
   "metadata": {},
   "outputs": [],
   "source": []
  },
  {
   "cell_type": "code",
   "execution_count": null,
   "metadata": {},
   "outputs": [],
   "source": []
  },
  {
   "cell_type": "code",
   "execution_count": null,
   "metadata": {},
   "outputs": [],
   "source": []
  },
  {
   "cell_type": "code",
   "execution_count": null,
   "metadata": {},
   "outputs": [],
   "source": []
  },
  {
   "cell_type": "code",
   "execution_count": null,
   "metadata": {},
   "outputs": [],
   "source": []
  },
  {
   "cell_type": "code",
   "execution_count": null,
   "metadata": {},
   "outputs": [],
   "source": []
  },
  {
   "cell_type": "code",
   "execution_count": null,
   "metadata": {},
   "outputs": [],
   "source": []
  },
  {
   "cell_type": "code",
   "execution_count": null,
   "metadata": {},
   "outputs": [],
   "source": []
  },
  {
   "cell_type": "code",
   "execution_count": null,
   "metadata": {},
   "outputs": [],
   "source": []
  },
  {
   "cell_type": "code",
   "execution_count": null,
   "metadata": {},
   "outputs": [],
   "source": []
  },
  {
   "cell_type": "code",
   "execution_count": null,
   "metadata": {},
   "outputs": [],
   "source": []
  },
  {
   "cell_type": "code",
   "execution_count": null,
   "metadata": {},
   "outputs": [],
   "source": []
  },
  {
   "cell_type": "code",
   "execution_count": null,
   "metadata": {},
   "outputs": [],
   "source": []
  },
  {
   "cell_type": "code",
   "execution_count": null,
   "metadata": {},
   "outputs": [],
   "source": []
  },
  {
   "cell_type": "code",
   "execution_count": null,
   "metadata": {},
   "outputs": [],
   "source": []
  },
  {
   "cell_type": "code",
   "execution_count": null,
   "metadata": {},
   "outputs": [],
   "source": []
  },
  {
   "cell_type": "code",
   "execution_count": null,
   "metadata": {},
   "outputs": [],
   "source": []
  },
  {
   "cell_type": "code",
   "execution_count": null,
   "metadata": {},
   "outputs": [],
   "source": []
  },
  {
   "cell_type": "code",
   "execution_count": null,
   "metadata": {},
   "outputs": [],
   "source": []
  },
  {
   "cell_type": "code",
   "execution_count": null,
   "metadata": {},
   "outputs": [],
   "source": []
  },
  {
   "cell_type": "code",
   "execution_count": null,
   "metadata": {},
   "outputs": [],
   "source": []
  },
  {
   "cell_type": "code",
   "execution_count": null,
   "metadata": {},
   "outputs": [],
   "source": []
  },
  {
   "cell_type": "code",
   "execution_count": null,
   "metadata": {},
   "outputs": [],
   "source": []
  },
  {
   "cell_type": "code",
   "execution_count": null,
   "metadata": {},
   "outputs": [],
   "source": []
  },
  {
   "cell_type": "code",
   "execution_count": null,
   "metadata": {},
   "outputs": [],
   "source": []
  },
  {
   "cell_type": "code",
   "execution_count": null,
   "metadata": {},
   "outputs": [],
   "source": []
  },
  {
   "cell_type": "code",
   "execution_count": null,
   "metadata": {},
   "outputs": [],
   "source": []
  },
  {
   "cell_type": "code",
   "execution_count": null,
   "metadata": {},
   "outputs": [],
   "source": []
  },
  {
   "cell_type": "code",
   "execution_count": null,
   "metadata": {},
   "outputs": [],
   "source": []
  },
  {
   "cell_type": "code",
   "execution_count": null,
   "metadata": {},
   "outputs": [],
   "source": []
  },
  {
   "cell_type": "code",
   "execution_count": null,
   "metadata": {},
   "outputs": [],
   "source": []
  },
  {
   "cell_type": "code",
   "execution_count": null,
   "metadata": {},
   "outputs": [],
   "source": []
  },
  {
   "cell_type": "code",
   "execution_count": null,
   "metadata": {},
   "outputs": [],
   "source": []
  },
  {
   "cell_type": "code",
   "execution_count": null,
   "metadata": {},
   "outputs": [],
   "source": []
  },
  {
   "cell_type": "code",
   "execution_count": null,
   "metadata": {},
   "outputs": [],
   "source": []
  },
  {
   "cell_type": "code",
   "execution_count": null,
   "metadata": {},
   "outputs": [],
   "source": []
  },
  {
   "cell_type": "code",
   "execution_count": null,
   "metadata": {},
   "outputs": [],
   "source": []
  },
  {
   "cell_type": "code",
   "execution_count": null,
   "metadata": {},
   "outputs": [],
   "source": []
  },
  {
   "cell_type": "code",
   "execution_count": null,
   "metadata": {},
   "outputs": [],
   "source": []
  },
  {
   "cell_type": "code",
   "execution_count": null,
   "metadata": {},
   "outputs": [],
   "source": []
  },
  {
   "cell_type": "code",
   "execution_count": null,
   "metadata": {},
   "outputs": [],
   "source": []
  },
  {
   "cell_type": "code",
   "execution_count": null,
   "metadata": {},
   "outputs": [],
   "source": []
  },
  {
   "cell_type": "code",
   "execution_count": null,
   "metadata": {},
   "outputs": [],
   "source": []
  },
  {
   "cell_type": "code",
   "execution_count": null,
   "metadata": {},
   "outputs": [],
   "source": []
  },
  {
   "cell_type": "code",
   "execution_count": null,
   "metadata": {},
   "outputs": [],
   "source": []
  },
  {
   "cell_type": "code",
   "execution_count": null,
   "metadata": {},
   "outputs": [],
   "source": []
  },
  {
   "cell_type": "code",
   "execution_count": null,
   "metadata": {},
   "outputs": [],
   "source": []
  },
  {
   "cell_type": "code",
   "execution_count": null,
   "metadata": {},
   "outputs": [],
   "source": []
  },
  {
   "cell_type": "code",
   "execution_count": null,
   "metadata": {},
   "outputs": [],
   "source": []
  },
  {
   "cell_type": "code",
   "execution_count": null,
   "metadata": {},
   "outputs": [],
   "source": []
  },
  {
   "cell_type": "code",
   "execution_count": null,
   "metadata": {},
   "outputs": [],
   "source": []
  },
  {
   "cell_type": "code",
   "execution_count": null,
   "metadata": {},
   "outputs": [],
   "source": []
  },
  {
   "cell_type": "code",
   "execution_count": null,
   "metadata": {},
   "outputs": [],
   "source": []
  },
  {
   "cell_type": "code",
   "execution_count": null,
   "metadata": {},
   "outputs": [],
   "source": []
  },
  {
   "cell_type": "code",
   "execution_count": null,
   "metadata": {},
   "outputs": [],
   "source": []
  },
  {
   "cell_type": "code",
   "execution_count": null,
   "metadata": {},
   "outputs": [],
   "source": []
  },
  {
   "cell_type": "code",
   "execution_count": null,
   "metadata": {},
   "outputs": [],
   "source": []
  },
  {
   "cell_type": "code",
   "execution_count": null,
   "metadata": {},
   "outputs": [],
   "source": []
  },
  {
   "cell_type": "code",
   "execution_count": null,
   "metadata": {},
   "outputs": [],
   "source": []
  },
  {
   "cell_type": "code",
   "execution_count": null,
   "metadata": {},
   "outputs": [],
   "source": []
  },
  {
   "cell_type": "code",
   "execution_count": null,
   "metadata": {},
   "outputs": [],
   "source": []
  },
  {
   "cell_type": "code",
   "execution_count": null,
   "metadata": {},
   "outputs": [],
   "source": []
  },
  {
   "cell_type": "code",
   "execution_count": null,
   "metadata": {},
   "outputs": [],
   "source": []
  },
  {
   "cell_type": "code",
   "execution_count": null,
   "metadata": {},
   "outputs": [],
   "source": []
  },
  {
   "cell_type": "code",
   "execution_count": null,
   "metadata": {},
   "outputs": [],
   "source": []
  },
  {
   "cell_type": "code",
   "execution_count": null,
   "metadata": {},
   "outputs": [],
   "source": []
  },
  {
   "cell_type": "code",
   "execution_count": null,
   "metadata": {},
   "outputs": [],
   "source": []
  },
  {
   "cell_type": "code",
   "execution_count": null,
   "metadata": {},
   "outputs": [],
   "source": []
  },
  {
   "cell_type": "code",
   "execution_count": null,
   "metadata": {},
   "outputs": [],
   "source": []
  },
  {
   "cell_type": "code",
   "execution_count": null,
   "metadata": {},
   "outputs": [],
   "source": []
  },
  {
   "cell_type": "code",
   "execution_count": null,
   "metadata": {},
   "outputs": [],
   "source": []
  },
  {
   "cell_type": "code",
   "execution_count": null,
   "metadata": {},
   "outputs": [],
   "source": []
  },
  {
   "cell_type": "code",
   "execution_count": null,
   "metadata": {},
   "outputs": [],
   "source": []
  },
  {
   "cell_type": "code",
   "execution_count": null,
   "metadata": {},
   "outputs": [],
   "source": []
  },
  {
   "cell_type": "code",
   "execution_count": null,
   "metadata": {},
   "outputs": [],
   "source": []
  },
  {
   "cell_type": "code",
   "execution_count": null,
   "metadata": {},
   "outputs": [],
   "source": []
  },
  {
   "cell_type": "code",
   "execution_count": null,
   "metadata": {},
   "outputs": [],
   "source": []
  },
  {
   "cell_type": "code",
   "execution_count": null,
   "metadata": {},
   "outputs": [],
   "source": []
  },
  {
   "cell_type": "code",
   "execution_count": null,
   "metadata": {},
   "outputs": [],
   "source": []
  },
  {
   "cell_type": "code",
   "execution_count": null,
   "metadata": {},
   "outputs": [],
   "source": []
  },
  {
   "cell_type": "code",
   "execution_count": null,
   "metadata": {},
   "outputs": [],
   "source": []
  },
  {
   "cell_type": "code",
   "execution_count": null,
   "metadata": {},
   "outputs": [],
   "source": []
  },
  {
   "cell_type": "code",
   "execution_count": null,
   "metadata": {},
   "outputs": [],
   "source": []
  },
  {
   "cell_type": "code",
   "execution_count": null,
   "metadata": {},
   "outputs": [],
   "source": []
  },
  {
   "cell_type": "code",
   "execution_count": null,
   "metadata": {},
   "outputs": [],
   "source": []
  },
  {
   "cell_type": "code",
   "execution_count": null,
   "metadata": {},
   "outputs": [],
   "source": []
  },
  {
   "cell_type": "code",
   "execution_count": null,
   "metadata": {},
   "outputs": [],
   "source": []
  },
  {
   "cell_type": "code",
   "execution_count": null,
   "metadata": {},
   "outputs": [],
   "source": []
  },
  {
   "cell_type": "code",
   "execution_count": null,
   "metadata": {},
   "outputs": [],
   "source": []
  },
  {
   "cell_type": "code",
   "execution_count": null,
   "metadata": {},
   "outputs": [],
   "source": []
  },
  {
   "cell_type": "code",
   "execution_count": null,
   "metadata": {},
   "outputs": [],
   "source": []
  },
  {
   "cell_type": "code",
   "execution_count": null,
   "metadata": {},
   "outputs": [],
   "source": []
  },
  {
   "cell_type": "code",
   "execution_count": null,
   "metadata": {},
   "outputs": [],
   "source": []
  },
  {
   "cell_type": "code",
   "execution_count": null,
   "metadata": {},
   "outputs": [],
   "source": []
  },
  {
   "cell_type": "code",
   "execution_count": null,
   "metadata": {},
   "outputs": [],
   "source": []
  },
  {
   "cell_type": "code",
   "execution_count": null,
   "metadata": {},
   "outputs": [],
   "source": []
  },
  {
   "cell_type": "code",
   "execution_count": null,
   "metadata": {},
   "outputs": [],
   "source": []
  },
  {
   "cell_type": "code",
   "execution_count": null,
   "metadata": {},
   "outputs": [],
   "source": []
  },
  {
   "cell_type": "code",
   "execution_count": null,
   "metadata": {},
   "outputs": [],
   "source": []
  },
  {
   "cell_type": "code",
   "execution_count": null,
   "metadata": {},
   "outputs": [],
   "source": []
  },
  {
   "cell_type": "code",
   "execution_count": null,
   "metadata": {},
   "outputs": [],
   "source": []
  },
  {
   "cell_type": "code",
   "execution_count": null,
   "metadata": {},
   "outputs": [],
   "source": []
  },
  {
   "cell_type": "code",
   "execution_count": null,
   "metadata": {},
   "outputs": [],
   "source": []
  },
  {
   "cell_type": "code",
   "execution_count": null,
   "metadata": {},
   "outputs": [],
   "source": []
  },
  {
   "cell_type": "code",
   "execution_count": null,
   "metadata": {},
   "outputs": [],
   "source": []
  },
  {
   "cell_type": "code",
   "execution_count": null,
   "metadata": {},
   "outputs": [],
   "source": []
  },
  {
   "cell_type": "code",
   "execution_count": null,
   "metadata": {},
   "outputs": [],
   "source": []
  },
  {
   "cell_type": "code",
   "execution_count": null,
   "metadata": {},
   "outputs": [],
   "source": []
  },
  {
   "cell_type": "code",
   "execution_count": null,
   "metadata": {},
   "outputs": [],
   "source": []
  },
  {
   "cell_type": "code",
   "execution_count": null,
   "metadata": {},
   "outputs": [],
   "source": []
  },
  {
   "cell_type": "code",
   "execution_count": null,
   "metadata": {},
   "outputs": [],
   "source": []
  },
  {
   "cell_type": "code",
   "execution_count": null,
   "metadata": {},
   "outputs": [],
   "source": []
  },
  {
   "cell_type": "code",
   "execution_count": null,
   "metadata": {},
   "outputs": [],
   "source": []
  },
  {
   "cell_type": "code",
   "execution_count": null,
   "metadata": {},
   "outputs": [],
   "source": []
  },
  {
   "cell_type": "code",
   "execution_count": null,
   "metadata": {},
   "outputs": [],
   "source": []
  },
  {
   "cell_type": "code",
   "execution_count": null,
   "metadata": {},
   "outputs": [],
   "source": []
  },
  {
   "cell_type": "code",
   "execution_count": null,
   "metadata": {},
   "outputs": [],
   "source": []
  },
  {
   "cell_type": "code",
   "execution_count": null,
   "metadata": {},
   "outputs": [],
   "source": []
  },
  {
   "cell_type": "code",
   "execution_count": null,
   "metadata": {},
   "outputs": [],
   "source": []
  },
  {
   "cell_type": "code",
   "execution_count": null,
   "metadata": {},
   "outputs": [],
   "source": []
  },
  {
   "cell_type": "code",
   "execution_count": null,
   "metadata": {},
   "outputs": [],
   "source": []
  },
  {
   "cell_type": "code",
   "execution_count": null,
   "metadata": {},
   "outputs": [],
   "source": []
  },
  {
   "cell_type": "code",
   "execution_count": null,
   "metadata": {},
   "outputs": [],
   "source": []
  },
  {
   "cell_type": "code",
   "execution_count": null,
   "metadata": {},
   "outputs": [],
   "source": []
  },
  {
   "cell_type": "code",
   "execution_count": null,
   "metadata": {},
   "outputs": [],
   "source": []
  },
  {
   "cell_type": "code",
   "execution_count": null,
   "metadata": {},
   "outputs": [],
   "source": []
  },
  {
   "cell_type": "code",
   "execution_count": null,
   "metadata": {},
   "outputs": [],
   "source": []
  },
  {
   "cell_type": "code",
   "execution_count": null,
   "metadata": {},
   "outputs": [],
   "source": []
  },
  {
   "cell_type": "code",
   "execution_count": null,
   "metadata": {},
   "outputs": [],
   "source": []
  },
  {
   "cell_type": "code",
   "execution_count": null,
   "metadata": {},
   "outputs": [],
   "source": []
  },
  {
   "cell_type": "code",
   "execution_count": null,
   "metadata": {},
   "outputs": [],
   "source": []
  },
  {
   "cell_type": "code",
   "execution_count": null,
   "metadata": {},
   "outputs": [],
   "source": []
  },
  {
   "cell_type": "code",
   "execution_count": null,
   "metadata": {},
   "outputs": [],
   "source": []
  },
  {
   "cell_type": "code",
   "execution_count": null,
   "metadata": {},
   "outputs": [],
   "source": []
  },
  {
   "cell_type": "code",
   "execution_count": null,
   "metadata": {},
   "outputs": [],
   "source": []
  },
  {
   "cell_type": "code",
   "execution_count": null,
   "metadata": {},
   "outputs": [],
   "source": []
  },
  {
   "cell_type": "code",
   "execution_count": null,
   "metadata": {},
   "outputs": [],
   "source": []
  },
  {
   "cell_type": "code",
   "execution_count": null,
   "metadata": {},
   "outputs": [],
   "source": []
  },
  {
   "cell_type": "code",
   "execution_count": null,
   "metadata": {},
   "outputs": [],
   "source": []
  },
  {
   "cell_type": "code",
   "execution_count": null,
   "metadata": {},
   "outputs": [],
   "source": []
  },
  {
   "cell_type": "code",
   "execution_count": null,
   "metadata": {},
   "outputs": [],
   "source": []
  },
  {
   "cell_type": "code",
   "execution_count": null,
   "metadata": {},
   "outputs": [],
   "source": []
  },
  {
   "cell_type": "code",
   "execution_count": null,
   "metadata": {},
   "outputs": [],
   "source": []
  },
  {
   "cell_type": "code",
   "execution_count": null,
   "metadata": {},
   "outputs": [],
   "source": []
  },
  {
   "cell_type": "code",
   "execution_count": null,
   "metadata": {},
   "outputs": [],
   "source": []
  },
  {
   "cell_type": "code",
   "execution_count": null,
   "metadata": {},
   "outputs": [],
   "source": []
  },
  {
   "cell_type": "code",
   "execution_count": null,
   "metadata": {},
   "outputs": [],
   "source": []
  },
  {
   "cell_type": "code",
   "execution_count": null,
   "metadata": {},
   "outputs": [],
   "source": []
  },
  {
   "cell_type": "code",
   "execution_count": null,
   "metadata": {},
   "outputs": [],
   "source": []
  },
  {
   "cell_type": "code",
   "execution_count": null,
   "metadata": {},
   "outputs": [],
   "source": []
  },
  {
   "cell_type": "code",
   "execution_count": null,
   "metadata": {},
   "outputs": [],
   "source": []
  },
  {
   "cell_type": "code",
   "execution_count": null,
   "metadata": {},
   "outputs": [],
   "source": []
  },
  {
   "cell_type": "code",
   "execution_count": null,
   "metadata": {},
   "outputs": [],
   "source": []
  },
  {
   "cell_type": "code",
   "execution_count": null,
   "metadata": {},
   "outputs": [],
   "source": []
  },
  {
   "cell_type": "code",
   "execution_count": null,
   "metadata": {},
   "outputs": [],
   "source": []
  },
  {
   "cell_type": "code",
   "execution_count": null,
   "metadata": {},
   "outputs": [],
   "source": []
  },
  {
   "cell_type": "code",
   "execution_count": null,
   "metadata": {},
   "outputs": [],
   "source": []
  },
  {
   "cell_type": "code",
   "execution_count": null,
   "metadata": {},
   "outputs": [],
   "source": []
  },
  {
   "cell_type": "code",
   "execution_count": null,
   "metadata": {},
   "outputs": [],
   "source": []
  },
  {
   "cell_type": "code",
   "execution_count": null,
   "metadata": {},
   "outputs": [],
   "source": []
  },
  {
   "cell_type": "code",
   "execution_count": null,
   "metadata": {},
   "outputs": [],
   "source": []
  },
  {
   "cell_type": "code",
   "execution_count": null,
   "metadata": {},
   "outputs": [],
   "source": []
  },
  {
   "cell_type": "code",
   "execution_count": null,
   "metadata": {},
   "outputs": [],
   "source": []
  },
  {
   "cell_type": "code",
   "execution_count": null,
   "metadata": {},
   "outputs": [],
   "source": []
  },
  {
   "cell_type": "code",
   "execution_count": null,
   "metadata": {},
   "outputs": [],
   "source": []
  },
  {
   "cell_type": "code",
   "execution_count": null,
   "metadata": {},
   "outputs": [],
   "source": []
  },
  {
   "cell_type": "code",
   "execution_count": null,
   "metadata": {},
   "outputs": [],
   "source": []
  },
  {
   "cell_type": "code",
   "execution_count": null,
   "metadata": {},
   "outputs": [],
   "source": []
  },
  {
   "cell_type": "code",
   "execution_count": null,
   "metadata": {},
   "outputs": [],
   "source": []
  },
  {
   "cell_type": "code",
   "execution_count": null,
   "metadata": {},
   "outputs": [],
   "source": []
  },
  {
   "cell_type": "code",
   "execution_count": null,
   "metadata": {},
   "outputs": [],
   "source": []
  },
  {
   "cell_type": "code",
   "execution_count": null,
   "metadata": {},
   "outputs": [],
   "source": []
  },
  {
   "cell_type": "code",
   "execution_count": null,
   "metadata": {},
   "outputs": [],
   "source": []
  },
  {
   "cell_type": "code",
   "execution_count": null,
   "metadata": {},
   "outputs": [],
   "source": []
  },
  {
   "cell_type": "code",
   "execution_count": null,
   "metadata": {},
   "outputs": [],
   "source": []
  },
  {
   "cell_type": "code",
   "execution_count": null,
   "metadata": {},
   "outputs": [],
   "source": []
  },
  {
   "cell_type": "code",
   "execution_count": null,
   "metadata": {},
   "outputs": [],
   "source": []
  },
  {
   "cell_type": "code",
   "execution_count": null,
   "metadata": {},
   "outputs": [],
   "source": []
  },
  {
   "cell_type": "code",
   "execution_count": null,
   "metadata": {},
   "outputs": [],
   "source": []
  },
  {
   "cell_type": "code",
   "execution_count": null,
   "metadata": {},
   "outputs": [],
   "source": []
  },
  {
   "cell_type": "code",
   "execution_count": null,
   "metadata": {},
   "outputs": [],
   "source": []
  },
  {
   "cell_type": "code",
   "execution_count": null,
   "metadata": {},
   "outputs": [],
   "source": []
  },
  {
   "cell_type": "code",
   "execution_count": null,
   "metadata": {},
   "outputs": [],
   "source": []
  },
  {
   "cell_type": "code",
   "execution_count": null,
   "metadata": {},
   "outputs": [],
   "source": []
  },
  {
   "cell_type": "code",
   "execution_count": null,
   "metadata": {},
   "outputs": [],
   "source": []
  },
  {
   "cell_type": "code",
   "execution_count": null,
   "metadata": {},
   "outputs": [],
   "source": []
  },
  {
   "cell_type": "code",
   "execution_count": null,
   "metadata": {},
   "outputs": [],
   "source": []
  },
  {
   "cell_type": "code",
   "execution_count": null,
   "metadata": {},
   "outputs": [],
   "source": []
  },
  {
   "cell_type": "code",
   "execution_count": null,
   "metadata": {},
   "outputs": [],
   "source": []
  },
  {
   "cell_type": "code",
   "execution_count": null,
   "metadata": {},
   "outputs": [],
   "source": []
  },
  {
   "cell_type": "code",
   "execution_count": null,
   "metadata": {},
   "outputs": [],
   "source": []
  },
  {
   "cell_type": "code",
   "execution_count": null,
   "metadata": {},
   "outputs": [],
   "source": []
  },
  {
   "cell_type": "code",
   "execution_count": null,
   "metadata": {},
   "outputs": [],
   "source": []
  },
  {
   "cell_type": "code",
   "execution_count": null,
   "metadata": {},
   "outputs": [],
   "source": []
  },
  {
   "cell_type": "code",
   "execution_count": null,
   "metadata": {},
   "outputs": [],
   "source": []
  },
  {
   "cell_type": "code",
   "execution_count": null,
   "metadata": {},
   "outputs": [],
   "source": []
  },
  {
   "cell_type": "code",
   "execution_count": null,
   "metadata": {},
   "outputs": [],
   "source": []
  },
  {
   "cell_type": "code",
   "execution_count": null,
   "metadata": {},
   "outputs": [],
   "source": []
  },
  {
   "cell_type": "code",
   "execution_count": null,
   "metadata": {},
   "outputs": [],
   "source": []
  },
  {
   "cell_type": "code",
   "execution_count": null,
   "metadata": {},
   "outputs": [],
   "source": []
  },
  {
   "cell_type": "code",
   "execution_count": null,
   "metadata": {},
   "outputs": [],
   "source": []
  },
  {
   "cell_type": "code",
   "execution_count": null,
   "metadata": {},
   "outputs": [],
   "source": []
  },
  {
   "cell_type": "code",
   "execution_count": null,
   "metadata": {},
   "outputs": [],
   "source": []
  },
  {
   "cell_type": "code",
   "execution_count": null,
   "metadata": {},
   "outputs": [],
   "source": []
  },
  {
   "cell_type": "code",
   "execution_count": null,
   "metadata": {},
   "outputs": [],
   "source": []
  },
  {
   "cell_type": "code",
   "execution_count": null,
   "metadata": {},
   "outputs": [],
   "source": []
  },
  {
   "cell_type": "code",
   "execution_count": null,
   "metadata": {},
   "outputs": [],
   "source": []
  },
  {
   "cell_type": "code",
   "execution_count": null,
   "metadata": {},
   "outputs": [],
   "source": []
  },
  {
   "cell_type": "code",
   "execution_count": null,
   "metadata": {},
   "outputs": [],
   "source": []
  },
  {
   "cell_type": "code",
   "execution_count": null,
   "metadata": {},
   "outputs": [],
   "source": []
  },
  {
   "cell_type": "code",
   "execution_count": null,
   "metadata": {},
   "outputs": [],
   "source": []
  },
  {
   "cell_type": "code",
   "execution_count": null,
   "metadata": {},
   "outputs": [],
   "source": []
  },
  {
   "cell_type": "code",
   "execution_count": null,
   "metadata": {},
   "outputs": [],
   "source": []
  },
  {
   "cell_type": "code",
   "execution_count": null,
   "metadata": {},
   "outputs": [],
   "source": []
  },
  {
   "cell_type": "code",
   "execution_count": null,
   "metadata": {},
   "outputs": [],
   "source": []
  },
  {
   "cell_type": "code",
   "execution_count": null,
   "metadata": {},
   "outputs": [],
   "source": []
  },
  {
   "cell_type": "code",
   "execution_count": null,
   "metadata": {},
   "outputs": [],
   "source": []
  },
  {
   "cell_type": "code",
   "execution_count": null,
   "metadata": {},
   "outputs": [],
   "source": []
  },
  {
   "cell_type": "code",
   "execution_count": null,
   "metadata": {},
   "outputs": [],
   "source": []
  },
  {
   "cell_type": "code",
   "execution_count": null,
   "metadata": {},
   "outputs": [],
   "source": []
  },
  {
   "cell_type": "code",
   "execution_count": null,
   "metadata": {},
   "outputs": [],
   "source": []
  },
  {
   "cell_type": "code",
   "execution_count": null,
   "metadata": {},
   "outputs": [],
   "source": []
  },
  {
   "cell_type": "code",
   "execution_count": null,
   "metadata": {},
   "outputs": [],
   "source": []
  },
  {
   "cell_type": "code",
   "execution_count": null,
   "metadata": {},
   "outputs": [],
   "source": []
  },
  {
   "cell_type": "code",
   "execution_count": null,
   "metadata": {},
   "outputs": [],
   "source": []
  },
  {
   "cell_type": "code",
   "execution_count": null,
   "metadata": {},
   "outputs": [],
   "source": []
  },
  {
   "cell_type": "code",
   "execution_count": null,
   "metadata": {},
   "outputs": [],
   "source": []
  },
  {
   "cell_type": "code",
   "execution_count": null,
   "metadata": {},
   "outputs": [],
   "source": []
  },
  {
   "cell_type": "code",
   "execution_count": null,
   "metadata": {},
   "outputs": [],
   "source": []
  },
  {
   "cell_type": "code",
   "execution_count": null,
   "metadata": {},
   "outputs": [],
   "source": []
  },
  {
   "cell_type": "code",
   "execution_count": null,
   "metadata": {},
   "outputs": [],
   "source": []
  },
  {
   "cell_type": "code",
   "execution_count": null,
   "metadata": {},
   "outputs": [],
   "source": []
  },
  {
   "cell_type": "code",
   "execution_count": null,
   "metadata": {},
   "outputs": [],
   "source": []
  },
  {
   "cell_type": "code",
   "execution_count": null,
   "metadata": {},
   "outputs": [],
   "source": []
  },
  {
   "cell_type": "code",
   "execution_count": null,
   "metadata": {},
   "outputs": [],
   "source": []
  },
  {
   "cell_type": "code",
   "execution_count": null,
   "metadata": {},
   "outputs": [],
   "source": []
  },
  {
   "cell_type": "code",
   "execution_count": null,
   "metadata": {},
   "outputs": [],
   "source": []
  },
  {
   "cell_type": "code",
   "execution_count": null,
   "metadata": {},
   "outputs": [],
   "source": []
  },
  {
   "cell_type": "code",
   "execution_count": null,
   "metadata": {},
   "outputs": [],
   "source": []
  },
  {
   "cell_type": "code",
   "execution_count": null,
   "metadata": {},
   "outputs": [],
   "source": []
  },
  {
   "cell_type": "code",
   "execution_count": null,
   "metadata": {},
   "outputs": [],
   "source": []
  },
  {
   "cell_type": "code",
   "execution_count": null,
   "metadata": {},
   "outputs": [],
   "source": []
  },
  {
   "cell_type": "code",
   "execution_count": null,
   "metadata": {},
   "outputs": [],
   "source": []
  },
  {
   "cell_type": "code",
   "execution_count": null,
   "metadata": {},
   "outputs": [],
   "source": []
  },
  {
   "cell_type": "code",
   "execution_count": null,
   "metadata": {},
   "outputs": [],
   "source": []
  },
  {
   "cell_type": "code",
   "execution_count": null,
   "metadata": {},
   "outputs": [],
   "source": []
  },
  {
   "cell_type": "code",
   "execution_count": null,
   "metadata": {},
   "outputs": [],
   "source": []
  },
  {
   "cell_type": "code",
   "execution_count": null,
   "metadata": {},
   "outputs": [],
   "source": []
  },
  {
   "cell_type": "code",
   "execution_count": null,
   "metadata": {},
   "outputs": [],
   "source": []
  },
  {
   "cell_type": "code",
   "execution_count": null,
   "metadata": {},
   "outputs": [],
   "source": []
  },
  {
   "cell_type": "code",
   "execution_count": null,
   "metadata": {},
   "outputs": [],
   "source": []
  },
  {
   "cell_type": "code",
   "execution_count": null,
   "metadata": {},
   "outputs": [],
   "source": []
  },
  {
   "cell_type": "code",
   "execution_count": null,
   "metadata": {},
   "outputs": [],
   "source": []
  },
  {
   "cell_type": "code",
   "execution_count": null,
   "metadata": {},
   "outputs": [],
   "source": []
  },
  {
   "cell_type": "code",
   "execution_count": null,
   "metadata": {},
   "outputs": [],
   "source": []
  },
  {
   "cell_type": "code",
   "execution_count": null,
   "metadata": {},
   "outputs": [],
   "source": []
  },
  {
   "cell_type": "code",
   "execution_count": null,
   "metadata": {},
   "outputs": [],
   "source": []
  },
  {
   "cell_type": "code",
   "execution_count": null,
   "metadata": {},
   "outputs": [],
   "source": []
  },
  {
   "cell_type": "code",
   "execution_count": null,
   "metadata": {},
   "outputs": [],
   "source": []
  },
  {
   "cell_type": "code",
   "execution_count": null,
   "metadata": {},
   "outputs": [],
   "source": []
  },
  {
   "cell_type": "code",
   "execution_count": null,
   "metadata": {},
   "outputs": [],
   "source": []
  },
  {
   "cell_type": "code",
   "execution_count": null,
   "metadata": {},
   "outputs": [],
   "source": []
  },
  {
   "cell_type": "code",
   "execution_count": null,
   "metadata": {},
   "outputs": [],
   "source": []
  },
  {
   "cell_type": "code",
   "execution_count": null,
   "metadata": {},
   "outputs": [],
   "source": []
  },
  {
   "cell_type": "code",
   "execution_count": null,
   "metadata": {},
   "outputs": [],
   "source": []
  },
  {
   "cell_type": "code",
   "execution_count": null,
   "metadata": {},
   "outputs": [],
   "source": []
  },
  {
   "cell_type": "code",
   "execution_count": null,
   "metadata": {},
   "outputs": [],
   "source": []
  },
  {
   "cell_type": "code",
   "execution_count": null,
   "metadata": {},
   "outputs": [],
   "source": []
  },
  {
   "cell_type": "code",
   "execution_count": null,
   "metadata": {},
   "outputs": [],
   "source": []
  },
  {
   "cell_type": "code",
   "execution_count": null,
   "metadata": {},
   "outputs": [],
   "source": []
  },
  {
   "cell_type": "code",
   "execution_count": null,
   "metadata": {},
   "outputs": [],
   "source": []
  },
  {
   "cell_type": "code",
   "execution_count": null,
   "metadata": {},
   "outputs": [],
   "source": []
  },
  {
   "cell_type": "code",
   "execution_count": null,
   "metadata": {},
   "outputs": [],
   "source": []
  },
  {
   "cell_type": "code",
   "execution_count": null,
   "metadata": {},
   "outputs": [],
   "source": []
  },
  {
   "cell_type": "code",
   "execution_count": null,
   "metadata": {},
   "outputs": [],
   "source": []
  },
  {
   "cell_type": "code",
   "execution_count": null,
   "metadata": {},
   "outputs": [],
   "source": []
  },
  {
   "cell_type": "code",
   "execution_count": null,
   "metadata": {},
   "outputs": [],
   "source": []
  },
  {
   "cell_type": "code",
   "execution_count": null,
   "metadata": {},
   "outputs": [],
   "source": []
  },
  {
   "cell_type": "code",
   "execution_count": null,
   "metadata": {},
   "outputs": [],
   "source": []
  },
  {
   "cell_type": "code",
   "execution_count": null,
   "metadata": {},
   "outputs": [],
   "source": []
  },
  {
   "cell_type": "code",
   "execution_count": null,
   "metadata": {},
   "outputs": [],
   "source": []
  },
  {
   "cell_type": "code",
   "execution_count": null,
   "metadata": {},
   "outputs": [],
   "source": []
  },
  {
   "cell_type": "code",
   "execution_count": null,
   "metadata": {},
   "outputs": [],
   "source": []
  },
  {
   "cell_type": "code",
   "execution_count": null,
   "metadata": {},
   "outputs": [],
   "source": []
  },
  {
   "cell_type": "code",
   "execution_count": null,
   "metadata": {},
   "outputs": [],
   "source": []
  },
  {
   "cell_type": "code",
   "execution_count": null,
   "metadata": {},
   "outputs": [],
   "source": []
  },
  {
   "cell_type": "code",
   "execution_count": null,
   "metadata": {},
   "outputs": [],
   "source": []
  },
  {
   "cell_type": "code",
   "execution_count": null,
   "metadata": {},
   "outputs": [],
   "source": []
  },
  {
   "cell_type": "code",
   "execution_count": null,
   "metadata": {},
   "outputs": [],
   "source": []
  },
  {
   "cell_type": "code",
   "execution_count": null,
   "metadata": {},
   "outputs": [],
   "source": []
  },
  {
   "cell_type": "code",
   "execution_count": null,
   "metadata": {},
   "outputs": [],
   "source": []
  },
  {
   "cell_type": "code",
   "execution_count": null,
   "metadata": {},
   "outputs": [],
   "source": []
  },
  {
   "cell_type": "code",
   "execution_count": null,
   "metadata": {},
   "outputs": [],
   "source": []
  },
  {
   "cell_type": "code",
   "execution_count": null,
   "metadata": {},
   "outputs": [],
   "source": []
  },
  {
   "cell_type": "code",
   "execution_count": null,
   "metadata": {},
   "outputs": [],
   "source": []
  },
  {
   "cell_type": "code",
   "execution_count": null,
   "metadata": {},
   "outputs": [],
   "source": []
  },
  {
   "cell_type": "code",
   "execution_count": null,
   "metadata": {},
   "outputs": [],
   "source": []
  },
  {
   "cell_type": "code",
   "execution_count": null,
   "metadata": {},
   "outputs": [],
   "source": []
  },
  {
   "cell_type": "code",
   "execution_count": null,
   "metadata": {},
   "outputs": [],
   "source": []
  },
  {
   "cell_type": "code",
   "execution_count": null,
   "metadata": {},
   "outputs": [],
   "source": []
  },
  {
   "cell_type": "code",
   "execution_count": null,
   "metadata": {},
   "outputs": [],
   "source": []
  },
  {
   "cell_type": "code",
   "execution_count": null,
   "metadata": {},
   "outputs": [],
   "source": []
  },
  {
   "cell_type": "code",
   "execution_count": null,
   "metadata": {},
   "outputs": [],
   "source": []
  },
  {
   "cell_type": "code",
   "execution_count": null,
   "metadata": {},
   "outputs": [],
   "source": []
  },
  {
   "cell_type": "code",
   "execution_count": null,
   "metadata": {},
   "outputs": [],
   "source": []
  },
  {
   "cell_type": "code",
   "execution_count": null,
   "metadata": {},
   "outputs": [],
   "source": []
  },
  {
   "cell_type": "code",
   "execution_count": null,
   "metadata": {},
   "outputs": [],
   "source": []
  },
  {
   "cell_type": "code",
   "execution_count": null,
   "metadata": {},
   "outputs": [],
   "source": []
  },
  {
   "cell_type": "code",
   "execution_count": null,
   "metadata": {},
   "outputs": [],
   "source": []
  },
  {
   "cell_type": "code",
   "execution_count": null,
   "metadata": {},
   "outputs": [],
   "source": []
  },
  {
   "cell_type": "code",
   "execution_count": null,
   "metadata": {},
   "outputs": [],
   "source": []
  },
  {
   "cell_type": "code",
   "execution_count": null,
   "metadata": {},
   "outputs": [],
   "source": []
  },
  {
   "cell_type": "code",
   "execution_count": null,
   "metadata": {},
   "outputs": [],
   "source": []
  },
  {
   "cell_type": "code",
   "execution_count": null,
   "metadata": {},
   "outputs": [],
   "source": []
  },
  {
   "cell_type": "code",
   "execution_count": null,
   "metadata": {},
   "outputs": [],
   "source": []
  },
  {
   "cell_type": "code",
   "execution_count": null,
   "metadata": {},
   "outputs": [],
   "source": []
  },
  {
   "cell_type": "code",
   "execution_count": null,
   "metadata": {},
   "outputs": [],
   "source": []
  },
  {
   "cell_type": "code",
   "execution_count": null,
   "metadata": {},
   "outputs": [],
   "source": []
  },
  {
   "cell_type": "code",
   "execution_count": null,
   "metadata": {},
   "outputs": [],
   "source": []
  },
  {
   "cell_type": "code",
   "execution_count": null,
   "metadata": {},
   "outputs": [],
   "source": []
  },
  {
   "cell_type": "code",
   "execution_count": null,
   "metadata": {},
   "outputs": [],
   "source": []
  },
  {
   "cell_type": "code",
   "execution_count": null,
   "metadata": {},
   "outputs": [],
   "source": []
  },
  {
   "cell_type": "code",
   "execution_count": null,
   "metadata": {},
   "outputs": [],
   "source": []
  },
  {
   "cell_type": "code",
   "execution_count": null,
   "metadata": {},
   "outputs": [],
   "source": []
  },
  {
   "cell_type": "code",
   "execution_count": null,
   "metadata": {},
   "outputs": [],
   "source": []
  },
  {
   "cell_type": "code",
   "execution_count": null,
   "metadata": {},
   "outputs": [],
   "source": []
  },
  {
   "cell_type": "code",
   "execution_count": null,
   "metadata": {},
   "outputs": [],
   "source": []
  },
  {
   "cell_type": "code",
   "execution_count": null,
   "metadata": {},
   "outputs": [],
   "source": []
  },
  {
   "cell_type": "code",
   "execution_count": null,
   "metadata": {},
   "outputs": [],
   "source": []
  },
  {
   "cell_type": "code",
   "execution_count": null,
   "metadata": {},
   "outputs": [],
   "source": []
  },
  {
   "cell_type": "code",
   "execution_count": null,
   "metadata": {},
   "outputs": [],
   "source": []
  },
  {
   "cell_type": "code",
   "execution_count": null,
   "metadata": {},
   "outputs": [],
   "source": []
  },
  {
   "cell_type": "code",
   "execution_count": null,
   "metadata": {},
   "outputs": [],
   "source": []
  },
  {
   "cell_type": "code",
   "execution_count": null,
   "metadata": {},
   "outputs": [],
   "source": []
  },
  {
   "cell_type": "code",
   "execution_count": null,
   "metadata": {},
   "outputs": [],
   "source": []
  },
  {
   "cell_type": "code",
   "execution_count": null,
   "metadata": {},
   "outputs": [],
   "source": []
  },
  {
   "cell_type": "code",
   "execution_count": null,
   "metadata": {},
   "outputs": [],
   "source": []
  },
  {
   "cell_type": "code",
   "execution_count": null,
   "metadata": {},
   "outputs": [],
   "source": []
  },
  {
   "cell_type": "code",
   "execution_count": null,
   "metadata": {},
   "outputs": [],
   "source": []
  },
  {
   "cell_type": "code",
   "execution_count": null,
   "metadata": {},
   "outputs": [],
   "source": []
  },
  {
   "cell_type": "code",
   "execution_count": null,
   "metadata": {},
   "outputs": [],
   "source": []
  },
  {
   "cell_type": "code",
   "execution_count": null,
   "metadata": {},
   "outputs": [],
   "source": []
  },
  {
   "cell_type": "code",
   "execution_count": null,
   "metadata": {},
   "outputs": [],
   "source": []
  },
  {
   "cell_type": "code",
   "execution_count": null,
   "metadata": {},
   "outputs": [],
   "source": []
  },
  {
   "cell_type": "code",
   "execution_count": null,
   "metadata": {},
   "outputs": [],
   "source": []
  },
  {
   "cell_type": "code",
   "execution_count": null,
   "metadata": {},
   "outputs": [],
   "source": []
  },
  {
   "cell_type": "code",
   "execution_count": null,
   "metadata": {},
   "outputs": [],
   "source": []
  },
  {
   "cell_type": "code",
   "execution_count": null,
   "metadata": {},
   "outputs": [],
   "source": []
  },
  {
   "cell_type": "code",
   "execution_count": null,
   "metadata": {},
   "outputs": [],
   "source": []
  },
  {
   "cell_type": "code",
   "execution_count": null,
   "metadata": {},
   "outputs": [],
   "source": []
  },
  {
   "cell_type": "code",
   "execution_count": null,
   "metadata": {},
   "outputs": [],
   "source": []
  },
  {
   "cell_type": "code",
   "execution_count": null,
   "metadata": {},
   "outputs": [],
   "source": []
  },
  {
   "cell_type": "code",
   "execution_count": null,
   "metadata": {},
   "outputs": [],
   "source": []
  },
  {
   "cell_type": "code",
   "execution_count": null,
   "metadata": {},
   "outputs": [],
   "source": []
  },
  {
   "cell_type": "code",
   "execution_count": null,
   "metadata": {},
   "outputs": [],
   "source": []
  },
  {
   "cell_type": "code",
   "execution_count": null,
   "metadata": {},
   "outputs": [],
   "source": []
  },
  {
   "cell_type": "code",
   "execution_count": null,
   "metadata": {},
   "outputs": [],
   "source": []
  },
  {
   "cell_type": "code",
   "execution_count": null,
   "metadata": {},
   "outputs": [],
   "source": []
  },
  {
   "cell_type": "code",
   "execution_count": null,
   "metadata": {},
   "outputs": [],
   "source": []
  },
  {
   "cell_type": "code",
   "execution_count": null,
   "metadata": {},
   "outputs": [],
   "source": []
  },
  {
   "cell_type": "code",
   "execution_count": null,
   "metadata": {},
   "outputs": [],
   "source": []
  },
  {
   "cell_type": "code",
   "execution_count": null,
   "metadata": {},
   "outputs": [],
   "source": []
  },
  {
   "cell_type": "code",
   "execution_count": null,
   "metadata": {},
   "outputs": [],
   "source": []
  },
  {
   "cell_type": "code",
   "execution_count": null,
   "metadata": {},
   "outputs": [],
   "source": []
  },
  {
   "cell_type": "code",
   "execution_count": null,
   "metadata": {},
   "outputs": [],
   "source": []
  },
  {
   "cell_type": "code",
   "execution_count": null,
   "metadata": {},
   "outputs": [],
   "source": []
  },
  {
   "cell_type": "code",
   "execution_count": null,
   "metadata": {},
   "outputs": [],
   "source": []
  },
  {
   "cell_type": "code",
   "execution_count": null,
   "metadata": {},
   "outputs": [],
   "source": []
  },
  {
   "cell_type": "code",
   "execution_count": null,
   "metadata": {},
   "outputs": [],
   "source": []
  },
  {
   "cell_type": "code",
   "execution_count": null,
   "metadata": {},
   "outputs": [],
   "source": []
  },
  {
   "cell_type": "code",
   "execution_count": null,
   "metadata": {},
   "outputs": [],
   "source": []
  },
  {
   "cell_type": "code",
   "execution_count": null,
   "metadata": {},
   "outputs": [],
   "source": []
  },
  {
   "cell_type": "code",
   "execution_count": null,
   "metadata": {},
   "outputs": [],
   "source": []
  },
  {
   "cell_type": "code",
   "execution_count": null,
   "metadata": {},
   "outputs": [],
   "source": []
  },
  {
   "cell_type": "code",
   "execution_count": null,
   "metadata": {},
   "outputs": [],
   "source": []
  },
  {
   "cell_type": "code",
   "execution_count": null,
   "metadata": {},
   "outputs": [],
   "source": []
  },
  {
   "cell_type": "code",
   "execution_count": null,
   "metadata": {},
   "outputs": [],
   "source": []
  },
  {
   "cell_type": "code",
   "execution_count": null,
   "metadata": {},
   "outputs": [],
   "source": []
  },
  {
   "cell_type": "code",
   "execution_count": null,
   "metadata": {},
   "outputs": [],
   "source": []
  },
  {
   "cell_type": "code",
   "execution_count": null,
   "metadata": {},
   "outputs": [],
   "source": []
  },
  {
   "cell_type": "code",
   "execution_count": null,
   "metadata": {},
   "outputs": [],
   "source": []
  },
  {
   "cell_type": "code",
   "execution_count": null,
   "metadata": {},
   "outputs": [],
   "source": []
  },
  {
   "cell_type": "code",
   "execution_count": null,
   "metadata": {},
   "outputs": [],
   "source": []
  },
  {
   "cell_type": "code",
   "execution_count": null,
   "metadata": {},
   "outputs": [],
   "source": []
  },
  {
   "cell_type": "code",
   "execution_count": null,
   "metadata": {},
   "outputs": [],
   "source": []
  },
  {
   "cell_type": "code",
   "execution_count": null,
   "metadata": {},
   "outputs": [],
   "source": []
  },
  {
   "cell_type": "code",
   "execution_count": null,
   "metadata": {},
   "outputs": [],
   "source": []
  },
  {
   "cell_type": "code",
   "execution_count": null,
   "metadata": {},
   "outputs": [],
   "source": []
  },
  {
   "cell_type": "code",
   "execution_count": null,
   "metadata": {},
   "outputs": [],
   "source": []
  },
  {
   "cell_type": "code",
   "execution_count": null,
   "metadata": {},
   "outputs": [],
   "source": []
  },
  {
   "cell_type": "code",
   "execution_count": null,
   "metadata": {},
   "outputs": [],
   "source": []
  },
  {
   "cell_type": "code",
   "execution_count": null,
   "metadata": {},
   "outputs": [],
   "source": []
  },
  {
   "cell_type": "code",
   "execution_count": null,
   "metadata": {},
   "outputs": [],
   "source": []
  },
  {
   "cell_type": "code",
   "execution_count": null,
   "metadata": {},
   "outputs": [],
   "source": []
  },
  {
   "cell_type": "code",
   "execution_count": null,
   "metadata": {},
   "outputs": [],
   "source": []
  },
  {
   "cell_type": "code",
   "execution_count": null,
   "metadata": {},
   "outputs": [],
   "source": []
  },
  {
   "cell_type": "code",
   "execution_count": null,
   "metadata": {},
   "outputs": [],
   "source": []
  },
  {
   "cell_type": "code",
   "execution_count": null,
   "metadata": {},
   "outputs": [],
   "source": []
  },
  {
   "cell_type": "code",
   "execution_count": null,
   "metadata": {},
   "outputs": [],
   "source": []
  },
  {
   "cell_type": "code",
   "execution_count": null,
   "metadata": {},
   "outputs": [],
   "source": []
  },
  {
   "cell_type": "code",
   "execution_count": null,
   "metadata": {},
   "outputs": [],
   "source": []
  },
  {
   "cell_type": "code",
   "execution_count": null,
   "metadata": {},
   "outputs": [],
   "source": []
  },
  {
   "cell_type": "code",
   "execution_count": null,
   "metadata": {},
   "outputs": [],
   "source": []
  },
  {
   "cell_type": "code",
   "execution_count": null,
   "metadata": {},
   "outputs": [],
   "source": []
  },
  {
   "cell_type": "code",
   "execution_count": null,
   "metadata": {},
   "outputs": [],
   "source": []
  },
  {
   "cell_type": "code",
   "execution_count": null,
   "metadata": {},
   "outputs": [],
   "source": []
  },
  {
   "cell_type": "code",
   "execution_count": null,
   "metadata": {},
   "outputs": [],
   "source": []
  },
  {
   "cell_type": "code",
   "execution_count": null,
   "metadata": {},
   "outputs": [],
   "source": []
  },
  {
   "cell_type": "code",
   "execution_count": null,
   "metadata": {},
   "outputs": [],
   "source": []
  },
  {
   "cell_type": "code",
   "execution_count": null,
   "metadata": {},
   "outputs": [],
   "source": []
  },
  {
   "cell_type": "code",
   "execution_count": null,
   "metadata": {},
   "outputs": [],
   "source": []
  },
  {
   "cell_type": "code",
   "execution_count": null,
   "metadata": {},
   "outputs": [],
   "source": []
  },
  {
   "cell_type": "code",
   "execution_count": null,
   "metadata": {},
   "outputs": [],
   "source": []
  },
  {
   "cell_type": "code",
   "execution_count": null,
   "metadata": {},
   "outputs": [],
   "source": []
  },
  {
   "cell_type": "code",
   "execution_count": null,
   "metadata": {},
   "outputs": [],
   "source": []
  },
  {
   "cell_type": "code",
   "execution_count": null,
   "metadata": {},
   "outputs": [],
   "source": []
  },
  {
   "cell_type": "code",
   "execution_count": null,
   "metadata": {},
   "outputs": [],
   "source": []
  },
  {
   "cell_type": "code",
   "execution_count": null,
   "metadata": {},
   "outputs": [],
   "source": []
  },
  {
   "cell_type": "code",
   "execution_count": null,
   "metadata": {},
   "outputs": [],
   "source": []
  },
  {
   "cell_type": "code",
   "execution_count": null,
   "metadata": {},
   "outputs": [],
   "source": []
  },
  {
   "cell_type": "code",
   "execution_count": null,
   "metadata": {},
   "outputs": [],
   "source": []
  },
  {
   "cell_type": "code",
   "execution_count": null,
   "metadata": {},
   "outputs": [],
   "source": []
  },
  {
   "cell_type": "code",
   "execution_count": null,
   "metadata": {},
   "outputs": [],
   "source": []
  },
  {
   "cell_type": "code",
   "execution_count": null,
   "metadata": {},
   "outputs": [],
   "source": []
  },
  {
   "cell_type": "code",
   "execution_count": null,
   "metadata": {},
   "outputs": [],
   "source": []
  },
  {
   "cell_type": "code",
   "execution_count": null,
   "metadata": {},
   "outputs": [],
   "source": []
  },
  {
   "cell_type": "code",
   "execution_count": null,
   "metadata": {},
   "outputs": [],
   "source": []
  },
  {
   "cell_type": "code",
   "execution_count": null,
   "metadata": {},
   "outputs": [],
   "source": []
  },
  {
   "cell_type": "code",
   "execution_count": null,
   "metadata": {},
   "outputs": [],
   "source": []
  },
  {
   "cell_type": "code",
   "execution_count": null,
   "metadata": {},
   "outputs": [],
   "source": []
  },
  {
   "cell_type": "code",
   "execution_count": null,
   "metadata": {},
   "outputs": [],
   "source": []
  },
  {
   "cell_type": "code",
   "execution_count": null,
   "metadata": {},
   "outputs": [],
   "source": []
  },
  {
   "cell_type": "code",
   "execution_count": null,
   "metadata": {},
   "outputs": [],
   "source": []
  },
  {
   "cell_type": "code",
   "execution_count": null,
   "metadata": {},
   "outputs": [],
   "source": []
  },
  {
   "cell_type": "code",
   "execution_count": null,
   "metadata": {},
   "outputs": [],
   "source": []
  },
  {
   "cell_type": "code",
   "execution_count": null,
   "metadata": {},
   "outputs": [],
   "source": []
  },
  {
   "cell_type": "code",
   "execution_count": null,
   "metadata": {},
   "outputs": [],
   "source": []
  },
  {
   "cell_type": "code",
   "execution_count": null,
   "metadata": {},
   "outputs": [],
   "source": []
  },
  {
   "cell_type": "code",
   "execution_count": null,
   "metadata": {},
   "outputs": [],
   "source": []
  },
  {
   "cell_type": "code",
   "execution_count": null,
   "metadata": {},
   "outputs": [],
   "source": []
  },
  {
   "cell_type": "code",
   "execution_count": null,
   "metadata": {},
   "outputs": [],
   "source": []
  },
  {
   "cell_type": "code",
   "execution_count": null,
   "metadata": {},
   "outputs": [],
   "source": []
  },
  {
   "cell_type": "code",
   "execution_count": null,
   "metadata": {},
   "outputs": [],
   "source": []
  },
  {
   "cell_type": "code",
   "execution_count": null,
   "metadata": {},
   "outputs": [],
   "source": []
  },
  {
   "cell_type": "code",
   "execution_count": null,
   "metadata": {},
   "outputs": [],
   "source": []
  },
  {
   "cell_type": "code",
   "execution_count": null,
   "metadata": {},
   "outputs": [],
   "source": []
  },
  {
   "cell_type": "code",
   "execution_count": null,
   "metadata": {},
   "outputs": [],
   "source": []
  },
  {
   "cell_type": "code",
   "execution_count": null,
   "metadata": {},
   "outputs": [],
   "source": []
  },
  {
   "cell_type": "code",
   "execution_count": null,
   "metadata": {},
   "outputs": [],
   "source": []
  },
  {
   "cell_type": "code",
   "execution_count": null,
   "metadata": {},
   "outputs": [],
   "source": []
  },
  {
   "cell_type": "code",
   "execution_count": null,
   "metadata": {},
   "outputs": [],
   "source": []
  },
  {
   "cell_type": "code",
   "execution_count": null,
   "metadata": {},
   "outputs": [],
   "source": []
  },
  {
   "cell_type": "code",
   "execution_count": null,
   "metadata": {},
   "outputs": [],
   "source": []
  },
  {
   "cell_type": "code",
   "execution_count": null,
   "metadata": {},
   "outputs": [],
   "source": []
  },
  {
   "cell_type": "code",
   "execution_count": null,
   "metadata": {},
   "outputs": [],
   "source": []
  },
  {
   "cell_type": "code",
   "execution_count": null,
   "metadata": {},
   "outputs": [],
   "source": []
  },
  {
   "cell_type": "code",
   "execution_count": null,
   "metadata": {},
   "outputs": [],
   "source": []
  },
  {
   "cell_type": "code",
   "execution_count": null,
   "metadata": {},
   "outputs": [],
   "source": []
  },
  {
   "cell_type": "code",
   "execution_count": null,
   "metadata": {},
   "outputs": [],
   "source": []
  },
  {
   "cell_type": "code",
   "execution_count": null,
   "metadata": {},
   "outputs": [],
   "source": []
  },
  {
   "cell_type": "code",
   "execution_count": null,
   "metadata": {},
   "outputs": [],
   "source": []
  },
  {
   "cell_type": "code",
   "execution_count": null,
   "metadata": {},
   "outputs": [],
   "source": []
  },
  {
   "cell_type": "code",
   "execution_count": null,
   "metadata": {},
   "outputs": [],
   "source": []
  },
  {
   "cell_type": "code",
   "execution_count": null,
   "metadata": {},
   "outputs": [],
   "source": []
  },
  {
   "cell_type": "code",
   "execution_count": null,
   "metadata": {},
   "outputs": [],
   "source": []
  },
  {
   "cell_type": "code",
   "execution_count": null,
   "metadata": {},
   "outputs": [],
   "source": []
  },
  {
   "cell_type": "code",
   "execution_count": null,
   "metadata": {},
   "outputs": [],
   "source": []
  },
  {
   "cell_type": "code",
   "execution_count": null,
   "metadata": {},
   "outputs": [],
   "source": []
  },
  {
   "cell_type": "code",
   "execution_count": null,
   "metadata": {},
   "outputs": [],
   "source": []
  },
  {
   "cell_type": "code",
   "execution_count": null,
   "metadata": {},
   "outputs": [],
   "source": []
  },
  {
   "cell_type": "code",
   "execution_count": null,
   "metadata": {},
   "outputs": [],
   "source": []
  },
  {
   "cell_type": "code",
   "execution_count": null,
   "metadata": {},
   "outputs": [],
   "source": []
  },
  {
   "cell_type": "code",
   "execution_count": null,
   "metadata": {},
   "outputs": [],
   "source": []
  },
  {
   "cell_type": "code",
   "execution_count": null,
   "metadata": {},
   "outputs": [],
   "source": []
  },
  {
   "cell_type": "code",
   "execution_count": null,
   "metadata": {},
   "outputs": [],
   "source": []
  },
  {
   "cell_type": "code",
   "execution_count": null,
   "metadata": {},
   "outputs": [],
   "source": []
  },
  {
   "cell_type": "code",
   "execution_count": null,
   "metadata": {},
   "outputs": [],
   "source": []
  },
  {
   "cell_type": "code",
   "execution_count": null,
   "metadata": {},
   "outputs": [],
   "source": []
  },
  {
   "cell_type": "code",
   "execution_count": null,
   "metadata": {},
   "outputs": [],
   "source": []
  },
  {
   "cell_type": "code",
   "execution_count": null,
   "metadata": {},
   "outputs": [],
   "source": []
  },
  {
   "cell_type": "code",
   "execution_count": null,
   "metadata": {},
   "outputs": [],
   "source": []
  },
  {
   "cell_type": "code",
   "execution_count": null,
   "metadata": {},
   "outputs": [],
   "source": []
  },
  {
   "cell_type": "code",
   "execution_count": null,
   "metadata": {},
   "outputs": [],
   "source": []
  },
  {
   "cell_type": "code",
   "execution_count": null,
   "metadata": {},
   "outputs": [],
   "source": []
  },
  {
   "cell_type": "code",
   "execution_count": null,
   "metadata": {},
   "outputs": [],
   "source": []
  },
  {
   "cell_type": "code",
   "execution_count": null,
   "metadata": {},
   "outputs": [],
   "source": []
  },
  {
   "cell_type": "code",
   "execution_count": null,
   "metadata": {},
   "outputs": [],
   "source": []
  },
  {
   "cell_type": "code",
   "execution_count": null,
   "metadata": {},
   "outputs": [],
   "source": []
  },
  {
   "cell_type": "code",
   "execution_count": null,
   "metadata": {},
   "outputs": [],
   "source": []
  },
  {
   "cell_type": "code",
   "execution_count": null,
   "metadata": {},
   "outputs": [],
   "source": []
  },
  {
   "cell_type": "code",
   "execution_count": null,
   "metadata": {},
   "outputs": [],
   "source": []
  },
  {
   "cell_type": "code",
   "execution_count": null,
   "metadata": {},
   "outputs": [],
   "source": []
  },
  {
   "cell_type": "code",
   "execution_count": null,
   "metadata": {},
   "outputs": [],
   "source": []
  },
  {
   "cell_type": "code",
   "execution_count": null,
   "metadata": {},
   "outputs": [],
   "source": []
  },
  {
   "cell_type": "code",
   "execution_count": null,
   "metadata": {},
   "outputs": [],
   "source": []
  },
  {
   "cell_type": "code",
   "execution_count": null,
   "metadata": {},
   "outputs": [],
   "source": []
  },
  {
   "cell_type": "code",
   "execution_count": null,
   "metadata": {},
   "outputs": [],
   "source": []
  },
  {
   "cell_type": "code",
   "execution_count": null,
   "metadata": {},
   "outputs": [],
   "source": []
  },
  {
   "cell_type": "code",
   "execution_count": null,
   "metadata": {},
   "outputs": [],
   "source": []
  },
  {
   "cell_type": "code",
   "execution_count": null,
   "metadata": {},
   "outputs": [],
   "source": []
  },
  {
   "cell_type": "code",
   "execution_count": null,
   "metadata": {},
   "outputs": [],
   "source": []
  },
  {
   "cell_type": "code",
   "execution_count": null,
   "metadata": {},
   "outputs": [],
   "source": []
  },
  {
   "cell_type": "code",
   "execution_count": null,
   "metadata": {},
   "outputs": [],
   "source": []
  },
  {
   "cell_type": "code",
   "execution_count": null,
   "metadata": {},
   "outputs": [],
   "source": []
  },
  {
   "cell_type": "code",
   "execution_count": null,
   "metadata": {},
   "outputs": [],
   "source": []
  },
  {
   "cell_type": "code",
   "execution_count": null,
   "metadata": {},
   "outputs": [],
   "source": []
  },
  {
   "cell_type": "code",
   "execution_count": null,
   "metadata": {},
   "outputs": [],
   "source": []
  },
  {
   "cell_type": "code",
   "execution_count": null,
   "metadata": {},
   "outputs": [],
   "source": []
  },
  {
   "cell_type": "code",
   "execution_count": null,
   "metadata": {},
   "outputs": [],
   "source": []
  },
  {
   "cell_type": "code",
   "execution_count": null,
   "metadata": {},
   "outputs": [],
   "source": []
  },
  {
   "cell_type": "code",
   "execution_count": null,
   "metadata": {},
   "outputs": [],
   "source": []
  },
  {
   "cell_type": "code",
   "execution_count": null,
   "metadata": {},
   "outputs": [],
   "source": []
  },
  {
   "cell_type": "code",
   "execution_count": null,
   "metadata": {},
   "outputs": [],
   "source": []
  },
  {
   "cell_type": "code",
   "execution_count": null,
   "metadata": {},
   "outputs": [],
   "source": []
  },
  {
   "cell_type": "code",
   "execution_count": null,
   "metadata": {},
   "outputs": [],
   "source": []
  },
  {
   "cell_type": "code",
   "execution_count": null,
   "metadata": {},
   "outputs": [],
   "source": []
  },
  {
   "cell_type": "code",
   "execution_count": null,
   "metadata": {},
   "outputs": [],
   "source": []
  },
  {
   "cell_type": "code",
   "execution_count": null,
   "metadata": {},
   "outputs": [],
   "source": []
  },
  {
   "cell_type": "code",
   "execution_count": null,
   "metadata": {},
   "outputs": [],
   "source": []
  },
  {
   "cell_type": "code",
   "execution_count": null,
   "metadata": {},
   "outputs": [],
   "source": []
  },
  {
   "cell_type": "code",
   "execution_count": null,
   "metadata": {},
   "outputs": [],
   "source": []
  },
  {
   "cell_type": "code",
   "execution_count": null,
   "metadata": {},
   "outputs": [],
   "source": []
  },
  {
   "cell_type": "code",
   "execution_count": null,
   "metadata": {},
   "outputs": [],
   "source": []
  },
  {
   "cell_type": "code",
   "execution_count": null,
   "metadata": {},
   "outputs": [],
   "source": []
  },
  {
   "cell_type": "code",
   "execution_count": null,
   "metadata": {},
   "outputs": [],
   "source": []
  },
  {
   "cell_type": "code",
   "execution_count": null,
   "metadata": {},
   "outputs": [],
   "source": []
  },
  {
   "cell_type": "code",
   "execution_count": null,
   "metadata": {},
   "outputs": [],
   "source": []
  },
  {
   "cell_type": "code",
   "execution_count": null,
   "metadata": {},
   "outputs": [],
   "source": []
  },
  {
   "cell_type": "code",
   "execution_count": null,
   "metadata": {},
   "outputs": [],
   "source": []
  },
  {
   "cell_type": "code",
   "execution_count": null,
   "metadata": {},
   "outputs": [],
   "source": []
  },
  {
   "cell_type": "code",
   "execution_count": null,
   "metadata": {},
   "outputs": [],
   "source": []
  },
  {
   "cell_type": "code",
   "execution_count": null,
   "metadata": {},
   "outputs": [],
   "source": []
  },
  {
   "cell_type": "code",
   "execution_count": null,
   "metadata": {},
   "outputs": [],
   "source": []
  },
  {
   "cell_type": "code",
   "execution_count": null,
   "metadata": {},
   "outputs": [],
   "source": []
  },
  {
   "cell_type": "code",
   "execution_count": null,
   "metadata": {},
   "outputs": [],
   "source": []
  },
  {
   "cell_type": "code",
   "execution_count": null,
   "metadata": {},
   "outputs": [],
   "source": []
  },
  {
   "cell_type": "code",
   "execution_count": null,
   "metadata": {},
   "outputs": [],
   "source": []
  },
  {
   "cell_type": "code",
   "execution_count": null,
   "metadata": {},
   "outputs": [],
   "source": []
  },
  {
   "cell_type": "code",
   "execution_count": null,
   "metadata": {},
   "outputs": [],
   "source": []
  },
  {
   "cell_type": "code",
   "execution_count": null,
   "metadata": {},
   "outputs": [],
   "source": []
  },
  {
   "cell_type": "code",
   "execution_count": null,
   "metadata": {},
   "outputs": [],
   "source": []
  },
  {
   "cell_type": "code",
   "execution_count": null,
   "metadata": {},
   "outputs": [],
   "source": []
  },
  {
   "cell_type": "code",
   "execution_count": null,
   "metadata": {},
   "outputs": [],
   "source": []
  },
  {
   "cell_type": "code",
   "execution_count": null,
   "metadata": {},
   "outputs": [],
   "source": []
  },
  {
   "cell_type": "code",
   "execution_count": null,
   "metadata": {},
   "outputs": [],
   "source": []
  },
  {
   "cell_type": "code",
   "execution_count": null,
   "metadata": {},
   "outputs": [],
   "source": []
  },
  {
   "cell_type": "code",
   "execution_count": null,
   "metadata": {},
   "outputs": [],
   "source": []
  },
  {
   "cell_type": "code",
   "execution_count": null,
   "metadata": {},
   "outputs": [],
   "source": []
  },
  {
   "cell_type": "code",
   "execution_count": null,
   "metadata": {},
   "outputs": [],
   "source": []
  },
  {
   "cell_type": "code",
   "execution_count": null,
   "metadata": {},
   "outputs": [],
   "source": []
  },
  {
   "cell_type": "code",
   "execution_count": null,
   "metadata": {},
   "outputs": [],
   "source": []
  },
  {
   "cell_type": "code",
   "execution_count": null,
   "metadata": {},
   "outputs": [],
   "source": []
  },
  {
   "cell_type": "code",
   "execution_count": null,
   "metadata": {},
   "outputs": [],
   "source": []
  },
  {
   "cell_type": "code",
   "execution_count": null,
   "metadata": {},
   "outputs": [],
   "source": []
  },
  {
   "cell_type": "code",
   "execution_count": null,
   "metadata": {},
   "outputs": [],
   "source": []
  },
  {
   "cell_type": "code",
   "execution_count": null,
   "metadata": {},
   "outputs": [],
   "source": []
  },
  {
   "cell_type": "code",
   "execution_count": null,
   "metadata": {},
   "outputs": [],
   "source": []
  },
  {
   "cell_type": "code",
   "execution_count": null,
   "metadata": {},
   "outputs": [],
   "source": []
  },
  {
   "cell_type": "code",
   "execution_count": null,
   "metadata": {},
   "outputs": [],
   "source": []
  },
  {
   "cell_type": "code",
   "execution_count": null,
   "metadata": {},
   "outputs": [],
   "source": []
  },
  {
   "cell_type": "code",
   "execution_count": null,
   "metadata": {},
   "outputs": [],
   "source": []
  },
  {
   "cell_type": "code",
   "execution_count": null,
   "metadata": {},
   "outputs": [],
   "source": []
  },
  {
   "cell_type": "code",
   "execution_count": null,
   "metadata": {},
   "outputs": [],
   "source": []
  },
  {
   "cell_type": "code",
   "execution_count": null,
   "metadata": {},
   "outputs": [],
   "source": []
  },
  {
   "cell_type": "code",
   "execution_count": null,
   "metadata": {},
   "outputs": [],
   "source": []
  },
  {
   "cell_type": "code",
   "execution_count": null,
   "metadata": {},
   "outputs": [],
   "source": []
  },
  {
   "cell_type": "code",
   "execution_count": null,
   "metadata": {},
   "outputs": [],
   "source": []
  },
  {
   "cell_type": "code",
   "execution_count": null,
   "metadata": {},
   "outputs": [],
   "source": []
  },
  {
   "cell_type": "code",
   "execution_count": null,
   "metadata": {},
   "outputs": [],
   "source": []
  },
  {
   "cell_type": "code",
   "execution_count": null,
   "metadata": {},
   "outputs": [],
   "source": []
  },
  {
   "cell_type": "code",
   "execution_count": null,
   "metadata": {},
   "outputs": [],
   "source": []
  },
  {
   "cell_type": "code",
   "execution_count": null,
   "metadata": {},
   "outputs": [],
   "source": []
  },
  {
   "cell_type": "code",
   "execution_count": null,
   "metadata": {},
   "outputs": [],
   "source": []
  },
  {
   "cell_type": "code",
   "execution_count": null,
   "metadata": {},
   "outputs": [],
   "source": []
  },
  {
   "cell_type": "code",
   "execution_count": null,
   "metadata": {},
   "outputs": [],
   "source": []
  },
  {
   "cell_type": "code",
   "execution_count": null,
   "metadata": {},
   "outputs": [],
   "source": []
  },
  {
   "cell_type": "code",
   "execution_count": null,
   "metadata": {},
   "outputs": [],
   "source": []
  },
  {
   "cell_type": "code",
   "execution_count": null,
   "metadata": {},
   "outputs": [],
   "source": []
  },
  {
   "cell_type": "code",
   "execution_count": null,
   "metadata": {},
   "outputs": [],
   "source": []
  },
  {
   "cell_type": "code",
   "execution_count": null,
   "metadata": {},
   "outputs": [],
   "source": []
  },
  {
   "cell_type": "code",
   "execution_count": null,
   "metadata": {},
   "outputs": [],
   "source": []
  },
  {
   "cell_type": "code",
   "execution_count": null,
   "metadata": {},
   "outputs": [],
   "source": []
  },
  {
   "cell_type": "code",
   "execution_count": null,
   "metadata": {},
   "outputs": [],
   "source": []
  },
  {
   "cell_type": "code",
   "execution_count": null,
   "metadata": {},
   "outputs": [],
   "source": []
  },
  {
   "cell_type": "code",
   "execution_count": null,
   "metadata": {},
   "outputs": [],
   "source": []
  },
  {
   "cell_type": "code",
   "execution_count": null,
   "metadata": {},
   "outputs": [],
   "source": []
  },
  {
   "cell_type": "code",
   "execution_count": null,
   "metadata": {},
   "outputs": [],
   "source": []
  },
  {
   "cell_type": "code",
   "execution_count": null,
   "metadata": {},
   "outputs": [],
   "source": []
  },
  {
   "cell_type": "code",
   "execution_count": null,
   "metadata": {},
   "outputs": [],
   "source": []
  },
  {
   "cell_type": "code",
   "execution_count": null,
   "metadata": {},
   "outputs": [],
   "source": []
  },
  {
   "cell_type": "code",
   "execution_count": null,
   "metadata": {},
   "outputs": [],
   "source": []
  },
  {
   "cell_type": "code",
   "execution_count": null,
   "metadata": {},
   "outputs": [],
   "source": []
  },
  {
   "cell_type": "code",
   "execution_count": null,
   "metadata": {},
   "outputs": [],
   "source": []
  },
  {
   "cell_type": "code",
   "execution_count": null,
   "metadata": {},
   "outputs": [],
   "source": []
  },
  {
   "cell_type": "code",
   "execution_count": null,
   "metadata": {},
   "outputs": [],
   "source": []
  },
  {
   "cell_type": "code",
   "execution_count": null,
   "metadata": {},
   "outputs": [],
   "source": []
  },
  {
   "cell_type": "code",
   "execution_count": null,
   "metadata": {},
   "outputs": [],
   "source": []
  },
  {
   "cell_type": "code",
   "execution_count": null,
   "metadata": {},
   "outputs": [],
   "source": []
  },
  {
   "cell_type": "code",
   "execution_count": null,
   "metadata": {},
   "outputs": [],
   "source": []
  },
  {
   "cell_type": "code",
   "execution_count": null,
   "metadata": {},
   "outputs": [],
   "source": []
  },
  {
   "cell_type": "code",
   "execution_count": null,
   "metadata": {},
   "outputs": [],
   "source": []
  },
  {
   "cell_type": "code",
   "execution_count": null,
   "metadata": {},
   "outputs": [],
   "source": []
  },
  {
   "cell_type": "code",
   "execution_count": null,
   "metadata": {},
   "outputs": [],
   "source": []
  },
  {
   "cell_type": "code",
   "execution_count": null,
   "metadata": {},
   "outputs": [],
   "source": []
  },
  {
   "cell_type": "code",
   "execution_count": null,
   "metadata": {},
   "outputs": [],
   "source": []
  },
  {
   "cell_type": "code",
   "execution_count": null,
   "metadata": {},
   "outputs": [],
   "source": []
  },
  {
   "cell_type": "code",
   "execution_count": null,
   "metadata": {},
   "outputs": [],
   "source": []
  },
  {
   "cell_type": "code",
   "execution_count": null,
   "metadata": {},
   "outputs": [],
   "source": []
  },
  {
   "cell_type": "code",
   "execution_count": null,
   "metadata": {},
   "outputs": [],
   "source": []
  },
  {
   "cell_type": "code",
   "execution_count": null,
   "metadata": {},
   "outputs": [],
   "source": []
  },
  {
   "cell_type": "code",
   "execution_count": null,
   "metadata": {},
   "outputs": [],
   "source": []
  },
  {
   "cell_type": "code",
   "execution_count": null,
   "metadata": {},
   "outputs": [],
   "source": []
  },
  {
   "cell_type": "code",
   "execution_count": null,
   "metadata": {},
   "outputs": [],
   "source": []
  },
  {
   "cell_type": "code",
   "execution_count": null,
   "metadata": {},
   "outputs": [],
   "source": []
  },
  {
   "cell_type": "code",
   "execution_count": null,
   "metadata": {},
   "outputs": [],
   "source": []
  },
  {
   "cell_type": "code",
   "execution_count": null,
   "metadata": {},
   "outputs": [],
   "source": []
  },
  {
   "cell_type": "code",
   "execution_count": null,
   "metadata": {},
   "outputs": [],
   "source": []
  },
  {
   "cell_type": "code",
   "execution_count": null,
   "metadata": {},
   "outputs": [],
   "source": []
  },
  {
   "cell_type": "code",
   "execution_count": null,
   "metadata": {},
   "outputs": [],
   "source": []
  },
  {
   "cell_type": "code",
   "execution_count": null,
   "metadata": {},
   "outputs": [],
   "source": []
  },
  {
   "cell_type": "code",
   "execution_count": null,
   "metadata": {},
   "outputs": [],
   "source": []
  },
  {
   "cell_type": "code",
   "execution_count": null,
   "metadata": {},
   "outputs": [],
   "source": []
  },
  {
   "cell_type": "code",
   "execution_count": null,
   "metadata": {},
   "outputs": [],
   "source": []
  },
  {
   "cell_type": "code",
   "execution_count": null,
   "metadata": {},
   "outputs": [],
   "source": []
  },
  {
   "cell_type": "code",
   "execution_count": null,
   "metadata": {},
   "outputs": [],
   "source": []
  },
  {
   "cell_type": "code",
   "execution_count": null,
   "metadata": {},
   "outputs": [],
   "source": []
  },
  {
   "cell_type": "code",
   "execution_count": null,
   "metadata": {},
   "outputs": [],
   "source": []
  },
  {
   "cell_type": "code",
   "execution_count": null,
   "metadata": {},
   "outputs": [],
   "source": []
  },
  {
   "cell_type": "code",
   "execution_count": null,
   "metadata": {},
   "outputs": [],
   "source": []
  },
  {
   "cell_type": "code",
   "execution_count": null,
   "metadata": {},
   "outputs": [],
   "source": []
  },
  {
   "cell_type": "code",
   "execution_count": null,
   "metadata": {},
   "outputs": [],
   "source": []
  },
  {
   "cell_type": "code",
   "execution_count": null,
   "metadata": {},
   "outputs": [],
   "source": []
  },
  {
   "cell_type": "code",
   "execution_count": null,
   "metadata": {},
   "outputs": [],
   "source": []
  },
  {
   "cell_type": "code",
   "execution_count": null,
   "metadata": {},
   "outputs": [],
   "source": []
  },
  {
   "cell_type": "code",
   "execution_count": null,
   "metadata": {},
   "outputs": [],
   "source": []
  },
  {
   "cell_type": "code",
   "execution_count": null,
   "metadata": {},
   "outputs": [],
   "source": []
  },
  {
   "cell_type": "code",
   "execution_count": null,
   "metadata": {},
   "outputs": [],
   "source": []
  },
  {
   "cell_type": "code",
   "execution_count": null,
   "metadata": {},
   "outputs": [],
   "source": []
  },
  {
   "cell_type": "code",
   "execution_count": null,
   "metadata": {},
   "outputs": [],
   "source": []
  },
  {
   "cell_type": "code",
   "execution_count": null,
   "metadata": {},
   "outputs": [],
   "source": []
  },
  {
   "cell_type": "code",
   "execution_count": null,
   "metadata": {},
   "outputs": [],
   "source": []
  },
  {
   "cell_type": "code",
   "execution_count": null,
   "metadata": {},
   "outputs": [],
   "source": []
  },
  {
   "cell_type": "code",
   "execution_count": null,
   "metadata": {},
   "outputs": [],
   "source": []
  },
  {
   "cell_type": "code",
   "execution_count": null,
   "metadata": {},
   "outputs": [],
   "source": []
  },
  {
   "cell_type": "code",
   "execution_count": null,
   "metadata": {},
   "outputs": [],
   "source": []
  },
  {
   "cell_type": "code",
   "execution_count": null,
   "metadata": {},
   "outputs": [],
   "source": []
  },
  {
   "cell_type": "code",
   "execution_count": null,
   "metadata": {},
   "outputs": [],
   "source": []
  },
  {
   "cell_type": "code",
   "execution_count": null,
   "metadata": {},
   "outputs": [],
   "source": []
  },
  {
   "cell_type": "code",
   "execution_count": null,
   "metadata": {},
   "outputs": [],
   "source": []
  },
  {
   "cell_type": "code",
   "execution_count": null,
   "metadata": {},
   "outputs": [],
   "source": []
  },
  {
   "cell_type": "code",
   "execution_count": null,
   "metadata": {},
   "outputs": [],
   "source": []
  },
  {
   "cell_type": "code",
   "execution_count": null,
   "metadata": {},
   "outputs": [],
   "source": []
  },
  {
   "cell_type": "code",
   "execution_count": null,
   "metadata": {},
   "outputs": [],
   "source": []
  },
  {
   "cell_type": "code",
   "execution_count": null,
   "metadata": {},
   "outputs": [],
   "source": []
  },
  {
   "cell_type": "code",
   "execution_count": null,
   "metadata": {},
   "outputs": [],
   "source": []
  },
  {
   "cell_type": "code",
   "execution_count": null,
   "metadata": {},
   "outputs": [],
   "source": []
  },
  {
   "cell_type": "code",
   "execution_count": null,
   "metadata": {},
   "outputs": [],
   "source": []
  },
  {
   "cell_type": "code",
   "execution_count": null,
   "metadata": {},
   "outputs": [],
   "source": []
  },
  {
   "cell_type": "code",
   "execution_count": null,
   "metadata": {},
   "outputs": [],
   "source": []
  },
  {
   "cell_type": "code",
   "execution_count": null,
   "metadata": {},
   "outputs": [],
   "source": []
  },
  {
   "cell_type": "code",
   "execution_count": null,
   "metadata": {},
   "outputs": [],
   "source": []
  },
  {
   "cell_type": "code",
   "execution_count": null,
   "metadata": {},
   "outputs": [],
   "source": []
  },
  {
   "cell_type": "code",
   "execution_count": null,
   "metadata": {},
   "outputs": [],
   "source": []
  },
  {
   "cell_type": "code",
   "execution_count": null,
   "metadata": {},
   "outputs": [],
   "source": []
  },
  {
   "cell_type": "code",
   "execution_count": null,
   "metadata": {},
   "outputs": [],
   "source": []
  },
  {
   "cell_type": "code",
   "execution_count": null,
   "metadata": {},
   "outputs": [],
   "source": []
  },
  {
   "cell_type": "code",
   "execution_count": null,
   "metadata": {},
   "outputs": [],
   "source": []
  },
  {
   "cell_type": "code",
   "execution_count": null,
   "metadata": {},
   "outputs": [],
   "source": []
  },
  {
   "cell_type": "code",
   "execution_count": null,
   "metadata": {},
   "outputs": [],
   "source": []
  },
  {
   "cell_type": "code",
   "execution_count": null,
   "metadata": {},
   "outputs": [],
   "source": []
  },
  {
   "cell_type": "code",
   "execution_count": null,
   "metadata": {},
   "outputs": [],
   "source": []
  },
  {
   "cell_type": "code",
   "execution_count": null,
   "metadata": {},
   "outputs": [],
   "source": []
  },
  {
   "cell_type": "code",
   "execution_count": null,
   "metadata": {},
   "outputs": [],
   "source": []
  },
  {
   "cell_type": "code",
   "execution_count": null,
   "metadata": {},
   "outputs": [],
   "source": []
  },
  {
   "cell_type": "code",
   "execution_count": null,
   "metadata": {},
   "outputs": [],
   "source": []
  },
  {
   "cell_type": "code",
   "execution_count": null,
   "metadata": {},
   "outputs": [],
   "source": []
  },
  {
   "cell_type": "code",
   "execution_count": null,
   "metadata": {},
   "outputs": [],
   "source": []
  },
  {
   "cell_type": "code",
   "execution_count": null,
   "metadata": {},
   "outputs": [],
   "source": []
  },
  {
   "cell_type": "code",
   "execution_count": null,
   "metadata": {},
   "outputs": [],
   "source": []
  },
  {
   "cell_type": "code",
   "execution_count": null,
   "metadata": {},
   "outputs": [],
   "source": []
  },
  {
   "cell_type": "code",
   "execution_count": null,
   "metadata": {},
   "outputs": [],
   "source": []
  },
  {
   "cell_type": "code",
   "execution_count": null,
   "metadata": {},
   "outputs": [],
   "source": []
  },
  {
   "cell_type": "code",
   "execution_count": null,
   "metadata": {},
   "outputs": [],
   "source": []
  },
  {
   "cell_type": "code",
   "execution_count": null,
   "metadata": {},
   "outputs": [],
   "source": []
  },
  {
   "cell_type": "code",
   "execution_count": null,
   "metadata": {},
   "outputs": [],
   "source": []
  },
  {
   "cell_type": "code",
   "execution_count": null,
   "metadata": {},
   "outputs": [],
   "source": []
  },
  {
   "cell_type": "code",
   "execution_count": null,
   "metadata": {},
   "outputs": [],
   "source": []
  },
  {
   "cell_type": "code",
   "execution_count": null,
   "metadata": {},
   "outputs": [],
   "source": []
  },
  {
   "cell_type": "code",
   "execution_count": null,
   "metadata": {},
   "outputs": [],
   "source": []
  },
  {
   "cell_type": "code",
   "execution_count": null,
   "metadata": {},
   "outputs": [],
   "source": []
  },
  {
   "cell_type": "code",
   "execution_count": null,
   "metadata": {},
   "outputs": [],
   "source": []
  }
 ],
 "metadata": {
  "kernelspec": {
   "display_name": "Python 3",
   "language": "python",
   "name": "python3"
  },
  "language_info": {
   "codemirror_mode": {
    "name": "ipython",
    "version": 3
   },
   "file_extension": ".py",
   "mimetype": "text/x-python",
   "name": "python",
   "nbconvert_exporter": "python",
   "pygments_lexer": "ipython3",
   "version": "3.6.8"
  }
 },
 "nbformat": 4,
 "nbformat_minor": 2
}
